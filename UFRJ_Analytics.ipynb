{
  "cells": [
    {
      "cell_type": "markdown",
      "source": [
        "\n",
        "#O consumo de Energia elétrica no Rio de Janeiro"
      ],
      "metadata": {
        "id": "is6KYfzdaNMs"
      },
      "id": "is6KYfzdaNMs"
    },
    {
      "cell_type": "markdown",
      "source": [
        "Nome: Gustavo Felicidade da Costa\n",
        "DRE: 118171109\n",
        "\n",
        "##UFRJ Analytica - Processo Seletivo 2023"
      ],
      "metadata": {
        "id": "LKKRoMoNaNHZ"
      },
      "id": "LKKRoMoNaNHZ"
    },
    {
      "cell_type": "markdown",
      "source": [
        "\n",
        "O consumo de energia elétrica é um tema relevante para entendermos\n",
        "a infraestrutura e as necessidades energéticas do Rio de Janeiro.\n",
        "Com a crescente demanda por energia elétrica nas últimas décadas,\n",
        "é importante analisarmos como esse consumo evoluiu ao longo do tempo.\n",
        "A partir dos dados disponibilizados pela Base dos Dados em https://www.data.rio/, é possível\n",
        "realizar uma análise exploratória que permita compreender o consumo\n",
        "de energia elétrica na cidade do Rio de Janeiro.\n"
      ],
      "metadata": {
        "id": "rGL5tvqnunvi"
      },
      "id": "rGL5tvqnunvi"
    },
    {
      "cell_type": "markdown",
      "source": [
        "# Dataset"
      ],
      "metadata": {
        "id": "sReSM-Ixuu68"
      },
      "id": "sReSM-Ixuu68"
    },
    {
      "cell_type": "markdown",
      "source": [
        "Nossos dados foram extraídos do datario.com\n",
        "\n",
        "Os seguintes arquivos .csv são filtrados pela chave 'Elétrica' \n",
        "no contexto do Município do Rio de Janeiro:\n",
        "    \n",
        "    1 Tabela 1686 - Consumo total mensal de energia elétrica, segundo classe de serviço - Município do Rio de Janeiro - 2019\n",
        "    url = https://www.data.rio/documents/7c4d6a17d1c94ccf8c652488318d691b/about\n",
        "\n",
        "    2 Tabela 1687 - Total mensal de unidades consumidoras de energia elétrica, por classe de consumo, no Município do Rio de Janeiro em 2019\n",
        "    url = https://www.data.rio/documents/c89710cd395b495a999ac84399fcc884/about\n",
        "\n"
      ],
      "metadata": {
        "id": "h8pX_p3tu7Y8"
      },
      "id": "h8pX_p3tu7Y8"
    },
    {
      "cell_type": "code",
      "source": [
        "from google.colab import drive\n",
        "drive.mount('/content/drive')"
      ],
      "metadata": {
        "id": "Pg-5nhuVTuxL",
        "colab": {
          "base_uri": "https://localhost:8080/"
        },
        "outputId": "4fc310c1-7279-4534-f360-4aee06ae532c"
      },
      "id": "Pg-5nhuVTuxL",
      "execution_count": 1,
      "outputs": [
        {
          "output_type": "stream",
          "name": "stdout",
          "text": [
            "Mounted at /content/drive\n"
          ]
        }
      ]
    },
    {
      "cell_type": "code",
      "execution_count": 2,
      "id": "81945539",
      "metadata": {
        "id": "81945539"
      },
      "outputs": [],
      "source": [
        "import os\n",
        "import csv\n",
        "import pandas as pd\n",
        "import numpy as np\n",
        "import logging\n",
        "import time\n",
        "import matplotlib\n",
        "import matplotlib.pyplot as plt\n",
        "import plotly.graph_objs as go\n",
        "import plotly.io as pio\n",
        "from plotly.subplots import make_subplots\n",
        "\n",
        "\n",
        "from tensorflow import keras\n",
        "from keras.preprocessing.text import Tokenizer\n",
        "from keras.utils import pad_sequences\n",
        "from keras.models import Sequential\n",
        "from keras.layers import Embedding, LSTM, Dense, Dropout\n",
        "from keras.callbacks import EarlyStopping\n",
        "\n",
        "from sklearn.metrics import accuracy_score, f1_score\n"
      ]
    },
    {
      "cell_type": "markdown",
      "source": [
        "# Configurando Log"
      ],
      "metadata": {
        "id": "MGQiVZdSvBjt"
      },
      "id": "MGQiVZdSvBjt"
    },
    {
      "cell_type": "code",
      "source": [
        "\n",
        "logging.basicConfig(level=logging.INFO)\n",
        "logger = logging.getLogger(__name__)"
      ],
      "metadata": {
        "id": "Kasl3f_VYCQU"
      },
      "id": "Kasl3f_VYCQU",
      "execution_count": 3,
      "outputs": []
    },
    {
      "cell_type": "markdown",
      "source": [
        "# Tratamento dos Dados"
      ],
      "metadata": {
        "id": "vqSob7T2vFnV"
      },
      "id": "vqSob7T2vFnV"
    },
    {
      "cell_type": "code",
      "source": [
        "# Ler a página \"2002\" do arquivo\n",
        "# Tabela 1686 - Consumo total mensal de energia elétrica, segundo classe de\n",
        "# serviço - Município do Rio de Janeiro - 2019\n",
        "df1 = pd.read_excel(\n",
        "    r\"/content/drive/MyDrive/Colab Notebooks/1686.xls\",\n",
        "    sheet_name=\"2002\", header=6, skiprows=2, nrows=12)\n",
        "\n",
        "# Ler a página \"T 2257\" do arquivo\n",
        "# \"Tabela 2257 - Consumo total, médio anual, mensal e diário\n",
        "# de energia elétrica por habitante no Município do Rio de Janeiro\n",
        "# entre  1980-2019\"\n",
        "df2 = pd.read_excel(\n",
        "    r\"/content/drive/MyDrive/Colab Notebooks/2257.xls\",\n",
        "        sheet_name=\"T 2257\", header=6, skiprows=1, nrows=40)\n",
        "\n",
        "# Imprimir os DataFrames\n",
        "# print(\"Tabela 2257 - Consumo total, médio anual, mensal e diário \\n de\n",
        "# energia elétrica por habitante no Município do Rio de Janeiro entre  1980-2019\")\n",
        "# print(df2)\n"
      ],
      "metadata": {
        "id": "LEjXUa7SSGG6"
      },
      "id": "LEjXUa7SSGG6",
      "execution_count": 4,
      "outputs": []
    },
    {
      "cell_type": "markdown",
      "source": [
        "Extraindo Dataframe: Como o arquivo .xls vem com informações \n",
        "além da tabela precisamos extrair o dataframe antes de analisá-los.\n",
        "\n",
        "\n",
        "A função collect_dataframes fará esta extração retornando o dataframe armazenado em lista.\n",
        "\n",
        "Note que o laço de repetição itera sobre os anos e assim obtemos os dataframes de cada aba:\n"
      ],
      "metadata": {
        "id": "FbSVziK7vJmy"
      },
      "id": "FbSVziK7vJmy"
    },
    {
      "cell_type": "code",
      "source": [
        "def collect_dataframes(file_path):\n",
        "    # criar uma lista vazia para armazenar os dataframes de cada ano\n",
        "    df_list = []\n",
        "    # percorrer os anos de 2002 a 2019\n",
        "    for year in range(2002, 2020):\n",
        "        # criar o nome da sheet com base no ano\n",
        "        sheet_name = str(year)\n",
        "        # ler o dataframe da sheet especificada\n",
        "        df = pd.read_excel(file_path, index_col=0, sheet_name=sheet_name, header=6, skiprows=2, nrows=12)\n",
        "        # adicionar o dataframe à lista\n",
        "        df_list.append(df)\n",
        "    # retornar a lista de dataframes\n",
        "    return df_list\n"
      ],
      "metadata": {
        "id": "A6SIduROWJP-"
      },
      "id": "A6SIduROWJP-",
      "execution_count": 5,
      "outputs": []
    },
    {
      "cell_type": "markdown",
      "source": [
        "# Usaremos a função collect_dataframes para extrair as tabelas referentes\n",
        "# ao consumo mensal de energia elétrica, segundo classe de serviço no \n",
        "# Municipio do Rio de Janeiro - 2002 até 2019\n"
      ],
      "metadata": {
        "id": "EWBMb3ydvMp3"
      },
      "id": "EWBMb3ydvMp3"
    },
    {
      "cell_type": "code",
      "source": [
        "file_path = r\"/content/drive/MyDrive/Colab Notebooks/1686.xls\"\n",
        "df_list = collect_dataframes(file_path)\n",
        "print(type(df_list))\n",
        "\n",
        "# Extração de amostra do ano de 2002:\n",
        "df_2002 = df_list[0]\n",
        "print(type(df_2002))"
      ],
      "metadata": {
        "id": "X44Px8NGWJW0",
        "colab": {
          "base_uri": "https://localhost:8080/"
        },
        "outputId": "00014ab4-6112-45e8-c0a2-dceb939b3070"
      },
      "id": "X44Px8NGWJW0",
      "execution_count": 6,
      "outputs": [
        {
          "output_type": "stream",
          "name": "stdout",
          "text": [
            "<class 'list'>\n",
            "<class 'pandas.core.frame.DataFrame'>\n"
          ]
        }
      ]
    },
    {
      "cell_type": "code",
      "source": [
        "\n",
        "# logger.info(f\"df_list: {df_list}\")\n",
        "#\n",
        "# logger.info(f\"df_2002: {df_2002}\")\n"
      ],
      "metadata": {
        "id": "cC-cqu5DWJd7"
      },
      "id": "cC-cqu5DWJd7",
      "execution_count": 7,
      "outputs": []
    },
    {
      "cell_type": "markdown",
      "source": [
        "Vamos selecionar a coluna referente ao total de consumo por mês;\n",
        "\n",
        "Para isso a função  print_second_column é definida como:"
      ],
      "metadata": {
        "id": "BwJd5tXdWn5r"
      },
      "id": "BwJd5tXdWn5r"
    },
    {
      "cell_type": "code",
      "source": [
        "def print_second_column(df_list):\n",
        "    # percorrer cada dataframe na lista\n",
        "    for df in df_list:\n",
        "        # selecionar a segunda coluna e imprimir\n",
        "        print(df.iloc[:, ])"
      ],
      "metadata": {
        "id": "NTCU17TXWJlD"
      },
      "id": "NTCU17TXWJlD",
      "execution_count": 8,
      "outputs": []
    },
    {
      "cell_type": "markdown",
      "source": [
        "vejamos a coluna referente ao total de consumo mensal - MWh -  ao longos anos de 2002 até 2019:"
      ],
      "metadata": {
        "id": "XPe1rj35WsRi"
      },
      "id": "XPe1rj35WsRi"
    },
    {
      "cell_type": "code",
      "source": [
        "# print_second_column(df_list)\n"
      ],
      "metadata": {
        "id": "S4tcjLmTWJsb"
      },
      "id": "S4tcjLmTWJsb",
      "execution_count": 9,
      "outputs": []
    },
    {
      "cell_type": "markdown",
      "source": [
        "# A Função Consumo Mensal \n",
        "Extração das colunas por consumo ao longo dos anos."
      ],
      "metadata": {
        "id": "_b6zNnzNWw1y"
      },
      "id": "_b6zNnzNWw1y"
    },
    {
      "cell_type": "code",
      "source": [
        "# Tabela 1686\n",
        "# Tabela 1686 - Consumo mensal de energia elétrica, segundo classe de serviço -\n",
        "# Municipio do Rio de Janeiro - 2002 a 2019\n",
        "def consumo_mensal(df_list):\n",
        "   \n",
        "    # percorrer cada dataframe na lista e extraindo \n",
        "    # colunas individualmente\n",
        "\n",
        "    # Coluna Consumo Total\n",
        "    consumo_total = []\n",
        "    # Coluna Consumo Residencial\n",
        "    consumo_residencial = []\n",
        "    # Coluna Consumo Insdutrial\n",
        "    consumo_industrial = []    \n",
        "    # Coluna Consumo Comercial\n",
        "    consumo_comercial = []\n",
        "    # Coluna Consumo Rural\n",
        "    consumo_rural = []\n",
        "    # Coluna Consumo Poder Público\n",
        "    consumo_poder_publico = []\n",
        "    # Coluna Consumo Residencial\n",
        "    consumo_residencial = []\n",
        "    # Coluna Consumo Iluminação Pública\n",
        "    consumo_iluminacao_publica = []\n",
        "    # Coluna Consumo Serv. público\n",
        "    consumo_serv_publico = []\n",
        "    # Coluna Consumo Próprio\n",
        "    consumo_consumo_proprio = []\n",
        "\n",
        "    res = []\n",
        "\n",
        "\n",
        "    for df in df_list:\n",
        "        # Coluna Consumo Total\n",
        "        col_consumo_total = df.iloc[:, 0]\n",
        "        # Coluna Consumo Residencial\n",
        "        col_consumo_residencial = df.iloc[:, 1]\n",
        "        # Coluna Consumo Insdutrial\n",
        "        col_consumo_industrial = df.iloc[:, 2]\n",
        "        # Coluna Consumo Comercial\n",
        "        col_consumo_comercial = df.iloc[:, 3]\n",
        "        # Coluna Consumo Rural\n",
        "        col_consumo_rural = df.iloc[:, 4]\n",
        "        # Coluna Consumo Poder Público\n",
        "        col_consumo_poder_publico = df.iloc[:, 5]        \n",
        "        # Coluna Consumo Iluminação Pública\n",
        "        col_consumo_iluminacao_publica = df.iloc[:, 6]\n",
        "        # Coluna Consumo Serv. público\n",
        "        col_consumo_serv_publico = df.iloc[:, 7]\n",
        "        # Coluna Consumo Próprio\n",
        "        col_consumo_consumo_proprio = df.iloc[:, 8]\n",
        "\n",
        "        # selecionar a terceira coluna e imprimir     \n",
        "        col2 = df.iloc[:, 1]      \n",
        "\n",
        "        # print(f\"type: {type(col2)} col2: {col2}\")\n",
        "        \n",
        "        res.append(col2)\n",
        "        # Coluna Consumo Total\n",
        "        consumo_total.append(col_consumo_total)\n",
        "        # Coluna Consumo Residencial\n",
        "        consumo_residencial.append(col_consumo_residencial)\n",
        "        # Coluna Consumo Insdutrial\n",
        "        consumo_industrial.append(col_consumo_industrial)\n",
        "        # Coluna Consumo Comercial\n",
        "        consumo_comercial.append(col_consumo_comercial)\n",
        "        # Coluna Consumo Rural\n",
        "        consumo_rural.append(col_consumo_comercial)\n",
        "        # Coluna Consumo Poder Público\n",
        "        consumo_poder_publico.append(col_consumo_poder_publico)\n",
        "\n",
        "        # Coluna Consumo Iluminação Pública\n",
        "        consumo_iluminacao_publica.append(col_consumo_iluminacao_publica)\n",
        "        # Coluna Consumo Serv. público\n",
        "        consumo_serv_publico.append(col_consumo_serv_publico)\n",
        "        # Coluna Consumo Próprio\n",
        "        consumo_consumo_proprio.append(col_consumo_consumo_proprio)\n",
        "        \n",
        "    return res, consumo_total, consumo_residencial, consumo_industrial, consumo_comercial, consumo_rural, consumo_poder_publico, consumo_iluminacao_publica,  consumo_serv_publico, consumo_consumo_proprio\n",
        "\n",
        "\n",
        "\n",
        "res, consumo_total, consumo_residencial, consumo_industrial, consumo_comercial, consumo_rural, consumo_poder_publico, consumo_iluminacao_publica,  consumo_serv_publico, consumo_consumo_proprio = consumo_mensal(df_list)\n",
        "print(len(res))\n",
        "print(type(res[4]))\n",
        "# print(res)\n",
        "# print(consumo_total)\n",
        "# print(consumo_residencial)\n",
        "# print(consumo_industrial)\n",
        "print(consumo_comercial)\n",
        "# print(consumo_rural)\n",
        "# print(consumo_poder_publico)\n",
        "# print(consumo_iluminacao_publica)\n",
        "# print(consumo_iluminacao_publica)\n",
        "# print(consumo_consumo_proprio)\n",
        "\n"
      ],
      "metadata": {
        "id": "cgTdYofkWJ0b",
        "colab": {
          "base_uri": "https://localhost:8080/"
        },
        "outputId": "44b28136-f6f1-48e9-898f-c19f7602f7bc"
      },
      "id": "cgTdYofkWJ0b",
      "execution_count": 32,
      "outputs": [
        {
          "output_type": "stream",
          "name": "stdout",
          "text": [
            "18\n",
            "<class 'pandas.core.series.Series'>\n",
            "[Jan    355558.115\n",
            "Fev    375847.478\n",
            "Mar    353384.172\n",
            "Abr    377707.960\n",
            "Mai    380131.273\n",
            "Jun    347477.148\n",
            "Jul    304202.722\n",
            "Ago    334906.852\n",
            "Set    333853.216\n",
            "Out    348996.064\n",
            "Nov    379143.649\n",
            "Dez    381306.269\n",
            "Name: 4272514.9180000005, dtype: float64, Total \n",
            "Jan    397582.488\n",
            "Fev    407964.692\n",
            "Mar    399592.607\n",
            "Abr    362924.074\n",
            "Mai    352523.499\n",
            "Jun    334665.858\n",
            "Jul    320611.398\n",
            "Ago    330388.703\n",
            "Set    305300.470\n",
            "Out    346198.498\n",
            "Nov    361053.822\n",
            "Dez    399530.148\n",
            "Name: 4318336.257, dtype: float64, Total \n",
            "Jan    357271.703\n",
            "Fev    385037.707\n",
            "Mar    378958.484\n",
            "Abr    389511.665\n",
            "Mai    365804.573\n",
            "Jun    327034.594\n",
            "Jul    341543.826\n",
            "Ago    325547.886\n",
            "Set    348299.370\n",
            "Out    359817.666\n",
            "Nov    364534.766\n",
            "Dez    400093.025\n",
            "Name: 4343455.265, dtype: float64, Total \n",
            "Jan    400600.717\n",
            "Fev    374154.979\n",
            "Mar    409253.753\n",
            "Abr    427468.471\n",
            "Mai    388272.326\n",
            "Jun    387805.618\n",
            "Jul    353251.074\n",
            "Ago    352750.479\n",
            "Set    388604.548\n",
            "Out    377327.611\n",
            "Nov    395894.136\n",
            "Dez    430341.136\n",
            "Name: 4685724.848, dtype: float64, Total \n",
            "Jan    593853.457\n",
            "Fev    659723.075\n",
            "Mar    433646.045\n",
            "Abr    414258.243\n",
            "Mai    386890.726\n",
            "Jun    353969.148\n",
            "Jul    345887.867\n",
            "Ago    355113.174\n",
            "Set    345212.572\n",
            "Out    377466.439\n",
            "Nov    385474.756\n",
            "Dez    414608.898\n",
            "Name: 5066104.4, dtype: float64, Total \n",
            "Jan    436411.558\n",
            "Fev    410790.278\n",
            "Mar    472789.378\n",
            "Abr    477652.429\n",
            "Mai    414025.843\n",
            "Jun    370052.225\n",
            "Jul    378332.165\n",
            "Ago    370586.851\n",
            "Set    398926.375\n",
            "Out    397326.283\n",
            "Nov    415627.408\n",
            "Dez    420790.952\n",
            "Name: 4963311.744999998, dtype: float64, Total \n",
            "Jan    447631.793\n",
            "Fev    431961.261\n",
            "Mar    448819.901\n",
            "Abr    440760.231\n",
            "Mai    429360.003\n",
            "Jun    384683.730\n",
            "Jul    386642.197\n",
            "Ago    397955.848\n",
            "Set    405414.707\n",
            "Out    414937.226\n",
            "Nov    440063.947\n",
            "Dez    427005.212\n",
            "Name: 5055236.056, dtype: float64, Total \n",
            "Jan    432260.032\n",
            "Fev    458347.789\n",
            "Mar    483892.307\n",
            "Abr    463392.895\n",
            "Mai    425679.884\n",
            "Jun    403356.204\n",
            "Jul    393419.040\n",
            "Ago    393722.013\n",
            "Set    417853.218\n",
            "Out    432222.433\n",
            "Nov    472003.706\n",
            "Dez    504787.903\n",
            "Name: 5280937.424, dtype: float64, Total \n",
            "Jan    491762.696\n",
            "Fev    506651.737\n",
            "Mar    498764.407\n",
            "Abr    477534.819\n",
            "Mai    447047.643\n",
            "Jun    422237.658\n",
            "Jul    419332.154\n",
            "Ago    415632.043\n",
            "Set    431707.009\n",
            "Out    439296.189\n",
            "Nov    459873.383\n",
            "Dez    525787.970\n",
            "Name: 5535627.708000001, dtype: float64, Total \n",
            "Jan    508070.8740\n",
            "Fev    532995.7587\n",
            "Mar    510095.9050\n",
            "Abr    496864.4807\n",
            "Mai    480961.0440\n",
            "Jun    430013.4740\n",
            "Jul    416830.0090\n",
            "Ago    437284.0430\n",
            "Set    447562.9640\n",
            "Out    458984.9480\n",
            "Nov    468076.6280\n",
            "Dez    497069.9460\n",
            "Name: 5684810.074400003, dtype: float64, Total \n",
            "Jan    503305.953\n",
            "Fev    522529.785\n",
            "Mar    558259.921\n",
            "Abr    531745.658\n",
            "Mai    513861.423\n",
            "Jun    487980.823\n",
            "Jul    481436.255\n",
            "Ago    501889.823\n",
            "Set    505926.049\n",
            "Out    512981.900\n",
            "Nov    553885.344\n",
            "Dez    566994.802\n",
            "Name: 6240797.735999999, dtype: float64, Total \n",
            "Jan    587171.314\n",
            "Fev    561190.010\n",
            "Mar    581614.121\n",
            "Abr    554480.208\n",
            "Mai    529210.908\n",
            "Jun    538300.960\n",
            "Jul    514600.861\n",
            "Ago    497761.934\n",
            "Set    513401.127\n",
            "Out    548305.444\n",
            "Nov    548862.162\n",
            "Dez    566635.512\n",
            "Name: 6541534.561000001, dtype: float64, Total \n",
            "Jan    601673.0960\n",
            "Fev    642286.1880\n",
            "Mar    613181.5860\n",
            "Abr    581553.0290\n",
            "Mai    549828.8530\n",
            "Jun    525080.4270\n",
            "Jul    522096.9700\n",
            "Ago    500960.7401\n",
            "Set    524658.5010\n",
            "Out    578073.0340\n",
            "Nov    591289.3100\n",
            "Dez    592011.7870\n",
            "Name: 6822693.521099999, dtype: float64, Total \n",
            "Jan    643696.737\n",
            "Fev    649599.606\n",
            "Mar    635824.923\n",
            "Abr    608763.604\n",
            "Mai    555942.848\n",
            "Jun    541639.906\n",
            "Jul    516618.538\n",
            "Ago    524640.763\n",
            "Set    531730.346\n",
            "Out    566401.765\n",
            "Nov    579984.182\n",
            "Dez    577785.391\n",
            "Name: 6932628.609000001, dtype: float64, Total \n",
            "Jan    623629.971\n",
            "Fev    605636.532\n",
            "Mar    621746.158\n",
            "Abr    650178.147\n",
            "Mai    570509.176\n",
            "Jun    507464.002\n",
            "Jul    497373.815\n",
            "Ago    498047.224\n",
            "Set    525495.279\n",
            "Out    521008.617\n",
            "Nov    537338.122\n",
            "Dez    581880.926\n",
            "Name: 6740307.969000001, dtype: float64, Total \n",
            "Jan    615068.911000\n",
            "Fev    625038.099000\n",
            "Mar    625061.339000\n",
            "Abr    573918.660000\n",
            "Mai    590118.174000\n",
            "Jun    503571.145000\n",
            "Jul    471031.101000\n",
            "Ago    482268.015000\n",
            "Set    490924.233000\n",
            "Out    500748.596129\n",
            "Nov    528157.793144\n",
            "Dez    559626.720354\n",
            "Name: 6565532.786627, dtype: float64, Total \n",
            "Jan    567161.858980\n",
            "Fev    548414.395233\n",
            "Mar    574457.096838\n",
            "Abr    587202.212062\n",
            "Mai    530023.179715\n",
            "Jun    486154.083477\n",
            "Jul    468759.505227\n",
            "Ago    486366.846498\n",
            "Set    471144.494870\n",
            "Out    518531.447148\n",
            "Nov    509135.434784\n",
            "Dez    551929.503702\n",
            "Name: 6299280.058534, dtype: float64, Total \n",
            "Jan    616694.443522\n",
            "Fev    570172.563151\n",
            "Mar    586701.373737\n",
            "Abr    546437.279861\n",
            "Mai    556900.463420\n",
            "Jun    492312.537141\n",
            "Jul    469342.897444\n",
            "Ago    469465.430160\n",
            "Set    482757.994470\n",
            "Out    518997.109547\n",
            "Nov    535669.284388\n",
            "Dez    544190.739316\n",
            "Name: 6389642.116157, dtype: float64]\n"
          ]
        }
      ]
    },
    {
      "cell_type": "code",
      "source": [
        "# selecionar a coluna \"Residencial\" de todos os dataframes na lista\n",
        "residencial_list = [df.iloc[:, 2] for df in df_list]\n",
        "print(\"residencial_list\")\n",
        "print(type(residencial_list))\n",
        "\n",
        "\n"
      ],
      "metadata": {
        "id": "6wFAts6CWJ7b",
        "colab": {
          "base_uri": "https://localhost:8080/"
        },
        "outputId": "d6b92f1b-b4df-40be-d305-1b2f21855860"
      },
      "id": "6wFAts6CWJ7b",
      "execution_count": 11,
      "outputs": [
        {
          "output_type": "stream",
          "name": "stdout",
          "text": [
            "residencial_list\n",
            "<class 'list'>\n"
          ]
        }
      ]
    },
    {
      "cell_type": "markdown",
      "source": [
        "# Na Tabela 2257 - Consumo total, médio anual, mensal\n",
        "# e diário de energia elétrica por habitante no Município\n",
        "#  do Rio de Janeiro entre 1980 e 2019: \n"
      ],
      "metadata": {
        "id": "W4x7sHVHW43S"
      },
      "id": "W4x7sHVHW43S"
    },
    {
      "cell_type": "code",
      "source": [
        "\n",
        "populacao = df2.iloc[:, 5]\n",
        "ano =  df2.iloc[:, 0]\n",
        "ano_populacao =  df2.iloc[:, 0::5]\n",
        "\n",
        "consumo_total_MWh =  ''\n",
        "\n",
        "\n",
        "print(f\"Ano e populacao \\n {ano_populacao}\")\n",
        "# print(populacao)\n"
      ],
      "metadata": {
        "id": "7NqWkchmW5iZ",
        "colab": {
          "base_uri": "https://localhost:8080/"
        },
        "outputId": "13803eda-9342-4418-8df4-a38d71407c07"
      },
      "id": "7NqWkchmW5iZ",
      "execution_count": 12,
      "outputs": [
        {
          "output_type": "stream",
          "name": "stdout",
          "text": [
            "Ano e populacao \n",
            "     Unnamed: 0    Unnamed: 5\n",
            "0         1980  5.090790e+06\n",
            "1         1981  5.125066e+06\n",
            "2         1982  5.159573e+06\n",
            "3         1983  5.194312e+06\n",
            "4         1984  5.229285e+06\n",
            "5         1985  5.264493e+06\n",
            "6         1986  5.299939e+06\n",
            "7         1987  5.335623e+06\n",
            "8         1988  5.371547e+06\n",
            "9         1989  5.407713e+06\n",
            "10        1990  5.444123e+06\n",
            "11        1991  5.480778e+06\n",
            "12        1992  5.521452e+06\n",
            "13        1993  5.562429e+06\n",
            "14        1994  5.603709e+06\n",
            "15        1995  5.645295e+06\n",
            "16        1996  5.687191e+06\n",
            "17        1997  5.729397e+06\n",
            "18        1998  5.771916e+06\n",
            "19        1999  5.814751e+06\n",
            "20        2000  5.857904e+06\n",
            "21        2001  5.897485e+06\n",
            "22        2002  5.937253e+06\n",
            "23        2003  5.974081e+06\n",
            "24        2004  6.051399e+06\n",
            "25        2005  6.094183e+06\n",
            "26        2006  6.136652e+06\n",
            "27        2007  6.132342e+06\n",
            "28        2008  6.161047e+06\n",
            "29        2009  6.186710e+06\n",
            "30        2010  6.320446e+06\n",
            "31        2011  6.355949e+06\n",
            "32        2012  6.390290e+06\n",
            "33        2013  6.429923e+06\n",
            "34        2014  6.453682e+06\n",
            "35        2015  6.476631e+06\n",
            "36        2016  6.498837e+06\n",
            "37        2017  6.520266e+06\n",
            "38        2018  6.688927e+06\n",
            "39        2019  6.718903e+06\n"
          ]
        }
      ]
    },
    {
      "cell_type": "markdown",
      "source": [
        "# Formatação em dicionário"
      ],
      "metadata": {
        "id": "9U-N9sidW8x7"
      },
      "id": "9U-N9sidW8x7"
    },
    {
      "cell_type": "markdown",
      "source": [
        "# Análise Exploratória dos Dados\n",
        "def data_exploratory():\n",
        "    ...d"
      ],
      "metadata": {
        "id": "GtfQvf7oXAUs"
      },
      "id": "GtfQvf7oXAUs"
    },
    {
      "cell_type": "markdown",
      "source": [
        "Com o gráfico de consumo médio podemos analisar uma aumento considerável no consumo de energia no Rio de Janeiro"
      ],
      "metadata": {
        "id": "w0khhkAXXBbY"
      },
      "id": "w0khhkAXXBbY"
    },
    {
      "cell_type": "code",
      "source": [
        "\n",
        "# Gráfico de linha para população\n",
        "fig1 = go.Figure()  # Cria um canva \n",
        "# Add gráfico de dispersão da coluna população\n",
        "fig1.add_trace(go.Scatter(x=df2.iloc[:, 0], y=df2.iloc[:, 5], name='População'))\n",
        "\n",
        "# Gráfico de barras para consumo residencial\n",
        "fig2 = go.Figure()  # Cria um canva\n",
        "# Add o gráfico de barras  referentes aos anos de 2002 a 2020\n",
        "fig2.add_trace(go.Bar(x=[str(year) for year in range(2002, 2020)], y=[df.iloc[:, 1].sum() for df in df_list], name='Consumo residencial'))\n",
        "\n",
        "# Criar um mesmo gráfico com os dois plots\n",
        "fig = make_subplots(rows=1, cols=2, shared_xaxes=True)\n",
        "fig.add_trace(fig1.data[0], row=1, col=1)\n",
        "fig.add_trace(fig2.data[0], row=1, col=2)\n",
        "\n",
        "# Configurar o layout\n",
        "fig.update_layout(title='População e consumo residencial do Rio de Janeiro (2002-2019)',\n",
        "                  xaxis_title='Ano',\n",
        "                  yaxis_title='População / Consumo residencial (MWh)')\n",
        "\n",
        "# Mostrar o gráfico\n",
        "fig.show()"
      ],
      "metadata": {
        "id": "qdgzRpUpXCtX",
        "colab": {
          "base_uri": "https://localhost:8080/",
          "height": 542
        },
        "outputId": "d2dcba9b-5d94-400e-e8ad-d60cdb91a6b0"
      },
      "id": "qdgzRpUpXCtX",
      "execution_count": 37,
      "outputs": [
        {
          "output_type": "display_data",
          "data": {
            "text/html": [
              "<html>\n",
              "<head><meta charset=\"utf-8\" /></head>\n",
              "<body>\n",
              "    <div>            <script src=\"https://cdnjs.cloudflare.com/ajax/libs/mathjax/2.7.5/MathJax.js?config=TeX-AMS-MML_SVG\"></script><script type=\"text/javascript\">if (window.MathJax && window.MathJax.Hub && window.MathJax.Hub.Config) {window.MathJax.Hub.Config({SVG: {font: \"STIX-Web\"}});}</script>                <script type=\"text/javascript\">window.PlotlyConfig = {MathJaxConfig: 'local'};</script>\n",
              "        <script src=\"https://cdn.plot.ly/plotly-2.18.2.min.js\"></script>                <div id=\"8f65a709-3474-47de-982a-be83db526bcc\" class=\"plotly-graph-div\" style=\"height:525px; width:100%;\"></div>            <script type=\"text/javascript\">                                    window.PLOTLYENV=window.PLOTLYENV || {};                                    if (document.getElementById(\"8f65a709-3474-47de-982a-be83db526bcc\")) {                    Plotly.newPlot(                        \"8f65a709-3474-47de-982a-be83db526bcc\",                        [{\"name\":\"Popula\\u00e7\\u00e3o\",\"x\":[1980,1981,1982,1983,1984,1985,1986,1987,1988,1989,1990,1991,1992,1993,1994,1995,1996,1997,1998,1999,2000,2001,2002,2003,2004,2005,2006,2007,2008,2009,2010,2011,2012,2013,2014,2015,2016,2017,2018,2019],\"y\":[5090790.0,5125065.942623717,5159572.66283652,5194311.714448211,5229284.661730289,5264493.079486384,5299938.553123173,5335622.678721769,5371547.06310959,5407713.323932711,5444123.089728712,5480778.000000005,5521452.325959893,5562428.507019972,5603708.783328031,5645295.4116566,5687190.665526327,5729396.835330263,5771916.228459084,5814751.169427237,5857904.0,5897485.0,5937253.0,5974081.0,6051399.0,6094183.0,6136652.0,6132341.549446797,6161047.0,6186710.0,6320446.0,6355949.0,6390290.0,6429923.0,6453682.0,6476631.0,6498837.0,6520266.0,6688927.0,6718903.0],\"type\":\"scatter\",\"xaxis\":\"x\",\"yaxis\":\"y\"},{\"name\":\"Consumo residencial\",\"x\":[\"2002\",\"2003\",\"2004\",\"2005\",\"2006\",\"2007\",\"2008\",\"2009\",\"2010\",\"2011\",\"2012\",\"2013\",\"2014\",\"2015\",\"2016\",\"2017\",\"2018\",\"2019\"],\"y\":[4603194.384,4887462.045,4840629.842,5264761.083000001,5286605.181,5394924.1455999985,5382944.169400001,5759606.522,5985328.6450000005,6018866.576999999,5716652.172,5757301.518999998,6154636.363860759,5999339.683999999,5899648.858,6071649.054199999,5798436.087546,5839173.962017998],\"type\":\"bar\",\"xaxis\":\"x2\",\"yaxis\":\"y2\"}],                        {\"template\":{\"data\":{\"histogram2dcontour\":[{\"type\":\"histogram2dcontour\",\"colorbar\":{\"outlinewidth\":0,\"ticks\":\"\"},\"colorscale\":[[0.0,\"#0d0887\"],[0.1111111111111111,\"#46039f\"],[0.2222222222222222,\"#7201a8\"],[0.3333333333333333,\"#9c179e\"],[0.4444444444444444,\"#bd3786\"],[0.5555555555555556,\"#d8576b\"],[0.6666666666666666,\"#ed7953\"],[0.7777777777777778,\"#fb9f3a\"],[0.8888888888888888,\"#fdca26\"],[1.0,\"#f0f921\"]]}],\"choropleth\":[{\"type\":\"choropleth\",\"colorbar\":{\"outlinewidth\":0,\"ticks\":\"\"}}],\"histogram2d\":[{\"type\":\"histogram2d\",\"colorbar\":{\"outlinewidth\":0,\"ticks\":\"\"},\"colorscale\":[[0.0,\"#0d0887\"],[0.1111111111111111,\"#46039f\"],[0.2222222222222222,\"#7201a8\"],[0.3333333333333333,\"#9c179e\"],[0.4444444444444444,\"#bd3786\"],[0.5555555555555556,\"#d8576b\"],[0.6666666666666666,\"#ed7953\"],[0.7777777777777778,\"#fb9f3a\"],[0.8888888888888888,\"#fdca26\"],[1.0,\"#f0f921\"]]}],\"heatmap\":[{\"type\":\"heatmap\",\"colorbar\":{\"outlinewidth\":0,\"ticks\":\"\"},\"colorscale\":[[0.0,\"#0d0887\"],[0.1111111111111111,\"#46039f\"],[0.2222222222222222,\"#7201a8\"],[0.3333333333333333,\"#9c179e\"],[0.4444444444444444,\"#bd3786\"],[0.5555555555555556,\"#d8576b\"],[0.6666666666666666,\"#ed7953\"],[0.7777777777777778,\"#fb9f3a\"],[0.8888888888888888,\"#fdca26\"],[1.0,\"#f0f921\"]]}],\"heatmapgl\":[{\"type\":\"heatmapgl\",\"colorbar\":{\"outlinewidth\":0,\"ticks\":\"\"},\"colorscale\":[[0.0,\"#0d0887\"],[0.1111111111111111,\"#46039f\"],[0.2222222222222222,\"#7201a8\"],[0.3333333333333333,\"#9c179e\"],[0.4444444444444444,\"#bd3786\"],[0.5555555555555556,\"#d8576b\"],[0.6666666666666666,\"#ed7953\"],[0.7777777777777778,\"#fb9f3a\"],[0.8888888888888888,\"#fdca26\"],[1.0,\"#f0f921\"]]}],\"contourcarpet\":[{\"type\":\"contourcarpet\",\"colorbar\":{\"outlinewidth\":0,\"ticks\":\"\"}}],\"contour\":[{\"type\":\"contour\",\"colorbar\":{\"outlinewidth\":0,\"ticks\":\"\"},\"colorscale\":[[0.0,\"#0d0887\"],[0.1111111111111111,\"#46039f\"],[0.2222222222222222,\"#7201a8\"],[0.3333333333333333,\"#9c179e\"],[0.4444444444444444,\"#bd3786\"],[0.5555555555555556,\"#d8576b\"],[0.6666666666666666,\"#ed7953\"],[0.7777777777777778,\"#fb9f3a\"],[0.8888888888888888,\"#fdca26\"],[1.0,\"#f0f921\"]]}],\"surface\":[{\"type\":\"surface\",\"colorbar\":{\"outlinewidth\":0,\"ticks\":\"\"},\"colorscale\":[[0.0,\"#0d0887\"],[0.1111111111111111,\"#46039f\"],[0.2222222222222222,\"#7201a8\"],[0.3333333333333333,\"#9c179e\"],[0.4444444444444444,\"#bd3786\"],[0.5555555555555556,\"#d8576b\"],[0.6666666666666666,\"#ed7953\"],[0.7777777777777778,\"#fb9f3a\"],[0.8888888888888888,\"#fdca26\"],[1.0,\"#f0f921\"]]}],\"mesh3d\":[{\"type\":\"mesh3d\",\"colorbar\":{\"outlinewidth\":0,\"ticks\":\"\"}}],\"scatter\":[{\"fillpattern\":{\"fillmode\":\"overlay\",\"size\":10,\"solidity\":0.2},\"type\":\"scatter\"}],\"parcoords\":[{\"type\":\"parcoords\",\"line\":{\"colorbar\":{\"outlinewidth\":0,\"ticks\":\"\"}}}],\"scatterpolargl\":[{\"type\":\"scatterpolargl\",\"marker\":{\"colorbar\":{\"outlinewidth\":0,\"ticks\":\"\"}}}],\"bar\":[{\"error_x\":{\"color\":\"#2a3f5f\"},\"error_y\":{\"color\":\"#2a3f5f\"},\"marker\":{\"line\":{\"color\":\"#E5ECF6\",\"width\":0.5},\"pattern\":{\"fillmode\":\"overlay\",\"size\":10,\"solidity\":0.2}},\"type\":\"bar\"}],\"scattergeo\":[{\"type\":\"scattergeo\",\"marker\":{\"colorbar\":{\"outlinewidth\":0,\"ticks\":\"\"}}}],\"scatterpolar\":[{\"type\":\"scatterpolar\",\"marker\":{\"colorbar\":{\"outlinewidth\":0,\"ticks\":\"\"}}}],\"histogram\":[{\"marker\":{\"pattern\":{\"fillmode\":\"overlay\",\"size\":10,\"solidity\":0.2}},\"type\":\"histogram\"}],\"scattergl\":[{\"type\":\"scattergl\",\"marker\":{\"colorbar\":{\"outlinewidth\":0,\"ticks\":\"\"}}}],\"scatter3d\":[{\"type\":\"scatter3d\",\"line\":{\"colorbar\":{\"outlinewidth\":0,\"ticks\":\"\"}},\"marker\":{\"colorbar\":{\"outlinewidth\":0,\"ticks\":\"\"}}}],\"scattermapbox\":[{\"type\":\"scattermapbox\",\"marker\":{\"colorbar\":{\"outlinewidth\":0,\"ticks\":\"\"}}}],\"scatterternary\":[{\"type\":\"scatterternary\",\"marker\":{\"colorbar\":{\"outlinewidth\":0,\"ticks\":\"\"}}}],\"scattercarpet\":[{\"type\":\"scattercarpet\",\"marker\":{\"colorbar\":{\"outlinewidth\":0,\"ticks\":\"\"}}}],\"carpet\":[{\"aaxis\":{\"endlinecolor\":\"#2a3f5f\",\"gridcolor\":\"white\",\"linecolor\":\"white\",\"minorgridcolor\":\"white\",\"startlinecolor\":\"#2a3f5f\"},\"baxis\":{\"endlinecolor\":\"#2a3f5f\",\"gridcolor\":\"white\",\"linecolor\":\"white\",\"minorgridcolor\":\"white\",\"startlinecolor\":\"#2a3f5f\"},\"type\":\"carpet\"}],\"table\":[{\"cells\":{\"fill\":{\"color\":\"#EBF0F8\"},\"line\":{\"color\":\"white\"}},\"header\":{\"fill\":{\"color\":\"#C8D4E3\"},\"line\":{\"color\":\"white\"}},\"type\":\"table\"}],\"barpolar\":[{\"marker\":{\"line\":{\"color\":\"#E5ECF6\",\"width\":0.5},\"pattern\":{\"fillmode\":\"overlay\",\"size\":10,\"solidity\":0.2}},\"type\":\"barpolar\"}],\"pie\":[{\"automargin\":true,\"type\":\"pie\"}]},\"layout\":{\"autotypenumbers\":\"strict\",\"colorway\":[\"#636efa\",\"#EF553B\",\"#00cc96\",\"#ab63fa\",\"#FFA15A\",\"#19d3f3\",\"#FF6692\",\"#B6E880\",\"#FF97FF\",\"#FECB52\"],\"font\":{\"color\":\"#2a3f5f\"},\"hovermode\":\"closest\",\"hoverlabel\":{\"align\":\"left\"},\"paper_bgcolor\":\"white\",\"plot_bgcolor\":\"#E5ECF6\",\"polar\":{\"bgcolor\":\"#E5ECF6\",\"angularaxis\":{\"gridcolor\":\"white\",\"linecolor\":\"white\",\"ticks\":\"\"},\"radialaxis\":{\"gridcolor\":\"white\",\"linecolor\":\"white\",\"ticks\":\"\"}},\"ternary\":{\"bgcolor\":\"#E5ECF6\",\"aaxis\":{\"gridcolor\":\"white\",\"linecolor\":\"white\",\"ticks\":\"\"},\"baxis\":{\"gridcolor\":\"white\",\"linecolor\":\"white\",\"ticks\":\"\"},\"caxis\":{\"gridcolor\":\"white\",\"linecolor\":\"white\",\"ticks\":\"\"}},\"coloraxis\":{\"colorbar\":{\"outlinewidth\":0,\"ticks\":\"\"}},\"colorscale\":{\"sequential\":[[0.0,\"#0d0887\"],[0.1111111111111111,\"#46039f\"],[0.2222222222222222,\"#7201a8\"],[0.3333333333333333,\"#9c179e\"],[0.4444444444444444,\"#bd3786\"],[0.5555555555555556,\"#d8576b\"],[0.6666666666666666,\"#ed7953\"],[0.7777777777777778,\"#fb9f3a\"],[0.8888888888888888,\"#fdca26\"],[1.0,\"#f0f921\"]],\"sequentialminus\":[[0.0,\"#0d0887\"],[0.1111111111111111,\"#46039f\"],[0.2222222222222222,\"#7201a8\"],[0.3333333333333333,\"#9c179e\"],[0.4444444444444444,\"#bd3786\"],[0.5555555555555556,\"#d8576b\"],[0.6666666666666666,\"#ed7953\"],[0.7777777777777778,\"#fb9f3a\"],[0.8888888888888888,\"#fdca26\"],[1.0,\"#f0f921\"]],\"diverging\":[[0,\"#8e0152\"],[0.1,\"#c51b7d\"],[0.2,\"#de77ae\"],[0.3,\"#f1b6da\"],[0.4,\"#fde0ef\"],[0.5,\"#f7f7f7\"],[0.6,\"#e6f5d0\"],[0.7,\"#b8e186\"],[0.8,\"#7fbc41\"],[0.9,\"#4d9221\"],[1,\"#276419\"]]},\"xaxis\":{\"gridcolor\":\"white\",\"linecolor\":\"white\",\"ticks\":\"\",\"title\":{\"standoff\":15},\"zerolinecolor\":\"white\",\"automargin\":true,\"zerolinewidth\":2},\"yaxis\":{\"gridcolor\":\"white\",\"linecolor\":\"white\",\"ticks\":\"\",\"title\":{\"standoff\":15},\"zerolinecolor\":\"white\",\"automargin\":true,\"zerolinewidth\":2},\"scene\":{\"xaxis\":{\"backgroundcolor\":\"#E5ECF6\",\"gridcolor\":\"white\",\"linecolor\":\"white\",\"showbackground\":true,\"ticks\":\"\",\"zerolinecolor\":\"white\",\"gridwidth\":2},\"yaxis\":{\"backgroundcolor\":\"#E5ECF6\",\"gridcolor\":\"white\",\"linecolor\":\"white\",\"showbackground\":true,\"ticks\":\"\",\"zerolinecolor\":\"white\",\"gridwidth\":2},\"zaxis\":{\"backgroundcolor\":\"#E5ECF6\",\"gridcolor\":\"white\",\"linecolor\":\"white\",\"showbackground\":true,\"ticks\":\"\",\"zerolinecolor\":\"white\",\"gridwidth\":2}},\"shapedefaults\":{\"line\":{\"color\":\"#2a3f5f\"}},\"annotationdefaults\":{\"arrowcolor\":\"#2a3f5f\",\"arrowhead\":0,\"arrowwidth\":1},\"geo\":{\"bgcolor\":\"white\",\"landcolor\":\"#E5ECF6\",\"subunitcolor\":\"white\",\"showland\":true,\"showlakes\":true,\"lakecolor\":\"white\"},\"title\":{\"x\":0.05},\"mapbox\":{\"style\":\"light\"}}},\"xaxis\":{\"anchor\":\"y\",\"domain\":[0.0,0.45],\"title\":{\"text\":\"Ano\"}},\"yaxis\":{\"anchor\":\"x\",\"domain\":[0.0,1.0],\"title\":{\"text\":\"Popula\\u00e7\\u00e3o / Consumo residencial (MWh)\"}},\"xaxis2\":{\"anchor\":\"y2\",\"domain\":[0.55,1.0]},\"yaxis2\":{\"anchor\":\"x2\",\"domain\":[0.0,1.0]},\"title\":{\"text\":\"Popula\\u00e7\\u00e3o e consumo residencial do Rio de Janeiro (2002-2019)\"}},                        {\"responsive\": true}                    ).then(function(){\n",
              "                            \n",
              "var gd = document.getElementById('8f65a709-3474-47de-982a-be83db526bcc');\n",
              "var x = new MutationObserver(function (mutations, observer) {{\n",
              "        var display = window.getComputedStyle(gd).display;\n",
              "        if (!display || display === 'none') {{\n",
              "            console.log([gd, 'removed!']);\n",
              "            Plotly.purge(gd);\n",
              "            observer.disconnect();\n",
              "        }}\n",
              "}});\n",
              "\n",
              "// Listen for the removal of the full notebook cells\n",
              "var notebookContainer = gd.closest('#notebook-container');\n",
              "if (notebookContainer) {{\n",
              "    x.observe(notebookContainer, {childList: true});\n",
              "}}\n",
              "\n",
              "// Listen for the clearing of the current output cell\n",
              "var outputEl = gd.closest('.output');\n",
              "if (outputEl) {{\n",
              "    x.observe(outputEl, {childList: true});\n",
              "}}\n",
              "\n",
              "                        })                };                            </script>        </div>\n",
              "</body>\n",
              "</html>"
            ]
          },
          "metadata": {}
        }
      ]
    },
    {
      "cell_type": "markdown",
      "source": [
        "Abaixo alguns sumários visuais sobre o consumo de energia elétrica no Rio de Janeiro:\n",
        "\n"
      ],
      "metadata": {
        "id": "NRqSJ7LSY2QW"
      },
      "id": "NRqSJ7LSY2QW"
    },
    {
      "cell_type": "code",
      "source": [
        "# Configurações comuns para todos os gráficos\n",
        "title = 'Consumo de energia elétrica no Rio de Janeiro (2002-2019)'\n",
        "x_title = 'Ano'\n",
        "y_title = 'Consumo (MWh)'\n",
        "\n",
        "# Gráfico de linha para consumo total\n",
        "fig1 = go.Figure()\n",
        "for i, col in enumerate(consumo_total):\n",
        "    fig1.add_trace(go.Scatter(x=[str(year) for year in range(2002, 2020)], y=col, name=f'{df_list[i].iloc[0,1]}'))\n",
        "\n",
        "fig1.update_layout(title=title, xaxis_title=x_title, yaxis_title=y_title)\n",
        "fig1.show()\n",
        "\n",
        "# Gráfico de barras para consumo residencial\n",
        "fig2 = go.Figure()\n",
        "fig2.add_trace(go.Bar(x=[str(year) for year in range(2002, 2020)], y=[df.iloc[:, 1].sum() for df in df_list], name='Consumo residencial'))\n",
        "\n",
        "fig2.update_layout(title=title, xaxis_title=x_title, yaxis_title=y_title)\n",
        "fig2.show()\n",
        "\n",
        "# Gráfico de barras empilhadas para consumo por setor\n",
        "fig3 = go.Figure()\n",
        "fig3.add_trace(go.Bar(x=[str(year) for year in range(2002, 2020)], y=consumo_residencial, name='Residencial'))\n",
        "fig3.add_trace(go.Bar(x=[str(year) for year in range(2002, 2020)], y=consumo_industrial, name='Industrial'))\n",
        "fig3.add_trace(go.Bar(x=[str(year) for year in range(2002, 2020)], y=consumo_comercial, name='Comercial'))\n",
        "fig3.add_trace(go.Bar(x=[str(year) for year in range(2002, 2020)], y=consumo_rural, name='Rural'))\n",
        "fig3.add_trace(go.Bar(x=[str(year) for year in range(2002, 2020)], y=consumo_poder_publico, name='Poder Público'))\n",
        "fig3.add_trace(go.Bar(x=[str(year) for year in range(2002, 2020)], y=consumo_iluminacao_publica, name='Iluminação Pública'))\n",
        "fig3.add_trace(go.Bar(x=[str(year) for year in range(2002, 2020)], y=consumo_serv_publico, name='Serv. Público'))\n",
        "fig3.add_trace(go.Bar(x=[str(year) for year in range(2002, 2020)], y=consumo_consumo_proprio, name='Consumo Próprio'))\n",
        "\n",
        "fig3.update_layout(barmode='stack', title=title, xaxis_title=x_title, yaxis_title=y_title)\n",
        "fig3.show()\n",
        "\n",
        "# Gráfico de linha para consumo residencial e industrial\n",
        "fig4 = go.Figure()\n",
        "for i, col in enumerate([consumo_residencial, consumo_industrial]):\n",
        "    fig4.add_trace(go.Scatter\n",
        "\n",
        "(x=[str(year) for year in range(2002, 2020)], y=col, name=['Residencial', 'Industrial'][i], mode='lines+markers'))\n",
        "\n",
        "fig4.update_layout(title=title, xaxis_title=x_title, yaxis_title=y_title)\n",
        "fig4.show()"
      ],
      "metadata": {
        "id": "uOMZiTUKik3f",
        "colab": {
          "base_uri": "https://localhost:8080/",
          "height": 1000
        },
        "outputId": "0f561bec-9aa5-47ab-af06-d42ed0eaab0f"
      },
      "id": "uOMZiTUKik3f",
      "execution_count": 41,
      "outputs": [
        {
          "output_type": "display_data",
          "data": {
            "text/html": [
              "<html>\n",
              "<head><meta charset=\"utf-8\" /></head>\n",
              "<body>\n",
              "    <div>            <script src=\"https://cdnjs.cloudflare.com/ajax/libs/mathjax/2.7.5/MathJax.js?config=TeX-AMS-MML_SVG\"></script><script type=\"text/javascript\">if (window.MathJax && window.MathJax.Hub && window.MathJax.Hub.Config) {window.MathJax.Hub.Config({SVG: {font: \"STIX-Web\"}});}</script>                <script type=\"text/javascript\">window.PlotlyConfig = {MathJaxConfig: 'local'};</script>\n",
              "        <script src=\"https://cdn.plot.ly/plotly-2.18.2.min.js\"></script>                <div id=\"50629b5c-4c79-4e8b-866d-13b63ea9752b\" class=\"plotly-graph-div\" style=\"height:525px; width:100%;\"></div>            <script type=\"text/javascript\">                                    window.PLOTLYENV=window.PLOTLYENV || {};                                    if (document.getElementById(\"50629b5c-4c79-4e8b-866d-13b63ea9752b\")) {                    Plotly.newPlot(                        \"50629b5c-4c79-4e8b-866d-13b63ea9752b\",                        [{\"name\":\"350121.439\",\"x\":[\"2002\",\"2003\",\"2004\",\"2005\",\"2006\",\"2007\",\"2008\",\"2009\",\"2010\",\"2011\",\"2012\",\"2013\",\"2014\",\"2015\",\"2016\",\"2017\",\"2018\",\"2019\"],\"y\":[1097945.5050000001,1145556.8439999998,1073210.6130000001,1270539.4030000002,1236394.662,1145248.96,1011691.7050000002,1082118.1,1117000.7410000002,1112291.484,1219597.741,1227467.3469999998],\"type\":\"scatter\"},{\"name\":\"487581.09\",\"x\":[\"2002\",\"2003\",\"2004\",\"2005\",\"2006\",\"2007\",\"2008\",\"2009\",\"2010\",\"2011\",\"2012\",\"2013\",\"2014\",\"2015\",\"2016\",\"2017\",\"2018\",\"2019\"],\"y\":[1303795.47,1306016.5010000002,1308809.1139999998,1165759.2710000002,1140890.3060000003,1071479.22,1038516.5930000001,1053030.1909999999,1005152.3230000001,1109815.053,1130883.04,1234373.2519999999],\"type\":\"scatter\"},{\"name\":\"428329.693\",\"x\":[\"2002\",\"2003\",\"2004\",\"2005\",\"2006\",\"2007\",\"2008\",\"2009\",\"2010\",\"2011\",\"2012\",\"2013\",\"2014\",\"2015\",\"2016\",\"2017\",\"2018\",\"2019\"],\"y\":[1146183.027,1207457.037,1169400.7630000003,1206943.19,1147740.787,1043064.8150000001,1070541.155,1054328.791,1106501.356,1129104.341,1161591.759,1228432.15],\"type\":\"scatter\"},{\"name\":\"475030.247\",\"x\":[\"2002\",\"2003\",\"2004\",\"2005\",\"2006\",\"2007\",\"2008\",\"2009\",\"2010\",\"2011\",\"2012\",\"2013\",\"2014\",\"2015\",\"2016\",\"2017\",\"2018\",\"2019\"],\"y\":[1249430.002,1185976.5,1250839.7530000003,1340309.995,1215817.0510000002,1182483.2619999999,1070221.397,1081367.754,1176732.817,1128056.42,1176822.9389999998,1283862.48],\"type\":\"scatter\"},{\"name\":\"459400.398\",\"x\":[\"2002\",\"2003\",\"2004\",\"2005\",\"2006\",\"2007\",\"2008\",\"2009\",\"2010\",\"2011\",\"2012\",\"2013\",\"2014\",\"2015\",\"2016\",\"2017\",\"2018\",\"2019\"],\"y\":[1697539.943,1884764.1410000003,1249773.6540000003,1120747.564,1152147.931,1353413.013,1017309.7150000001,1044469.3729999999,959635.615,1063119.769,1078670.2750000001,1147202.3890000004],\"type\":\"scatter\"},{\"name\":\"491837.64599999995\",\"x\":[\"2002\",\"2003\",\"2004\",\"2005\",\"2006\",\"2007\",\"2008\",\"2009\",\"2010\",\"2011\",\"2012\",\"2013\",\"2014\",\"2015\",\"2016\",\"2017\",\"2018\",\"2019\"],\"y\":[1435809.544,1371150.0259999996,1566750.7469999995,1569527.7999999996,1380465.1050000002,1266771.4680000003,1252145.4229999993,1260832.3809999994,1327280.7116000005,1324907.616,1393160.3009999997,1371690.1779999998],\"type\":\"scatter\"},{\"name\":\"532036.9530000001\",\"x\":[\"2002\",\"2003\",\"2004\",\"2005\",\"2006\",\"2007\",\"2008\",\"2009\",\"2010\",\"2011\",\"2012\",\"2013\",\"2014\",\"2015\",\"2016\",\"2017\",\"2018\",\"2019\"],\"y\":[1491892.0209999997,1424230.5614,1431006.7180000003,1431551.6399999997,1412745.65,1286485.844,1305400.0689000005,1334984.8099999996,1325459.8079999997,1369645.8739999998,1438383.0610000005,1344753.054],\"type\":\"scatter\"},{\"name\":\"505928.7880000001\",\"x\":[\"2002\",\"2003\",\"2004\",\"2005\",\"2006\",\"2007\",\"2008\",\"2009\",\"2010\",\"2011\",\"2012\",\"2013\",\"2014\",\"2015\",\"2016\",\"2017\",\"2018\",\"2019\"],\"y\":[1374555.2990000003,1433289.1729999997,1515262.9539999997,1435732.1939999994,1281157.493,1210789.038,1181559.5359999998,1200334.0180000006,1260199.122,1311416.6990000005,1418041.2040000001,1507807.7859999991],\"type\":\"scatter\"},{\"name\":\"594241.7849999999\",\"x\":[\"2002\",\"2003\",\"2004\",\"2005\",\"2006\",\"2007\",\"2008\",\"2009\",\"2010\",\"2011\",\"2012\",\"2013\",\"2014\",\"2015\",\"2016\",\"2017\",\"2018\",\"2019\"],\"y\":[1507715.0969999996,1574183.1290000004,1507773.0289999996,1456011.804,1325817.6430000006,1286153.682,1274650.4120000005,1310416.9189999995,1329695.022,1362649.194,1407185.7400000002,1593139.0020000003],\"type\":\"scatter\"},{\"name\":\"609543.0889999999\",\"x\":[\"2002\",\"2003\",\"2004\",\"2005\",\"2006\",\"2007\",\"2008\",\"2009\",\"2010\",\"2011\",\"2012\",\"2013\",\"2014\",\"2015\",\"2016\",\"2017\",\"2018\",\"2019\"],\"y\":[1581503.189,1649009.6736999988,1539248.8069999998,1470976.5127000003,1415777.2739999995,1276056.3220000002,1233016.5019999996,1292794.6380000003,1322201.7419999996,1341214.4779999997,1359037.3489999997,1420867.8699999999],\"type\":\"scatter\"},{\"name\":\"523446.8480000001\",\"x\":[\"2002\",\"2003\",\"2004\",\"2005\",\"2006\",\"2007\",\"2008\",\"2009\",\"2010\",\"2011\",\"2012\",\"2013\",\"2014\",\"2015\",\"2016\",\"2017\",\"2018\",\"2019\"],\"y\":[1430144.4210000003,1529159.3250000007,1613382.6899999995,1485706.047,1405549.3140000002,1318598.2000000002,1291977.4019999995,1341422.511,1347484.714,1358733.376,1477173.6720000007,1508911.3730000006],\"type\":\"scatter\"},{\"name\":\"617136.9759999997\",\"x\":[\"2002\",\"2003\",\"2004\",\"2005\",\"2006\",\"2007\",\"2008\",\"2009\",\"2010\",\"2011\",\"2012\",\"2013\",\"2014\",\"2015\",\"2016\",\"2017\",\"2018\",\"2019\"],\"y\":[1625016.7769999993,1524131.3159999999,1602954.792,1484572.4479999999,1413044.7149999992,1393453.6660000002,1368899.924,1312918.4014,1345705.0960000001,1436805.045,1448416.6350000005,1520994.3890000002],\"type\":\"scatter\"},{\"name\":\"636136.451\",\"x\":[\"2002\",\"2003\",\"2004\",\"2005\",\"2006\",\"2007\",\"2008\",\"2009\",\"2010\",\"2011\",\"2012\",\"2013\",\"2014\",\"2015\",\"2016\",\"2017\",\"2018\",\"2019\"],\"y\":[1677082.886,1781670.6949999996,1700211.25,1581591.6259999997,1457692.3790000004,1382067.4359999998,1358560.3929999997,1279853.1611,1358432.6979999999,1471546.3179999997,1518122.7928607592,1529392.1879999998],\"type\":\"scatter\"},{\"name\":\"693986.7840000001\",\"x\":[\"2002\",\"2003\",\"2004\",\"2005\",\"2006\",\"2007\",\"2008\",\"2009\",\"2010\",\"2011\",\"2012\",\"2013\",\"2014\",\"2015\",\"2016\",\"2017\",\"2018\",\"2019\"],\"y\":[1734140.8389999995,1721169.4870000004,1663498.9989999998,1547571.4829999998,1404970.1060000001,1346742.1420000002,1278478.3370000005,1319159.5749999997,1332109.966,1402063.406,1472299.6060000001,1439093.8110000002],\"type\":\"scatter\"},{\"name\":\"627837.2900000003\",\"x\":[\"2002\",\"2003\",\"2004\",\"2005\",\"2006\",\"2007\",\"2008\",\"2009\",\"2010\",\"2011\",\"2012\",\"2013\",\"2014\",\"2015\",\"2016\",\"2017\",\"2018\",\"2019\"],\"y\":[1617636.0332500003,1564218.6992499998,1587648.1852499996,1659583.2342499995,1464773.5302500003,1287547.20425,1241196.4272500002,1289365.7752500004,1362685.5242499996,1357197.27325,1401686.8512499996,1507635.89625],\"type\":\"scatter\"},{\"name\":\"648770.463\",\"x\":[\"2002\",\"2003\",\"2004\",\"2005\",\"2006\",\"2007\",\"2008\",\"2009\",\"2010\",\"2011\",\"2012\",\"2013\",\"2014\",\"2015\",\"2016\",\"2017\",\"2018\",\"2019\"],\"y\":[1636454.5042499995,1708812.87325,1723665.3632499997,1476352.7732499999,1353463.4002500002,1301205.74425,1204128.1242500006,1265641.7232500003,1243033.22525,1320578.1907789998,1422235.879994,1514912.4278040002],\"type\":\"scatter\"},{\"name\":\"574771.2027600001\",\"x\":[\"2002\",\"2003\",\"2004\",\"2005\",\"2006\",\"2007\",\"2008\",\"2009\",\"2010\",\"2011\",\"2012\",\"2013\",\"2014\",\"2015\",\"2016\",\"2017\",\"2018\",\"2019\"],\"y\":[1522036.6707400002,1470338.442134,1575600.8537069988,1565556.4996210004,1395602.5217440003,1262533.1447319998,1245400.835895,1259401.2021549996,1235892.660642,1379004.7537980003,1340572.0736540002,1480585.9587590008],\"type\":\"scatter\"},{\"name\":\"651193.395393\",\"x\":[\"2002\",\"2003\",\"2004\",\"2005\",\"2006\",\"2007\",\"2008\",\"2009\",\"2010\",\"2011\",\"2012\",\"2013\",\"2014\",\"2015\",\"2016\",\"2017\",\"2018\",\"2019\"],\"y\":[1690499.9517029999,1573728.0545510005,1604569.3559249989,1452908.2087559989,1470015.1016919995,1289801.5415619996,1224005.8397310015,1210265.0201180011,1247174.546352,1348645.6968139992,1418991.0741889998,1369311.4452799992],\"type\":\"scatter\"}],                        {\"template\":{\"data\":{\"histogram2dcontour\":[{\"type\":\"histogram2dcontour\",\"colorbar\":{\"outlinewidth\":0,\"ticks\":\"\"},\"colorscale\":[[0.0,\"#0d0887\"],[0.1111111111111111,\"#46039f\"],[0.2222222222222222,\"#7201a8\"],[0.3333333333333333,\"#9c179e\"],[0.4444444444444444,\"#bd3786\"],[0.5555555555555556,\"#d8576b\"],[0.6666666666666666,\"#ed7953\"],[0.7777777777777778,\"#fb9f3a\"],[0.8888888888888888,\"#fdca26\"],[1.0,\"#f0f921\"]]}],\"choropleth\":[{\"type\":\"choropleth\",\"colorbar\":{\"outlinewidth\":0,\"ticks\":\"\"}}],\"histogram2d\":[{\"type\":\"histogram2d\",\"colorbar\":{\"outlinewidth\":0,\"ticks\":\"\"},\"colorscale\":[[0.0,\"#0d0887\"],[0.1111111111111111,\"#46039f\"],[0.2222222222222222,\"#7201a8\"],[0.3333333333333333,\"#9c179e\"],[0.4444444444444444,\"#bd3786\"],[0.5555555555555556,\"#d8576b\"],[0.6666666666666666,\"#ed7953\"],[0.7777777777777778,\"#fb9f3a\"],[0.8888888888888888,\"#fdca26\"],[1.0,\"#f0f921\"]]}],\"heatmap\":[{\"type\":\"heatmap\",\"colorbar\":{\"outlinewidth\":0,\"ticks\":\"\"},\"colorscale\":[[0.0,\"#0d0887\"],[0.1111111111111111,\"#46039f\"],[0.2222222222222222,\"#7201a8\"],[0.3333333333333333,\"#9c179e\"],[0.4444444444444444,\"#bd3786\"],[0.5555555555555556,\"#d8576b\"],[0.6666666666666666,\"#ed7953\"],[0.7777777777777778,\"#fb9f3a\"],[0.8888888888888888,\"#fdca26\"],[1.0,\"#f0f921\"]]}],\"heatmapgl\":[{\"type\":\"heatmapgl\",\"colorbar\":{\"outlinewidth\":0,\"ticks\":\"\"},\"colorscale\":[[0.0,\"#0d0887\"],[0.1111111111111111,\"#46039f\"],[0.2222222222222222,\"#7201a8\"],[0.3333333333333333,\"#9c179e\"],[0.4444444444444444,\"#bd3786\"],[0.5555555555555556,\"#d8576b\"],[0.6666666666666666,\"#ed7953\"],[0.7777777777777778,\"#fb9f3a\"],[0.8888888888888888,\"#fdca26\"],[1.0,\"#f0f921\"]]}],\"contourcarpet\":[{\"type\":\"contourcarpet\",\"colorbar\":{\"outlinewidth\":0,\"ticks\":\"\"}}],\"contour\":[{\"type\":\"contour\",\"colorbar\":{\"outlinewidth\":0,\"ticks\":\"\"},\"colorscale\":[[0.0,\"#0d0887\"],[0.1111111111111111,\"#46039f\"],[0.2222222222222222,\"#7201a8\"],[0.3333333333333333,\"#9c179e\"],[0.4444444444444444,\"#bd3786\"],[0.5555555555555556,\"#d8576b\"],[0.6666666666666666,\"#ed7953\"],[0.7777777777777778,\"#fb9f3a\"],[0.8888888888888888,\"#fdca26\"],[1.0,\"#f0f921\"]]}],\"surface\":[{\"type\":\"surface\",\"colorbar\":{\"outlinewidth\":0,\"ticks\":\"\"},\"colorscale\":[[0.0,\"#0d0887\"],[0.1111111111111111,\"#46039f\"],[0.2222222222222222,\"#7201a8\"],[0.3333333333333333,\"#9c179e\"],[0.4444444444444444,\"#bd3786\"],[0.5555555555555556,\"#d8576b\"],[0.6666666666666666,\"#ed7953\"],[0.7777777777777778,\"#fb9f3a\"],[0.8888888888888888,\"#fdca26\"],[1.0,\"#f0f921\"]]}],\"mesh3d\":[{\"type\":\"mesh3d\",\"colorbar\":{\"outlinewidth\":0,\"ticks\":\"\"}}],\"scatter\":[{\"fillpattern\":{\"fillmode\":\"overlay\",\"size\":10,\"solidity\":0.2},\"type\":\"scatter\"}],\"parcoords\":[{\"type\":\"parcoords\",\"line\":{\"colorbar\":{\"outlinewidth\":0,\"ticks\":\"\"}}}],\"scatterpolargl\":[{\"type\":\"scatterpolargl\",\"marker\":{\"colorbar\":{\"outlinewidth\":0,\"ticks\":\"\"}}}],\"bar\":[{\"error_x\":{\"color\":\"#2a3f5f\"},\"error_y\":{\"color\":\"#2a3f5f\"},\"marker\":{\"line\":{\"color\":\"#E5ECF6\",\"width\":0.5},\"pattern\":{\"fillmode\":\"overlay\",\"size\":10,\"solidity\":0.2}},\"type\":\"bar\"}],\"scattergeo\":[{\"type\":\"scattergeo\",\"marker\":{\"colorbar\":{\"outlinewidth\":0,\"ticks\":\"\"}}}],\"scatterpolar\":[{\"type\":\"scatterpolar\",\"marker\":{\"colorbar\":{\"outlinewidth\":0,\"ticks\":\"\"}}}],\"histogram\":[{\"marker\":{\"pattern\":{\"fillmode\":\"overlay\",\"size\":10,\"solidity\":0.2}},\"type\":\"histogram\"}],\"scattergl\":[{\"type\":\"scattergl\",\"marker\":{\"colorbar\":{\"outlinewidth\":0,\"ticks\":\"\"}}}],\"scatter3d\":[{\"type\":\"scatter3d\",\"line\":{\"colorbar\":{\"outlinewidth\":0,\"ticks\":\"\"}},\"marker\":{\"colorbar\":{\"outlinewidth\":0,\"ticks\":\"\"}}}],\"scattermapbox\":[{\"type\":\"scattermapbox\",\"marker\":{\"colorbar\":{\"outlinewidth\":0,\"ticks\":\"\"}}}],\"scatterternary\":[{\"type\":\"scatterternary\",\"marker\":{\"colorbar\":{\"outlinewidth\":0,\"ticks\":\"\"}}}],\"scattercarpet\":[{\"type\":\"scattercarpet\",\"marker\":{\"colorbar\":{\"outlinewidth\":0,\"ticks\":\"\"}}}],\"carpet\":[{\"aaxis\":{\"endlinecolor\":\"#2a3f5f\",\"gridcolor\":\"white\",\"linecolor\":\"white\",\"minorgridcolor\":\"white\",\"startlinecolor\":\"#2a3f5f\"},\"baxis\":{\"endlinecolor\":\"#2a3f5f\",\"gridcolor\":\"white\",\"linecolor\":\"white\",\"minorgridcolor\":\"white\",\"startlinecolor\":\"#2a3f5f\"},\"type\":\"carpet\"}],\"table\":[{\"cells\":{\"fill\":{\"color\":\"#EBF0F8\"},\"line\":{\"color\":\"white\"}},\"header\":{\"fill\":{\"color\":\"#C8D4E3\"},\"line\":{\"color\":\"white\"}},\"type\":\"table\"}],\"barpolar\":[{\"marker\":{\"line\":{\"color\":\"#E5ECF6\",\"width\":0.5},\"pattern\":{\"fillmode\":\"overlay\",\"size\":10,\"solidity\":0.2}},\"type\":\"barpolar\"}],\"pie\":[{\"automargin\":true,\"type\":\"pie\"}]},\"layout\":{\"autotypenumbers\":\"strict\",\"colorway\":[\"#636efa\",\"#EF553B\",\"#00cc96\",\"#ab63fa\",\"#FFA15A\",\"#19d3f3\",\"#FF6692\",\"#B6E880\",\"#FF97FF\",\"#FECB52\"],\"font\":{\"color\":\"#2a3f5f\"},\"hovermode\":\"closest\",\"hoverlabel\":{\"align\":\"left\"},\"paper_bgcolor\":\"white\",\"plot_bgcolor\":\"#E5ECF6\",\"polar\":{\"bgcolor\":\"#E5ECF6\",\"angularaxis\":{\"gridcolor\":\"white\",\"linecolor\":\"white\",\"ticks\":\"\"},\"radialaxis\":{\"gridcolor\":\"white\",\"linecolor\":\"white\",\"ticks\":\"\"}},\"ternary\":{\"bgcolor\":\"#E5ECF6\",\"aaxis\":{\"gridcolor\":\"white\",\"linecolor\":\"white\",\"ticks\":\"\"},\"baxis\":{\"gridcolor\":\"white\",\"linecolor\":\"white\",\"ticks\":\"\"},\"caxis\":{\"gridcolor\":\"white\",\"linecolor\":\"white\",\"ticks\":\"\"}},\"coloraxis\":{\"colorbar\":{\"outlinewidth\":0,\"ticks\":\"\"}},\"colorscale\":{\"sequential\":[[0.0,\"#0d0887\"],[0.1111111111111111,\"#46039f\"],[0.2222222222222222,\"#7201a8\"],[0.3333333333333333,\"#9c179e\"],[0.4444444444444444,\"#bd3786\"],[0.5555555555555556,\"#d8576b\"],[0.6666666666666666,\"#ed7953\"],[0.7777777777777778,\"#fb9f3a\"],[0.8888888888888888,\"#fdca26\"],[1.0,\"#f0f921\"]],\"sequentialminus\":[[0.0,\"#0d0887\"],[0.1111111111111111,\"#46039f\"],[0.2222222222222222,\"#7201a8\"],[0.3333333333333333,\"#9c179e\"],[0.4444444444444444,\"#bd3786\"],[0.5555555555555556,\"#d8576b\"],[0.6666666666666666,\"#ed7953\"],[0.7777777777777778,\"#fb9f3a\"],[0.8888888888888888,\"#fdca26\"],[1.0,\"#f0f921\"]],\"diverging\":[[0,\"#8e0152\"],[0.1,\"#c51b7d\"],[0.2,\"#de77ae\"],[0.3,\"#f1b6da\"],[0.4,\"#fde0ef\"],[0.5,\"#f7f7f7\"],[0.6,\"#e6f5d0\"],[0.7,\"#b8e186\"],[0.8,\"#7fbc41\"],[0.9,\"#4d9221\"],[1,\"#276419\"]]},\"xaxis\":{\"gridcolor\":\"white\",\"linecolor\":\"white\",\"ticks\":\"\",\"title\":{\"standoff\":15},\"zerolinecolor\":\"white\",\"automargin\":true,\"zerolinewidth\":2},\"yaxis\":{\"gridcolor\":\"white\",\"linecolor\":\"white\",\"ticks\":\"\",\"title\":{\"standoff\":15},\"zerolinecolor\":\"white\",\"automargin\":true,\"zerolinewidth\":2},\"scene\":{\"xaxis\":{\"backgroundcolor\":\"#E5ECF6\",\"gridcolor\":\"white\",\"linecolor\":\"white\",\"showbackground\":true,\"ticks\":\"\",\"zerolinecolor\":\"white\",\"gridwidth\":2},\"yaxis\":{\"backgroundcolor\":\"#E5ECF6\",\"gridcolor\":\"white\",\"linecolor\":\"white\",\"showbackground\":true,\"ticks\":\"\",\"zerolinecolor\":\"white\",\"gridwidth\":2},\"zaxis\":{\"backgroundcolor\":\"#E5ECF6\",\"gridcolor\":\"white\",\"linecolor\":\"white\",\"showbackground\":true,\"ticks\":\"\",\"zerolinecolor\":\"white\",\"gridwidth\":2}},\"shapedefaults\":{\"line\":{\"color\":\"#2a3f5f\"}},\"annotationdefaults\":{\"arrowcolor\":\"#2a3f5f\",\"arrowhead\":0,\"arrowwidth\":1},\"geo\":{\"bgcolor\":\"white\",\"landcolor\":\"#E5ECF6\",\"subunitcolor\":\"white\",\"showland\":true,\"showlakes\":true,\"lakecolor\":\"white\"},\"title\":{\"x\":0.05},\"mapbox\":{\"style\":\"light\"}}},\"title\":{\"text\":\"Consumo de energia el\\u00e9trica no Rio de Janeiro (2002-2019)\"},\"xaxis\":{\"title\":{\"text\":\"Ano\"}},\"yaxis\":{\"title\":{\"text\":\"Consumo (MWh)\"}}},                        {\"responsive\": true}                    ).then(function(){\n",
              "                            \n",
              "var gd = document.getElementById('50629b5c-4c79-4e8b-866d-13b63ea9752b');\n",
              "var x = new MutationObserver(function (mutations, observer) {{\n",
              "        var display = window.getComputedStyle(gd).display;\n",
              "        if (!display || display === 'none') {{\n",
              "            console.log([gd, 'removed!']);\n",
              "            Plotly.purge(gd);\n",
              "            observer.disconnect();\n",
              "        }}\n",
              "}});\n",
              "\n",
              "// Listen for the removal of the full notebook cells\n",
              "var notebookContainer = gd.closest('#notebook-container');\n",
              "if (notebookContainer) {{\n",
              "    x.observe(notebookContainer, {childList: true});\n",
              "}}\n",
              "\n",
              "// Listen for the clearing of the current output cell\n",
              "var outputEl = gd.closest('.output');\n",
              "if (outputEl) {{\n",
              "    x.observe(outputEl, {childList: true});\n",
              "}}\n",
              "\n",
              "                        })                };                            </script>        </div>\n",
              "</body>\n",
              "</html>"
            ]
          },
          "metadata": {}
        },
        {
          "output_type": "display_data",
          "data": {
            "text/html": [
              "<html>\n",
              "<head><meta charset=\"utf-8\" /></head>\n",
              "<body>\n",
              "    <div>            <script src=\"https://cdnjs.cloudflare.com/ajax/libs/mathjax/2.7.5/MathJax.js?config=TeX-AMS-MML_SVG\"></script><script type=\"text/javascript\">if (window.MathJax && window.MathJax.Hub && window.MathJax.Hub.Config) {window.MathJax.Hub.Config({SVG: {font: \"STIX-Web\"}});}</script>                <script type=\"text/javascript\">window.PlotlyConfig = {MathJaxConfig: 'local'};</script>\n",
              "        <script src=\"https://cdn.plot.ly/plotly-2.18.2.min.js\"></script>                <div id=\"bd6ec678-e0ed-479a-b84c-7159122eef37\" class=\"plotly-graph-div\" style=\"height:525px; width:100%;\"></div>            <script type=\"text/javascript\">                                    window.PLOTLYENV=window.PLOTLYENV || {};                                    if (document.getElementById(\"bd6ec678-e0ed-479a-b84c-7159122eef37\")) {                    Plotly.newPlot(                        \"bd6ec678-e0ed-479a-b84c-7159122eef37\",                        [{\"name\":\"Consumo residencial\",\"x\":[\"2002\",\"2003\",\"2004\",\"2005\",\"2006\",\"2007\",\"2008\",\"2009\",\"2010\",\"2011\",\"2012\",\"2013\",\"2014\",\"2015\",\"2016\",\"2017\",\"2018\",\"2019\"],\"y\":[4603194.384,4887462.045,4840629.842,5264761.083000001,5286605.181,5394924.1455999985,5382944.169400001,5759606.522,5985328.6450000005,6018866.576999999,5716652.172,5757301.518999998,6154636.363860759,5999339.683999999,5899648.858,6071649.054199999,5798436.087546,5839173.962017998],\"type\":\"bar\"}],                        {\"template\":{\"data\":{\"histogram2dcontour\":[{\"type\":\"histogram2dcontour\",\"colorbar\":{\"outlinewidth\":0,\"ticks\":\"\"},\"colorscale\":[[0.0,\"#0d0887\"],[0.1111111111111111,\"#46039f\"],[0.2222222222222222,\"#7201a8\"],[0.3333333333333333,\"#9c179e\"],[0.4444444444444444,\"#bd3786\"],[0.5555555555555556,\"#d8576b\"],[0.6666666666666666,\"#ed7953\"],[0.7777777777777778,\"#fb9f3a\"],[0.8888888888888888,\"#fdca26\"],[1.0,\"#f0f921\"]]}],\"choropleth\":[{\"type\":\"choropleth\",\"colorbar\":{\"outlinewidth\":0,\"ticks\":\"\"}}],\"histogram2d\":[{\"type\":\"histogram2d\",\"colorbar\":{\"outlinewidth\":0,\"ticks\":\"\"},\"colorscale\":[[0.0,\"#0d0887\"],[0.1111111111111111,\"#46039f\"],[0.2222222222222222,\"#7201a8\"],[0.3333333333333333,\"#9c179e\"],[0.4444444444444444,\"#bd3786\"],[0.5555555555555556,\"#d8576b\"],[0.6666666666666666,\"#ed7953\"],[0.7777777777777778,\"#fb9f3a\"],[0.8888888888888888,\"#fdca26\"],[1.0,\"#f0f921\"]]}],\"heatmap\":[{\"type\":\"heatmap\",\"colorbar\":{\"outlinewidth\":0,\"ticks\":\"\"},\"colorscale\":[[0.0,\"#0d0887\"],[0.1111111111111111,\"#46039f\"],[0.2222222222222222,\"#7201a8\"],[0.3333333333333333,\"#9c179e\"],[0.4444444444444444,\"#bd3786\"],[0.5555555555555556,\"#d8576b\"],[0.6666666666666666,\"#ed7953\"],[0.7777777777777778,\"#fb9f3a\"],[0.8888888888888888,\"#fdca26\"],[1.0,\"#f0f921\"]]}],\"heatmapgl\":[{\"type\":\"heatmapgl\",\"colorbar\":{\"outlinewidth\":0,\"ticks\":\"\"},\"colorscale\":[[0.0,\"#0d0887\"],[0.1111111111111111,\"#46039f\"],[0.2222222222222222,\"#7201a8\"],[0.3333333333333333,\"#9c179e\"],[0.4444444444444444,\"#bd3786\"],[0.5555555555555556,\"#d8576b\"],[0.6666666666666666,\"#ed7953\"],[0.7777777777777778,\"#fb9f3a\"],[0.8888888888888888,\"#fdca26\"],[1.0,\"#f0f921\"]]}],\"contourcarpet\":[{\"type\":\"contourcarpet\",\"colorbar\":{\"outlinewidth\":0,\"ticks\":\"\"}}],\"contour\":[{\"type\":\"contour\",\"colorbar\":{\"outlinewidth\":0,\"ticks\":\"\"},\"colorscale\":[[0.0,\"#0d0887\"],[0.1111111111111111,\"#46039f\"],[0.2222222222222222,\"#7201a8\"],[0.3333333333333333,\"#9c179e\"],[0.4444444444444444,\"#bd3786\"],[0.5555555555555556,\"#d8576b\"],[0.6666666666666666,\"#ed7953\"],[0.7777777777777778,\"#fb9f3a\"],[0.8888888888888888,\"#fdca26\"],[1.0,\"#f0f921\"]]}],\"surface\":[{\"type\":\"surface\",\"colorbar\":{\"outlinewidth\":0,\"ticks\":\"\"},\"colorscale\":[[0.0,\"#0d0887\"],[0.1111111111111111,\"#46039f\"],[0.2222222222222222,\"#7201a8\"],[0.3333333333333333,\"#9c179e\"],[0.4444444444444444,\"#bd3786\"],[0.5555555555555556,\"#d8576b\"],[0.6666666666666666,\"#ed7953\"],[0.7777777777777778,\"#fb9f3a\"],[0.8888888888888888,\"#fdca26\"],[1.0,\"#f0f921\"]]}],\"mesh3d\":[{\"type\":\"mesh3d\",\"colorbar\":{\"outlinewidth\":0,\"ticks\":\"\"}}],\"scatter\":[{\"fillpattern\":{\"fillmode\":\"overlay\",\"size\":10,\"solidity\":0.2},\"type\":\"scatter\"}],\"parcoords\":[{\"type\":\"parcoords\",\"line\":{\"colorbar\":{\"outlinewidth\":0,\"ticks\":\"\"}}}],\"scatterpolargl\":[{\"type\":\"scatterpolargl\",\"marker\":{\"colorbar\":{\"outlinewidth\":0,\"ticks\":\"\"}}}],\"bar\":[{\"error_x\":{\"color\":\"#2a3f5f\"},\"error_y\":{\"color\":\"#2a3f5f\"},\"marker\":{\"line\":{\"color\":\"#E5ECF6\",\"width\":0.5},\"pattern\":{\"fillmode\":\"overlay\",\"size\":10,\"solidity\":0.2}},\"type\":\"bar\"}],\"scattergeo\":[{\"type\":\"scattergeo\",\"marker\":{\"colorbar\":{\"outlinewidth\":0,\"ticks\":\"\"}}}],\"scatterpolar\":[{\"type\":\"scatterpolar\",\"marker\":{\"colorbar\":{\"outlinewidth\":0,\"ticks\":\"\"}}}],\"histogram\":[{\"marker\":{\"pattern\":{\"fillmode\":\"overlay\",\"size\":10,\"solidity\":0.2}},\"type\":\"histogram\"}],\"scattergl\":[{\"type\":\"scattergl\",\"marker\":{\"colorbar\":{\"outlinewidth\":0,\"ticks\":\"\"}}}],\"scatter3d\":[{\"type\":\"scatter3d\",\"line\":{\"colorbar\":{\"outlinewidth\":0,\"ticks\":\"\"}},\"marker\":{\"colorbar\":{\"outlinewidth\":0,\"ticks\":\"\"}}}],\"scattermapbox\":[{\"type\":\"scattermapbox\",\"marker\":{\"colorbar\":{\"outlinewidth\":0,\"ticks\":\"\"}}}],\"scatterternary\":[{\"type\":\"scatterternary\",\"marker\":{\"colorbar\":{\"outlinewidth\":0,\"ticks\":\"\"}}}],\"scattercarpet\":[{\"type\":\"scattercarpet\",\"marker\":{\"colorbar\":{\"outlinewidth\":0,\"ticks\":\"\"}}}],\"carpet\":[{\"aaxis\":{\"endlinecolor\":\"#2a3f5f\",\"gridcolor\":\"white\",\"linecolor\":\"white\",\"minorgridcolor\":\"white\",\"startlinecolor\":\"#2a3f5f\"},\"baxis\":{\"endlinecolor\":\"#2a3f5f\",\"gridcolor\":\"white\",\"linecolor\":\"white\",\"minorgridcolor\":\"white\",\"startlinecolor\":\"#2a3f5f\"},\"type\":\"carpet\"}],\"table\":[{\"cells\":{\"fill\":{\"color\":\"#EBF0F8\"},\"line\":{\"color\":\"white\"}},\"header\":{\"fill\":{\"color\":\"#C8D4E3\"},\"line\":{\"color\":\"white\"}},\"type\":\"table\"}],\"barpolar\":[{\"marker\":{\"line\":{\"color\":\"#E5ECF6\",\"width\":0.5},\"pattern\":{\"fillmode\":\"overlay\",\"size\":10,\"solidity\":0.2}},\"type\":\"barpolar\"}],\"pie\":[{\"automargin\":true,\"type\":\"pie\"}]},\"layout\":{\"autotypenumbers\":\"strict\",\"colorway\":[\"#636efa\",\"#EF553B\",\"#00cc96\",\"#ab63fa\",\"#FFA15A\",\"#19d3f3\",\"#FF6692\",\"#B6E880\",\"#FF97FF\",\"#FECB52\"],\"font\":{\"color\":\"#2a3f5f\"},\"hovermode\":\"closest\",\"hoverlabel\":{\"align\":\"left\"},\"paper_bgcolor\":\"white\",\"plot_bgcolor\":\"#E5ECF6\",\"polar\":{\"bgcolor\":\"#E5ECF6\",\"angularaxis\":{\"gridcolor\":\"white\",\"linecolor\":\"white\",\"ticks\":\"\"},\"radialaxis\":{\"gridcolor\":\"white\",\"linecolor\":\"white\",\"ticks\":\"\"}},\"ternary\":{\"bgcolor\":\"#E5ECF6\",\"aaxis\":{\"gridcolor\":\"white\",\"linecolor\":\"white\",\"ticks\":\"\"},\"baxis\":{\"gridcolor\":\"white\",\"linecolor\":\"white\",\"ticks\":\"\"},\"caxis\":{\"gridcolor\":\"white\",\"linecolor\":\"white\",\"ticks\":\"\"}},\"coloraxis\":{\"colorbar\":{\"outlinewidth\":0,\"ticks\":\"\"}},\"colorscale\":{\"sequential\":[[0.0,\"#0d0887\"],[0.1111111111111111,\"#46039f\"],[0.2222222222222222,\"#7201a8\"],[0.3333333333333333,\"#9c179e\"],[0.4444444444444444,\"#bd3786\"],[0.5555555555555556,\"#d8576b\"],[0.6666666666666666,\"#ed7953\"],[0.7777777777777778,\"#fb9f3a\"],[0.8888888888888888,\"#fdca26\"],[1.0,\"#f0f921\"]],\"sequentialminus\":[[0.0,\"#0d0887\"],[0.1111111111111111,\"#46039f\"],[0.2222222222222222,\"#7201a8\"],[0.3333333333333333,\"#9c179e\"],[0.4444444444444444,\"#bd3786\"],[0.5555555555555556,\"#d8576b\"],[0.6666666666666666,\"#ed7953\"],[0.7777777777777778,\"#fb9f3a\"],[0.8888888888888888,\"#fdca26\"],[1.0,\"#f0f921\"]],\"diverging\":[[0,\"#8e0152\"],[0.1,\"#c51b7d\"],[0.2,\"#de77ae\"],[0.3,\"#f1b6da\"],[0.4,\"#fde0ef\"],[0.5,\"#f7f7f7\"],[0.6,\"#e6f5d0\"],[0.7,\"#b8e186\"],[0.8,\"#7fbc41\"],[0.9,\"#4d9221\"],[1,\"#276419\"]]},\"xaxis\":{\"gridcolor\":\"white\",\"linecolor\":\"white\",\"ticks\":\"\",\"title\":{\"standoff\":15},\"zerolinecolor\":\"white\",\"automargin\":true,\"zerolinewidth\":2},\"yaxis\":{\"gridcolor\":\"white\",\"linecolor\":\"white\",\"ticks\":\"\",\"title\":{\"standoff\":15},\"zerolinecolor\":\"white\",\"automargin\":true,\"zerolinewidth\":2},\"scene\":{\"xaxis\":{\"backgroundcolor\":\"#E5ECF6\",\"gridcolor\":\"white\",\"linecolor\":\"white\",\"showbackground\":true,\"ticks\":\"\",\"zerolinecolor\":\"white\",\"gridwidth\":2},\"yaxis\":{\"backgroundcolor\":\"#E5ECF6\",\"gridcolor\":\"white\",\"linecolor\":\"white\",\"showbackground\":true,\"ticks\":\"\",\"zerolinecolor\":\"white\",\"gridwidth\":2},\"zaxis\":{\"backgroundcolor\":\"#E5ECF6\",\"gridcolor\":\"white\",\"linecolor\":\"white\",\"showbackground\":true,\"ticks\":\"\",\"zerolinecolor\":\"white\",\"gridwidth\":2}},\"shapedefaults\":{\"line\":{\"color\":\"#2a3f5f\"}},\"annotationdefaults\":{\"arrowcolor\":\"#2a3f5f\",\"arrowhead\":0,\"arrowwidth\":1},\"geo\":{\"bgcolor\":\"white\",\"landcolor\":\"#E5ECF6\",\"subunitcolor\":\"white\",\"showland\":true,\"showlakes\":true,\"lakecolor\":\"white\"},\"title\":{\"x\":0.05},\"mapbox\":{\"style\":\"light\"}}},\"title\":{\"text\":\"Consumo de energia el\\u00e9trica no Rio de Janeiro (2002-2019)\"},\"xaxis\":{\"title\":{\"text\":\"Ano\"}},\"yaxis\":{\"title\":{\"text\":\"Consumo (MWh)\"}}},                        {\"responsive\": true}                    ).then(function(){\n",
              "                            \n",
              "var gd = document.getElementById('bd6ec678-e0ed-479a-b84c-7159122eef37');\n",
              "var x = new MutationObserver(function (mutations, observer) {{\n",
              "        var display = window.getComputedStyle(gd).display;\n",
              "        if (!display || display === 'none') {{\n",
              "            console.log([gd, 'removed!']);\n",
              "            Plotly.purge(gd);\n",
              "            observer.disconnect();\n",
              "        }}\n",
              "}});\n",
              "\n",
              "// Listen for the removal of the full notebook cells\n",
              "var notebookContainer = gd.closest('#notebook-container');\n",
              "if (notebookContainer) {{\n",
              "    x.observe(notebookContainer, {childList: true});\n",
              "}}\n",
              "\n",
              "// Listen for the clearing of the current output cell\n",
              "var outputEl = gd.closest('.output');\n",
              "if (outputEl) {{\n",
              "    x.observe(outputEl, {childList: true});\n",
              "}}\n",
              "\n",
              "                        })                };                            </script>        </div>\n",
              "</body>\n",
              "</html>"
            ]
          },
          "metadata": {}
        },
        {
          "output_type": "display_data",
          "data": {
            "text/html": [
              "<html>\n",
              "<head><meta charset=\"utf-8\" /></head>\n",
              "<body>\n",
              "    <div>            <script src=\"https://cdnjs.cloudflare.com/ajax/libs/mathjax/2.7.5/MathJax.js?config=TeX-AMS-MML_SVG\"></script><script type=\"text/javascript\">if (window.MathJax && window.MathJax.Hub && window.MathJax.Hub.Config) {window.MathJax.Hub.Config({SVG: {font: \"STIX-Web\"}});}</script>                <script type=\"text/javascript\">window.PlotlyConfig = {MathJaxConfig: 'local'};</script>\n",
              "        <script src=\"https://cdn.plot.ly/plotly-2.18.2.min.js\"></script>                <div id=\"c6a96f99-309e-447d-bceb-d23f18be8e5e\" class=\"plotly-graph-div\" style=\"height:525px; width:100%;\"></div>            <script type=\"text/javascript\">                                    window.PLOTLYENV=window.PLOTLYENV || {};                                    if (document.getElementById(\"c6a96f99-309e-447d-bceb-d23f18be8e5e\")) {                    Plotly.newPlot(                        \"c6a96f99-309e-447d-bceb-d23f18be8e5e\",                        [{\"name\":\"Residencial\",\"x\":[\"2002\",\"2003\",\"2004\",\"2005\",\"2006\",\"2007\",\"2008\",\"2009\",\"2010\",\"2011\",\"2012\",\"2013\",\"2014\",\"2015\",\"2016\",\"2017\",\"2018\",\"2019\"],\"y\":[[350121.439,360354.173,329053.693,460983.039,403608.164,362071.84,346843.06,359412.252,353521.288,383440.107,431789.763,461995.566],[487581.09,482074.32,507677.94,403703.083,404002.814,360981.711,353784.829,357218.799,338027.966,382649.702,368786.479,440973.312],[428329.693,441657.577,425587.865,442881.728,412187.558,356448.648,362535.763,357096.709,385693.657,388623.714,412078.202,427508.728],[475030.247,434285.975,462060.191,496019.18,438128.451,419001.753,381269.629,386525.284,434148.082,411045.367,442041.552,485205.372],[459400.398,518603.89,537365.711,477918.75,398735.947,396261.703,398678.629,385721.098,372282.915,436696.334,430799.362,474140.444],[491837.64599999995,481181.70300000004,566337.0219999994,529895.7780000002,458749.90900000004,386279.35699999996,373558.103,381523.61199999985,411321.0786000003,420509.63499999995,456623.1729999999,437107.1290000001],[532036.9530000001,478016.9034,488703.7890000001,469973.24899999984,463617.39499999996,395182.4360000003,414804.3860000001,414667.4199999998,407437.35499999975,438518.7810000003,456355.739,423629.76300000015],[505928.7880000001,516317.4749999998,580841.03,500089.4619999999,454995.12100000004,401819.238,411755.6659999999,417697.42100000015,437966.3319999998,465474.82000000024,504575.075,562146.0939999995],[594241.7849999999,627094.9640000003,585759.3099999998,538599.2179999998,472799.8040000003,437798.22900000017,409826.2380000002,422315.4929999999,429606.48099999997,453745.97899999993,451622.916,561918.2279999999],[609543.0889999999,639222.8349999997,579855.8229999997,532517.4640000002,507280.6819999997,429323.17499999993,422244.4199999998,438107.26599999995,453788.3509999999,460199.4959999999,457338.5809999999,489445.39499999984],[523446.8480000001,560563.0440000001,607097.4840000002,506771.58299999987,462749.1479999999,414390.38,415928.0819999998,414158.24100000015,405903.6620000001,424596.9100000002,479162.6139999999,501884.1760000001],[617136.9759999997,528052.2309999999,583989.6599999999,480619.6040000001,458285.3939999996,423739.5039999999,426732.9570000001,400046.753,404593.98300000007,463966.51399999985,450927.8330000001,519210.11000000004],[636136.451,678854.4589999999,633132.168,544225.5330000002,486322.3760000001,431264.50099999993,443814.87299999996,390843.76300000015,423998.58900000004,477476.9200000001,494980.2948607597,513586.4359999999],[693986.7840000001,656481.3530000001,618452.1299999999,509597.81799999974,455869.2779999998,412705.19600000005,395974.6059999999,412126.02999999997,412189.6829999999,470082.6090000001,485952.7949999999,475921.4020000001],[627837.2900000003,560029.566,566188.7729999999,591358.3900000005,494952.47800000006,397765.31299999985,365178.11999999994,407410.26399999985,435036.08299999975,445637.21500000026,475078.56299999997,533176.803],[648770.463,663261.8049999999,685677.9220000001,495512.9669999999,451972.3120000001,419675.3469999998,390137.19100000017,417682.15399999986,387523.1870000001,445555.6413999997,507641.3376000001,558238.7272],[574771.2027600001,525227.159401,601390.7198689992,564515.7730589999,472441.05002900003,410929.62725500006,411380.8166679999,411936.99665699987,399510.889772,460927.66765000025,442827.9781990001,522576.206227],[651193.395393,600072.4359789997,600134.1085479992,505905.41303899954,511285.0121240005,423932.66786999983,381224.6115370002,379507.9184040002,393793.1172669998,417742.73982399976,490819.2915019998,483563.2505309996]],\"type\":\"bar\"},{\"name\":\"Industrial\",\"x\":[\"2002\",\"2003\",\"2004\",\"2005\",\"2006\",\"2007\",\"2008\",\"2009\",\"2010\",\"2011\",\"2012\",\"2013\",\"2014\",\"2015\",\"2016\",\"2017\",\"2018\",\"2019\"],\"y\":[[261649.757,269338.115,252751.696,286647.461,300751.107,293927.364,234177.068,250921.868,250542.428,240119.437,255830.832,236796.894],[232263.75,226663.872,213637.923,219825.067,213533.122,200867.648,198584.592,202044.138,195198.097,205778.794,213386.165,209107.156],[195286.663,203105.928,200150.394,201687.719,200828.989,204284.585,207423.783,215134.34,209291.454,212794.492,219277.201,226160.801],[207169.462,213054.639,206495.48,225816.874,205797.047,185036.479,158878.907,163982.365,172625.109,164504.323,163724.589,184190.976],[315579.527,337247.706,173326.415,67981.449,171279.086,114506.559,110915.797,116244.614,107777.889,113579.418,114732.811,109035.957],[323289.8730000002,310879.03300000005,308006.61899999995,338185.6739999999,317304.307,325508.3679999998,315929.36799999996,328822.6360000002,329847.416,322457.02999999997,330755.374,324679.628],[317900.2170000002,322944.5839999999,299091.614,324266.025,327010.53800000006,327415.155,328017.95889999997,339879.6930000001,323184.01799999987,332769.1369999999,346388.0890000001,302682.4510000002],[234507.12300000014,245664.71399999995,229175.32200000004,250973.86199999988,199534.69700000001,196524.00600000005,192368.24500000002,191009.19300000003,201178.278,207041.21200000003,219495.52700000006,215901.8929999999],[203764.007,215441.01400000002,203544.6249999999,217956.07299999992,194473.2,222648.02599999998,249482.29000000007,264481.401,261436.32100000005,264380.58199999994,287248.93299999996,276027.15800000005],[238748.36699999994,241870.21300000002,219433.403,208696.09000000005,205599.41999999993,207278.74099999998,195068.57,211302.96499999994,206776.48699999994,206703.52300000002,211816.934,209455.404],[198840.56600000002,206483.0,204736.12299999996,209024.90300000005,198061.01700000008,196032.368,184308.53200000004,207778.20299999995,210164.75299999997,197379.94700000001,205238.51100000003,204300.15900000004],[180534.317,200392.01900000006,195643.31399999998,211330.41000000003,199021.824,202948.50299999997,195067.698,195733.7034,200534.26200000002,197529.24800000002,205766.46000000002,199203.05699999997],[195929.19700000007,196353.65600000008,199087.33100000003,205177.82100000005,191180.35499999998,195758.59300000008,172164.6070000001,174825.13299999997,177090.16700000004,185471.977,190491.657,184261.69700000004],[150051.07499999995,167638.52100000004,165520.39900000003,186240.16799999995,172065.11499999993,164827.80799999993,151538.76900000003,166069.65199999997,166969.97999999998,134774.37900000002,173311.42899999997,162866.421],[133699.075,165112.30899999995,158401.85799999995,159576.19599999985,169714.08899999992,169067.31199999998,164637.43299999993,165480.90799999982,166023.5299999999,161235.58699999982,159313.00799999997,160667.46599999984],[126872.75700000001,171943.84500000006,159527.45600000006,163652.08000000002,153285.39199999993,156027.3870000001,137476.61000000004,153755.9850000001,154440.21099999992,144245.30700000006,161056.764,162453.071],[159064.94599999997,170958.19350000002,156439.32699999996,167087.9475,164301.94299999997,150367.259,156566.15800000002,147558.68000000008,152254.26400000005,166356.29899999994,166311.69767100006,170942.14883000008],[171289.17886800002,158388.28338099996,164494.45236,161730.67658600007,164278.5310880001,153584.75189100005,157698.11655000015,150699.65914400018,153969.34182500004,162776.83496300006,162199.98643899985,116159.10482300007]],\"type\":\"bar\"},{\"name\":\"Comercial\",\"x\":[\"2002\",\"2003\",\"2004\",\"2005\",\"2006\",\"2007\",\"2008\",\"2009\",\"2010\",\"2011\",\"2012\",\"2013\",\"2014\",\"2015\",\"2016\",\"2017\",\"2018\",\"2019\"],\"y\":[[355558.115,375847.478,353384.172,377707.96,380131.273,347477.148,304202.722,334906.852,333853.216,348996.064,379143.649,381306.269],[397582.488,407964.692,399592.607,362924.074,352523.499,334665.858,320611.398,330388.703,305300.47,346198.498,361053.822,399530.148],[357271.703,385037.707,378958.484,389511.665,365804.573,327034.594,341543.826,325547.886,348299.37,359817.666,364534.766,400093.025],[400600.717,374154.979,409253.753,427468.471,388272.326,387805.618,353251.074,352750.479,388604.548,377327.611,395894.136,430341.136],[593853.457,659723.075,433646.045,414258.243,386890.726,353969.148,345887.867,355113.174,345212.572,377466.439,385474.756,414608.898],[436411.5579999998,410790.27799999976,472789.3780000001,477652.4289999997,414025.8430000002,370052.2250000004,378332.1649999997,370586.85099999956,398926.37499999994,397326.28299999994,415627.4079999999,420790.9519999999],[447631.79299999983,431961.2610000002,448819.90100000007,440760.23099999997,429360.0029999998,384683.73000000004,386642.1970000003,397955.8479999998,405414.707,414937.22599999997,440063.94700000016,427005.2119999999],[432260.03200000006,458347.789,483892.3069999996,463392.89499999984,425679.8839999999,403356.20399999985,393419.04000000004,393722.0130000001,417853.21800000005,432222.43300000014,472003.70599999995,504787.9029999998],[491762.69599999994,506651.7370000002,498764.4070000001,477534.8190000002,447047.64300000004,422237.65799999976,419332.15400000016,415632.0429999999,431707.0090000001,439296.1890000001,459873.3830000001,525787.9700000002],[508070.87400000007,532995.7586999994,510095.9050000001,496864.4806999999,480961.0439999998,430013.47400000016,416830.0089999998,437284.0430000002,447562.9639999999,458984.9479999998,468076.62799999985,497069.94600000023],[503305.95299999986,522529.7850000003,558259.9209999995,531745.6579999998,513861.42299999995,487980.8229999999,481436.25499999995,501889.8229999999,505926.0489999999,512981.8999999999,553885.3440000005,566994.8020000004],[587171.3139999998,561190.01,581614.1209999999,554480.2079999998,529210.9079999997,538300.9600000003,514600.8610000001,497761.934,513401.1269999999,548305.4439999998,548862.1620000002,566635.5120000002],[601673.096,642286.1879999997,613181.5860000001,581553.0289999997,549828.8530000002,525080.4269999999,522096.96999999986,500960.7400999998,524658.5009999999,578073.0339999999,591289.3099999999,592011.7869999999],[643696.7369999994,649599.6060000001,635824.9230000003,608763.604,555942.8480000001,541639.9060000003,516618.5380000004,524640.763,531730.346,566401.765,579984.182,577785.3910000003],[623629.9710000001,605636.5319999998,621746.1579999998,650178.1469999993,570509.1760000002,507464.0020000002,497373.8150000002,498047.2240000002,525495.279,521008.6170000002,537338.1220000001,581880.9259999999],[615068.9109999995,625038.0990000002,625061.3389999996,573918.6599999999,590118.174,503571.1449999998,471031.1010000002,482268.0150000001,490924.2329999998,500748.5961290001,528157.7931439999,559626.7203540002],[567161.85898,548414.3952329999,574457.0968379999,587202.2120620003,530023.1797150001,486154.08347699983,468759.50522700016,486366.8464979996,471144.49486999994,518531.4471480002,509135.43478400033,551929.5037020002],[616694.4435220001,570172.5631510004,586701.3737369996,546437.2798609996,556900.4634199989,492312.5371409999,469342.8974440011,469465.4301600005,482757.9944700003,518997.1095469992,535669.2843880004,544190.7393159996]],\"type\":\"bar\"},{\"name\":\"Rural\",\"x\":[\"2002\",\"2003\",\"2004\",\"2005\",\"2006\",\"2007\",\"2008\",\"2009\",\"2010\",\"2011\",\"2012\",\"2013\",\"2014\",\"2015\",\"2016\",\"2017\",\"2018\",\"2019\"],\"y\":[[355558.115,375847.478,353384.172,377707.96,380131.273,347477.148,304202.722,334906.852,333853.216,348996.064,379143.649,381306.269],[397582.488,407964.692,399592.607,362924.074,352523.499,334665.858,320611.398,330388.703,305300.47,346198.498,361053.822,399530.148],[357271.703,385037.707,378958.484,389511.665,365804.573,327034.594,341543.826,325547.886,348299.37,359817.666,364534.766,400093.025],[400600.717,374154.979,409253.753,427468.471,388272.326,387805.618,353251.074,352750.479,388604.548,377327.611,395894.136,430341.136],[593853.457,659723.075,433646.045,414258.243,386890.726,353969.148,345887.867,355113.174,345212.572,377466.439,385474.756,414608.898],[436411.5579999998,410790.27799999976,472789.3780000001,477652.4289999997,414025.8430000002,370052.2250000004,378332.1649999997,370586.85099999956,398926.37499999994,397326.28299999994,415627.4079999999,420790.9519999999],[447631.79299999983,431961.2610000002,448819.90100000007,440760.23099999997,429360.0029999998,384683.73000000004,386642.1970000003,397955.8479999998,405414.707,414937.22599999997,440063.94700000016,427005.2119999999],[432260.03200000006,458347.789,483892.3069999996,463392.89499999984,425679.8839999999,403356.20399999985,393419.04000000004,393722.0130000001,417853.21800000005,432222.43300000014,472003.70599999995,504787.9029999998],[491762.69599999994,506651.7370000002,498764.4070000001,477534.8190000002,447047.64300000004,422237.65799999976,419332.15400000016,415632.0429999999,431707.0090000001,439296.1890000001,459873.3830000001,525787.9700000002],[508070.87400000007,532995.7586999994,510095.9050000001,496864.4806999999,480961.0439999998,430013.47400000016,416830.0089999998,437284.0430000002,447562.9639999999,458984.9479999998,468076.62799999985,497069.94600000023],[503305.95299999986,522529.7850000003,558259.9209999995,531745.6579999998,513861.42299999995,487980.8229999999,481436.25499999995,501889.8229999999,505926.0489999999,512981.8999999999,553885.3440000005,566994.8020000004],[587171.3139999998,561190.01,581614.1209999999,554480.2079999998,529210.9079999997,538300.9600000003,514600.8610000001,497761.934,513401.1269999999,548305.4439999998,548862.1620000002,566635.5120000002],[601673.096,642286.1879999997,613181.5860000001,581553.0289999997,549828.8530000002,525080.4269999999,522096.96999999986,500960.7400999998,524658.5009999999,578073.0339999999,591289.3099999999,592011.7869999999],[643696.7369999994,649599.6060000001,635824.9230000003,608763.604,555942.8480000001,541639.9060000003,516618.5380000004,524640.763,531730.346,566401.765,579984.182,577785.3910000003],[623629.9710000001,605636.5319999998,621746.1579999998,650178.1469999993,570509.1760000002,507464.0020000002,497373.8150000002,498047.2240000002,525495.279,521008.6170000002,537338.1220000001,581880.9259999999],[615068.9109999995,625038.0990000002,625061.3389999996,573918.6599999999,590118.174,503571.1449999998,471031.1010000002,482268.0150000001,490924.2329999998,500748.5961290001,528157.7931439999,559626.7203540002],[567161.85898,548414.3952329999,574457.0968379999,587202.2120620003,530023.1797150001,486154.08347699983,468759.50522700016,486366.8464979996,471144.49486999994,518531.4471480002,509135.43478400033,551929.5037020002],[616694.4435220001,570172.5631510004,586701.3737369996,546437.2798609996,556900.4634199989,492312.5371409999,469342.8974440011,469465.4301600005,482757.9944700003,518997.1095469992,535669.2843880004,544190.7393159996]],\"type\":\"bar\"},{\"name\":\"Poder P\\u00fablico\",\"x\":[\"2002\",\"2003\",\"2004\",\"2005\",\"2006\",\"2007\",\"2008\",\"2009\",\"2010\",\"2011\",\"2012\",\"2013\",\"2014\",\"2015\",\"2016\",\"2017\",\"2018\",\"2019\"],\"y\":[[70121.584,77655.906,78999.931,84441.032,87859.374,77165.339,67550.182,72509.623,76339.927,78084.225,87588.153,83589.817],[85926.575,88906.948,90545.217,78800.013,80539.796,77184.666,72165.264,74428.752,69778.119,76574.278,84592.983,86549.542],[75138.274,80500.138,80501.956,87406.298,83080.592,68854.328,72238.019,66403.192,74593.004,80971.418,80227.629,86098.213],[86555.07,80897.83,89520.79,97639.537,88256.083,82872.167,78738.997,77294.107,83816.201,81497.384,85149.677,89571.393],[155146.138,180148.563,56024.327,102533.122,141542.813,64582.477,85407.294,81279.827,84522.932,80623.762,96227.981,96121.933],[86566.57300000003,71819.45000000003,133636.18899999993,122019.886,97615.987,89633.33600000005,91700.91699999997,84372.86599999997,90974.741,92127.13700000005,95168.86500000002,98382.474],[97640.98499999999,95343.27400000003,103739.16799999996,102396.08699999998,99263.35600000003,87377.56200000002,84380.587,89228.43999999997,95557.00600000001,93430.69699999996,102769.06299999997,98222.07299999993],[94987.34700000007,106830.01300000006,115608.46000000004,110657.25199999993,98796.15599999992,96112.30099999999,91539.30600000001,88492.285,95712.46600000001,99140.22200000005,113828.53900000003,118149.49000000009],[107141.45000000003,117307.851,117535.04699999993,111671.46400000005,104769.29600000003,95357.57300000002,88517.31599999992,93002.678,96335.38100000002,97275.46899999998,98472.30200000005,118433.73300000002],[111422.16800000008,122506.25499999993,121191.13700000006,117675.43499999998,112000.28899999992,95630.167,90524.39600000001,95824.47600000001,100776.66499999996,101440.527,105914.43900000003,111575.55400000006],[108828.08100000002,115321.80199999998,129668.5650000001,121450.18400000001,112934.07699999995,105103.86099999998,99668.90000000001,102127.18100000004,107259.06799999998,110763.016,121471.18500000003,124948.82500000008],[121775.53800000002,118169.61199999998,129691.28499999997,119695.56599999999,112161.33699999998,111659.99300000006,103983.12299999999,100065.65800000004,106792.41699999996,113128.93499999995,116466.05699999999,118299.35399999998],[118583.97600000004,138954.63399999996,133971.724,125111.23399999995,110288.03,105455.48199999993,100219.30899999996,102101.15200000003,108087.23699999996,108880.32500000001,115064.37200000002,112146.90600000002],[118055.21299999996,119624.94700000009,125695.22000000003,116591.27700000002,101913.96200000003,100986.65299999998,93102.40100000003,94071.94699999997,98873.62800000003,108730.69099999998,108132.29799999997,102488.85100000002],[107313.261,110109.51500000007,120575.08600000005,128745.38200000009,109029.093,91901.31100000003,91296.96400000002,94732.83300000003,107688.81399999998,103567.89500000002,105497.60999999996,108628.67699999992],[113236.83091666678,118639.54191666664,126360.11091666679,111316.99691666667,33296.345916666716,93351.86691666675,83651.2379166667,85970.03391666673,86801.42791666675,105775.63091666675,99434.04391666675,109781.15391666675],[91592.26499999997,97908.42299999995,117803.89699999997,113511.09899999999,103233.30900000007,90126.41499999995,87480.05500000001,86553.87799999998,88719.685,104744.49299999996,97551.26299999999,108194.13799999996],[117538.57299999996,115466.73800000003,119476.99600000006,113698.63400000006,112299.37799999998,99690.694,92076.837,87941.082,92873.112,102859.757,108915.74999999997,102144.75700000003]],\"type\":\"bar\"},{\"name\":\"Ilumina\\u00e7\\u00e3o P\\u00fablica\",\"x\":[\"2002\",\"2003\",\"2004\",\"2005\",\"2006\",\"2007\",\"2008\",\"2009\",\"2010\",\"2011\",\"2012\",\"2013\",\"2014\",\"2015\",\"2016\",\"2017\",\"2018\",\"2019\"],\"y\":[[0.129,0.349,0.25,0.246,0.255,0.245,0.237,0.277,38899.029,0.341,0.396,0.841],[38225.998,37268.372,38232.724,38629.471,30552.37,34933.817,34626.243,26178.853,37868.977,36407.594,35931.472,31493.235],[31524.244,31526.029,31543.191,34508.356,34505.909,35052.322,35329.865,36590.829,37805.186,37715.588,37715.125,39356.646],[29891.391,35000.28,34831.604,42525.736,45071.06,55180.883,48426.606,49011.527,45857.02,40828.647,38431.572,39497.711],[79311.417,87505.472,0.0,0.0,0.0,0.0,0.0,0.0,0.0,0.0,0.0,0.0],[38273.838999999985,39880.50099999999,37147.931,41561.50799999999,38527.25299999999,40027.506999999976,35820.229999999996,38578.807000000015,38560.868,37220.958000000006,38532.26400000002,37281.041],[38485.483,38468.913,35376.742,37776.44600000001,36560.68800000001,37750.43999999999,36583.041,37732.78499999998,37715.101,36555.62599999999,37635.499,36441.30199999999],[37635.238,37627.55299999999,34058.779,37670.404999999984,36450.89400000001,37799.106999999996,29154.668999999994,37541.411,37289.77300000001,36220.84,37392.310999999994,36211.72399999999],[37391.21399999998,37379.79199999999,33872.17899999999,36702.51299999999,36415.431000000004,37688.46599999999,36868.227,37612.61999999998,37633.99499999999,36775.72599999999,37664.887,36486.53600000001],[37671.546999999984,39211.971000000005,32560.823999999997,39040.02999999999,36677.51599999999,37903.715999999986,36676.62099999997,37881.377,37905.44999999999,37635.111,38047.187,36809.69699999999],[37977.00000000001,37964.369999999995,35652.73399999998,39242.85399999998,36944.01999999998,38138.59899999999,36963.352,39657.939,40272.799999999996,38106.956999999995,38460.35,37043.80799999998],[38241.00399999999,38735.208999999995,35896.41499999999,38384.325999999994,37236.37999999999,38417.709999999985,38887.106,38556.032999999996,38630.119999999995,37445.86099999998,38726.09499999999,37403.971],[38639.286999999975,38632.782,35098.276,38759.56699999999,37566.78099999999,41037.17899999998,37899.716999999975,26653.655999999995,42113.945999999996,36554.7,37695.97599999997,44600.166999999994],[37668.354999999996,37648.977999999996,34089.740000000005,37675.387999999984,36547.647000000004,37739.587999999996,37003.995,37998.499,38038.84199999999,36814.359000000004,39688.54599999999,38437.42999999999],[38106.789000000004,38139.577,35989.74699999999,38150.05299999999,36922.68999999999,38077.01699999998,39345.411,39374.312999999995,37777.756999999976,36537.591,38352.409999999996,36519.80699999999],[40184.16300000001,38109.14499999999,34596.951,38130.181,36913.888,38725.492000000006,36317.918999999994,37850.29000000001,37906.68699999999,36943.49999999999,38156.117,36955.247],[38171.098000000005,38160.646,35862.80700000001,40683.790999999976,36455.706,38985.973999999995,37604.76299999999,38848.39299999998,38813.82800000001,37634.29199999999,38817.595,40757.475],[39874.38,39847.301999999996,36091.71,39868.022,38639.497,39885.630999999994,38615.81799999999,39884.38799999999,39721.854999999996,56050.041999999994,38582.534999999996,37357.62699999999]],\"type\":\"bar\"},{\"name\":\"Serv. P\\u00fablico\",\"x\":[\"2002\",\"2003\",\"2004\",\"2005\",\"2006\",\"2007\",\"2008\",\"2009\",\"2010\",\"2011\",\"2012\",\"2013\",\"2014\",\"2015\",\"2016\",\"2017\",\"2018\",\"2019\"],\"y\":[[55546.687,57304.179,53876.033,55484.77,58826.79,59699.127,53795.16,60062.657,59482.362,57223.396,60780.389,57544.104],[57545.052,58467.026,54378.639,57307.505,55204.87,58461.661,54416.821,58549.368,54906.523,57152.751,62927.282,62369.503],[54396.747,61374.765,48341.685,46585.976,47028.102,47135.855,47250.47,49317.282,46719.831,47003.663,46033.075,46956.634],[47915.442,46402.779,46010.008,48382.067,46179.554,48376.41,45628.976,47716.463,47574.962,48725.878,47279.292,50712.418],[84382.522,90444.722,47340.354,49288.186,48011.965,419059.895,71848.9,99890.338,47401.517,46752.497,49014.263,50805.209],[48549.77700000003,51281.72699999997,46823.26899999999,52212.15299999999,49335.685999999994,50413.466,51246.82900000001,51820.74000000002,52513.106999999996,49967.02199999999,51108.356000000014,48331.475999999995],[53091.555000000015,52367.95999999999,50278.685999999994,51182.36999999998,51725.996999999996,48521.36400000001,49970.32099999996,50413.31199999998,51159.914000000004,48421.669,50185.14200000001,51830.804],[64295.00600000001,63451.658,66610.983,67945.24699999999,60730.08099999999,70301.15599999997,58629.007999999994,67290.948,65646.49799999999,66709.88500000001,65921.31700000002,65776.37499999999],[68256.53800000002,65320.372000000025,64209.993999999955,68629.57400000002,65481.18499999999,65486.732999999986,65840.48200000002,65770.47299999993,66800.27099999998,66242.46099999998,65704.568,68741.55599999998],[69250.288,68100.68899999998,68295.106,70143.255,66111.67899999999,69857.688,65619.10800000002,66781.01600000002,68909.18,69524.217,70731.581,70679.84900000002],[52527.724999999984,78890.151,71428.90599999999,70752.04399999998,74455.985,70401.117,67295.32800000002,69420.02100000002,71603.90199999997,68568.78199999999,72563.60800000002,67270.653],[73417.68,71177.98499999997,69515.39000000001,73597.38900000002,70616.086,72146.60499999997,70867.72800000002,72849.11399999997,72449.84700000002,70082.43499999997,75120.87799999995,70675.336],[76489.24999999999,76667.32400000002,75392.41200000001,77069.038,73355.343,74056.825,72913.615,75267.21299999999,73375.83199999998,75332.02500000001,78918.883,73290.60199999997],[80848.07500000003,80199.99100000001,74061.243,78829.62199999996,73224.52000000002,74714.94400000003,73803.34999999999,73710.09599999996,73905.977,74909.74000000005,74470.56,71181.25899999998],[76590.58924999999,74835.43524999998,74258.77224999995,81058.02525000002,73194.73424999996,73346.42825,73575.86125,74563.54024999999,80873.88325000001,79500.79225,76174.87724999999,76620.07025000003],[82205.92899999997,81518.23499999999,82031.924,83376.557,77653.931,79488.101,75193.96299999999,78274.894,75670.821,77133.30599999998,77946.22000000003,77008.791],[80692.64799999996,79564.244,79147.21299999999,82467.283,78794.393,76267.53,73721.685,77577.729,76107.79199999999,77550.82699999999,76351.95799999997,76799.12100000001],[84586.01492000006,80024.34304000011,88278.01228000005,76001.70126999995,77366.20405999999,71377.96666000002,76110.63819999993,73326.2244100001,74528.23678999998,80506.69348000003,73481.39885999996,76545.04061000003]],\"type\":\"bar\"},{\"name\":\"Consumo Pr\\u00f3prio\",\"x\":[\"2002\",\"2003\",\"2004\",\"2005\",\"2006\",\"2007\",\"2008\",\"2009\",\"2010\",\"2011\",\"2012\",\"2013\",\"2014\",\"2015\",\"2016\",\"2017\",\"2018\",\"2019\"],\"y\":[[4777.347,4815.044,4911.401,5031.6449999999995,4983.707,4677.652,4978.133,4156.36,4174.307,4273.595,4286.4349999999995,6057.169],[4472.880999999999,4529.022999999999,4555.41,4441.965,4363.3679999999995,4244.642000000001,4177.404,4062.375,3972.1969999999997,4952.2210000000005,4063.3950000000004,4199.773],[4075.278,4111.962,4153.587,4206.811,4151.982,4117.344,4079.546,4106.733,3950.47,2033.669,1580.094,2101.078],[2101.17,2027.975,2503.93,2291.14,3956.952,4042.954,3882.207,3939.355,3947.737,3973.291,4144.947,4185.666],[9689.256,10883.764,1892.235,8611.828,5546.451,4890.808,4424.775,6077.559,2298.856,7851.441,2268.31,2332.661],[10709.268999999991,5141.230000000001,1822.0919999999994,7811.853000000001,4734.122000000002,4706.496000000001,5403.831000000003,4976.483000000002,4960.327000000001,5092.390000000002,5153.438000000003,4934.322000000001],[4926.6630000000005,4943.263000000003,4809.3470000000025,5013.177000000001,5015.324000000002,5386.927000000001,4822.9810000000025,4927.776000000002,4835.537,4833.352000000003,4815.616000000004,4769.871000000003],[4749.639,4864.383000000001,4873.998000000001,4820.399000000001,4785.867999999998,4707.145000000001,4524.1860000000015,4412.050000000002,4380.705999999999,4420.027,4632.138000000002,4644.419999999998],[4960.38,4802.695,3871.2109999999984,4724.258000000005,4652.561,4759.399,4615.8099999999995,11428.629999999997,6001.200000000002,4753.835,6415.823999999999,5524.983],[6561.487000000003,4875.974,7600.016999999995,5838.403999999997,6953.6309999999985,5887.828,5859.576999999999,5440.517000000002,6299.217000000001,6539.742999999996,6919.950000000003,5634.9659999999985],[5021.665000000003,7194.4410000000025,6294.604000000001,6514.901999999998,6351.149,6328.712,6179.949999999998,6123.505000000003,6157.1569999999965,6145.623,6187.698999999998,6278.665000000001],[6535.124000000002,6248.758000000002,6438.478000000003,6224.284000000002,6341.536000000001,6050.8790000000035,18601.433999999994,7746.751000000002,7812.160999999998,4847.056999999999,11173.057000000004,8065.083000000003],[8149.176,8429.292000000001,8837.129000000003,8290.717,7915.908000000002,8037.829999999999,7965.8049999999985,7781.139000000002,7704.464000000001,8200.101000000002,8138.919999999999,8014.513000000001],[8288.968,8427.954,8296.937,8380.393,8122.879000000004,12600.83500000001,8928.231000000002,9106.678999999996,8950.138999999997,8901.242000000002,9293.657999999992,8942.971000000009],[9129.479000000008,8879.165999999997,9002.478999999998,8988.838000000005,9066.021000000008,8538.648,8562.919999999996,8658.404000000008,8629.506999999998,8600.037999999997,8801.898000000001,8820.881],[8832.264000000001,9028.217000000006,9075.646000000004,9174.528000000008,9032.281000000003,9126.796000000006,8982.603000000005,8649.638000000008,8679.055000000002,8654.516000000005,8636.163999999993,9279.901],[8964.251,8777.628000000004,8818.988,8638.516,8726.783000000001,8415.753000000002,8443.505000000003,9094.915999999997,8771.328999999998,12797.301000000001,9149.443000000001,8933.857000000007],[9178.985000000002,9257.299000000003,8955.606,8810.848000000002,8796.264000000005,8553.627999999999,8504.621,8957.928,9122.330999999998,9293.637,8837.846000000003,8927.032000000005]],\"type\":\"bar\"}],                        {\"template\":{\"data\":{\"histogram2dcontour\":[{\"type\":\"histogram2dcontour\",\"colorbar\":{\"outlinewidth\":0,\"ticks\":\"\"},\"colorscale\":[[0.0,\"#0d0887\"],[0.1111111111111111,\"#46039f\"],[0.2222222222222222,\"#7201a8\"],[0.3333333333333333,\"#9c179e\"],[0.4444444444444444,\"#bd3786\"],[0.5555555555555556,\"#d8576b\"],[0.6666666666666666,\"#ed7953\"],[0.7777777777777778,\"#fb9f3a\"],[0.8888888888888888,\"#fdca26\"],[1.0,\"#f0f921\"]]}],\"choropleth\":[{\"type\":\"choropleth\",\"colorbar\":{\"outlinewidth\":0,\"ticks\":\"\"}}],\"histogram2d\":[{\"type\":\"histogram2d\",\"colorbar\":{\"outlinewidth\":0,\"ticks\":\"\"},\"colorscale\":[[0.0,\"#0d0887\"],[0.1111111111111111,\"#46039f\"],[0.2222222222222222,\"#7201a8\"],[0.3333333333333333,\"#9c179e\"],[0.4444444444444444,\"#bd3786\"],[0.5555555555555556,\"#d8576b\"],[0.6666666666666666,\"#ed7953\"],[0.7777777777777778,\"#fb9f3a\"],[0.8888888888888888,\"#fdca26\"],[1.0,\"#f0f921\"]]}],\"heatmap\":[{\"type\":\"heatmap\",\"colorbar\":{\"outlinewidth\":0,\"ticks\":\"\"},\"colorscale\":[[0.0,\"#0d0887\"],[0.1111111111111111,\"#46039f\"],[0.2222222222222222,\"#7201a8\"],[0.3333333333333333,\"#9c179e\"],[0.4444444444444444,\"#bd3786\"],[0.5555555555555556,\"#d8576b\"],[0.6666666666666666,\"#ed7953\"],[0.7777777777777778,\"#fb9f3a\"],[0.8888888888888888,\"#fdca26\"],[1.0,\"#f0f921\"]]}],\"heatmapgl\":[{\"type\":\"heatmapgl\",\"colorbar\":{\"outlinewidth\":0,\"ticks\":\"\"},\"colorscale\":[[0.0,\"#0d0887\"],[0.1111111111111111,\"#46039f\"],[0.2222222222222222,\"#7201a8\"],[0.3333333333333333,\"#9c179e\"],[0.4444444444444444,\"#bd3786\"],[0.5555555555555556,\"#d8576b\"],[0.6666666666666666,\"#ed7953\"],[0.7777777777777778,\"#fb9f3a\"],[0.8888888888888888,\"#fdca26\"],[1.0,\"#f0f921\"]]}],\"contourcarpet\":[{\"type\":\"contourcarpet\",\"colorbar\":{\"outlinewidth\":0,\"ticks\":\"\"}}],\"contour\":[{\"type\":\"contour\",\"colorbar\":{\"outlinewidth\":0,\"ticks\":\"\"},\"colorscale\":[[0.0,\"#0d0887\"],[0.1111111111111111,\"#46039f\"],[0.2222222222222222,\"#7201a8\"],[0.3333333333333333,\"#9c179e\"],[0.4444444444444444,\"#bd3786\"],[0.5555555555555556,\"#d8576b\"],[0.6666666666666666,\"#ed7953\"],[0.7777777777777778,\"#fb9f3a\"],[0.8888888888888888,\"#fdca26\"],[1.0,\"#f0f921\"]]}],\"surface\":[{\"type\":\"surface\",\"colorbar\":{\"outlinewidth\":0,\"ticks\":\"\"},\"colorscale\":[[0.0,\"#0d0887\"],[0.1111111111111111,\"#46039f\"],[0.2222222222222222,\"#7201a8\"],[0.3333333333333333,\"#9c179e\"],[0.4444444444444444,\"#bd3786\"],[0.5555555555555556,\"#d8576b\"],[0.6666666666666666,\"#ed7953\"],[0.7777777777777778,\"#fb9f3a\"],[0.8888888888888888,\"#fdca26\"],[1.0,\"#f0f921\"]]}],\"mesh3d\":[{\"type\":\"mesh3d\",\"colorbar\":{\"outlinewidth\":0,\"ticks\":\"\"}}],\"scatter\":[{\"fillpattern\":{\"fillmode\":\"overlay\",\"size\":10,\"solidity\":0.2},\"type\":\"scatter\"}],\"parcoords\":[{\"type\":\"parcoords\",\"line\":{\"colorbar\":{\"outlinewidth\":0,\"ticks\":\"\"}}}],\"scatterpolargl\":[{\"type\":\"scatterpolargl\",\"marker\":{\"colorbar\":{\"outlinewidth\":0,\"ticks\":\"\"}}}],\"bar\":[{\"error_x\":{\"color\":\"#2a3f5f\"},\"error_y\":{\"color\":\"#2a3f5f\"},\"marker\":{\"line\":{\"color\":\"#E5ECF6\",\"width\":0.5},\"pattern\":{\"fillmode\":\"overlay\",\"size\":10,\"solidity\":0.2}},\"type\":\"bar\"}],\"scattergeo\":[{\"type\":\"scattergeo\",\"marker\":{\"colorbar\":{\"outlinewidth\":0,\"ticks\":\"\"}}}],\"scatterpolar\":[{\"type\":\"scatterpolar\",\"marker\":{\"colorbar\":{\"outlinewidth\":0,\"ticks\":\"\"}}}],\"histogram\":[{\"marker\":{\"pattern\":{\"fillmode\":\"overlay\",\"size\":10,\"solidity\":0.2}},\"type\":\"histogram\"}],\"scattergl\":[{\"type\":\"scattergl\",\"marker\":{\"colorbar\":{\"outlinewidth\":0,\"ticks\":\"\"}}}],\"scatter3d\":[{\"type\":\"scatter3d\",\"line\":{\"colorbar\":{\"outlinewidth\":0,\"ticks\":\"\"}},\"marker\":{\"colorbar\":{\"outlinewidth\":0,\"ticks\":\"\"}}}],\"scattermapbox\":[{\"type\":\"scattermapbox\",\"marker\":{\"colorbar\":{\"outlinewidth\":0,\"ticks\":\"\"}}}],\"scatterternary\":[{\"type\":\"scatterternary\",\"marker\":{\"colorbar\":{\"outlinewidth\":0,\"ticks\":\"\"}}}],\"scattercarpet\":[{\"type\":\"scattercarpet\",\"marker\":{\"colorbar\":{\"outlinewidth\":0,\"ticks\":\"\"}}}],\"carpet\":[{\"aaxis\":{\"endlinecolor\":\"#2a3f5f\",\"gridcolor\":\"white\",\"linecolor\":\"white\",\"minorgridcolor\":\"white\",\"startlinecolor\":\"#2a3f5f\"},\"baxis\":{\"endlinecolor\":\"#2a3f5f\",\"gridcolor\":\"white\",\"linecolor\":\"white\",\"minorgridcolor\":\"white\",\"startlinecolor\":\"#2a3f5f\"},\"type\":\"carpet\"}],\"table\":[{\"cells\":{\"fill\":{\"color\":\"#EBF0F8\"},\"line\":{\"color\":\"white\"}},\"header\":{\"fill\":{\"color\":\"#C8D4E3\"},\"line\":{\"color\":\"white\"}},\"type\":\"table\"}],\"barpolar\":[{\"marker\":{\"line\":{\"color\":\"#E5ECF6\",\"width\":0.5},\"pattern\":{\"fillmode\":\"overlay\",\"size\":10,\"solidity\":0.2}},\"type\":\"barpolar\"}],\"pie\":[{\"automargin\":true,\"type\":\"pie\"}]},\"layout\":{\"autotypenumbers\":\"strict\",\"colorway\":[\"#636efa\",\"#EF553B\",\"#00cc96\",\"#ab63fa\",\"#FFA15A\",\"#19d3f3\",\"#FF6692\",\"#B6E880\",\"#FF97FF\",\"#FECB52\"],\"font\":{\"color\":\"#2a3f5f\"},\"hovermode\":\"closest\",\"hoverlabel\":{\"align\":\"left\"},\"paper_bgcolor\":\"white\",\"plot_bgcolor\":\"#E5ECF6\",\"polar\":{\"bgcolor\":\"#E5ECF6\",\"angularaxis\":{\"gridcolor\":\"white\",\"linecolor\":\"white\",\"ticks\":\"\"},\"radialaxis\":{\"gridcolor\":\"white\",\"linecolor\":\"white\",\"ticks\":\"\"}},\"ternary\":{\"bgcolor\":\"#E5ECF6\",\"aaxis\":{\"gridcolor\":\"white\",\"linecolor\":\"white\",\"ticks\":\"\"},\"baxis\":{\"gridcolor\":\"white\",\"linecolor\":\"white\",\"ticks\":\"\"},\"caxis\":{\"gridcolor\":\"white\",\"linecolor\":\"white\",\"ticks\":\"\"}},\"coloraxis\":{\"colorbar\":{\"outlinewidth\":0,\"ticks\":\"\"}},\"colorscale\":{\"sequential\":[[0.0,\"#0d0887\"],[0.1111111111111111,\"#46039f\"],[0.2222222222222222,\"#7201a8\"],[0.3333333333333333,\"#9c179e\"],[0.4444444444444444,\"#bd3786\"],[0.5555555555555556,\"#d8576b\"],[0.6666666666666666,\"#ed7953\"],[0.7777777777777778,\"#fb9f3a\"],[0.8888888888888888,\"#fdca26\"],[1.0,\"#f0f921\"]],\"sequentialminus\":[[0.0,\"#0d0887\"],[0.1111111111111111,\"#46039f\"],[0.2222222222222222,\"#7201a8\"],[0.3333333333333333,\"#9c179e\"],[0.4444444444444444,\"#bd3786\"],[0.5555555555555556,\"#d8576b\"],[0.6666666666666666,\"#ed7953\"],[0.7777777777777778,\"#fb9f3a\"],[0.8888888888888888,\"#fdca26\"],[1.0,\"#f0f921\"]],\"diverging\":[[0,\"#8e0152\"],[0.1,\"#c51b7d\"],[0.2,\"#de77ae\"],[0.3,\"#f1b6da\"],[0.4,\"#fde0ef\"],[0.5,\"#f7f7f7\"],[0.6,\"#e6f5d0\"],[0.7,\"#b8e186\"],[0.8,\"#7fbc41\"],[0.9,\"#4d9221\"],[1,\"#276419\"]]},\"xaxis\":{\"gridcolor\":\"white\",\"linecolor\":\"white\",\"ticks\":\"\",\"title\":{\"standoff\":15},\"zerolinecolor\":\"white\",\"automargin\":true,\"zerolinewidth\":2},\"yaxis\":{\"gridcolor\":\"white\",\"linecolor\":\"white\",\"ticks\":\"\",\"title\":{\"standoff\":15},\"zerolinecolor\":\"white\",\"automargin\":true,\"zerolinewidth\":2},\"scene\":{\"xaxis\":{\"backgroundcolor\":\"#E5ECF6\",\"gridcolor\":\"white\",\"linecolor\":\"white\",\"showbackground\":true,\"ticks\":\"\",\"zerolinecolor\":\"white\",\"gridwidth\":2},\"yaxis\":{\"backgroundcolor\":\"#E5ECF6\",\"gridcolor\":\"white\",\"linecolor\":\"white\",\"showbackground\":true,\"ticks\":\"\",\"zerolinecolor\":\"white\",\"gridwidth\":2},\"zaxis\":{\"backgroundcolor\":\"#E5ECF6\",\"gridcolor\":\"white\",\"linecolor\":\"white\",\"showbackground\":true,\"ticks\":\"\",\"zerolinecolor\":\"white\",\"gridwidth\":2}},\"shapedefaults\":{\"line\":{\"color\":\"#2a3f5f\"}},\"annotationdefaults\":{\"arrowcolor\":\"#2a3f5f\",\"arrowhead\":0,\"arrowwidth\":1},\"geo\":{\"bgcolor\":\"white\",\"landcolor\":\"#E5ECF6\",\"subunitcolor\":\"white\",\"showland\":true,\"showlakes\":true,\"lakecolor\":\"white\"},\"title\":{\"x\":0.05},\"mapbox\":{\"style\":\"light\"}}},\"barmode\":\"stack\",\"title\":{\"text\":\"Consumo de energia el\\u00e9trica no Rio de Janeiro (2002-2019)\"},\"xaxis\":{\"title\":{\"text\":\"Ano\"}},\"yaxis\":{\"title\":{\"text\":\"Consumo (MWh)\"}}},                        {\"responsive\": true}                    ).then(function(){\n",
              "                            \n",
              "var gd = document.getElementById('c6a96f99-309e-447d-bceb-d23f18be8e5e');\n",
              "var x = new MutationObserver(function (mutations, observer) {{\n",
              "        var display = window.getComputedStyle(gd).display;\n",
              "        if (!display || display === 'none') {{\n",
              "            console.log([gd, 'removed!']);\n",
              "            Plotly.purge(gd);\n",
              "            observer.disconnect();\n",
              "        }}\n",
              "}});\n",
              "\n",
              "// Listen for the removal of the full notebook cells\n",
              "var notebookContainer = gd.closest('#notebook-container');\n",
              "if (notebookContainer) {{\n",
              "    x.observe(notebookContainer, {childList: true});\n",
              "}}\n",
              "\n",
              "// Listen for the clearing of the current output cell\n",
              "var outputEl = gd.closest('.output');\n",
              "if (outputEl) {{\n",
              "    x.observe(outputEl, {childList: true});\n",
              "}}\n",
              "\n",
              "                        })                };                            </script>        </div>\n",
              "</body>\n",
              "</html>"
            ]
          },
          "metadata": {}
        },
        {
          "output_type": "display_data",
          "data": {
            "text/html": [
              "<html>\n",
              "<head><meta charset=\"utf-8\" /></head>\n",
              "<body>\n",
              "    <div>            <script src=\"https://cdnjs.cloudflare.com/ajax/libs/mathjax/2.7.5/MathJax.js?config=TeX-AMS-MML_SVG\"></script><script type=\"text/javascript\">if (window.MathJax && window.MathJax.Hub && window.MathJax.Hub.Config) {window.MathJax.Hub.Config({SVG: {font: \"STIX-Web\"}});}</script>                <script type=\"text/javascript\">window.PlotlyConfig = {MathJaxConfig: 'local'};</script>\n",
              "        <script src=\"https://cdn.plot.ly/plotly-2.18.2.min.js\"></script>                <div id=\"39351819-ef91-4215-8863-4826bc62d3e0\" class=\"plotly-graph-div\" style=\"height:525px; width:100%;\"></div>            <script type=\"text/javascript\">                                    window.PLOTLYENV=window.PLOTLYENV || {};                                    if (document.getElementById(\"39351819-ef91-4215-8863-4826bc62d3e0\")) {                    Plotly.newPlot(                        \"39351819-ef91-4215-8863-4826bc62d3e0\",                        [{\"mode\":\"lines+markers\",\"name\":\"Residencial\",\"x\":[\"2002\",\"2003\",\"2004\",\"2005\",\"2006\",\"2007\",\"2008\",\"2009\",\"2010\",\"2011\",\"2012\",\"2013\",\"2014\",\"2015\",\"2016\",\"2017\",\"2018\",\"2019\"],\"y\":[[350121.439,360354.173,329053.693,460983.039,403608.164,362071.84,346843.06,359412.252,353521.288,383440.107,431789.763,461995.566],[487581.09,482074.32,507677.94,403703.083,404002.814,360981.711,353784.829,357218.799,338027.966,382649.702,368786.479,440973.312],[428329.693,441657.577,425587.865,442881.728,412187.558,356448.648,362535.763,357096.709,385693.657,388623.714,412078.202,427508.728],[475030.247,434285.975,462060.191,496019.18,438128.451,419001.753,381269.629,386525.284,434148.082,411045.367,442041.552,485205.372],[459400.398,518603.89,537365.711,477918.75,398735.947,396261.703,398678.629,385721.098,372282.915,436696.334,430799.362,474140.444],[491837.64599999995,481181.70300000004,566337.0219999994,529895.7780000002,458749.90900000004,386279.35699999996,373558.103,381523.61199999985,411321.0786000003,420509.63499999995,456623.1729999999,437107.1290000001],[532036.9530000001,478016.9034,488703.7890000001,469973.24899999984,463617.39499999996,395182.4360000003,414804.3860000001,414667.4199999998,407437.35499999975,438518.7810000003,456355.739,423629.76300000015],[505928.7880000001,516317.4749999998,580841.03,500089.4619999999,454995.12100000004,401819.238,411755.6659999999,417697.42100000015,437966.3319999998,465474.82000000024,504575.075,562146.0939999995],[594241.7849999999,627094.9640000003,585759.3099999998,538599.2179999998,472799.8040000003,437798.22900000017,409826.2380000002,422315.4929999999,429606.48099999997,453745.97899999993,451622.916,561918.2279999999],[609543.0889999999,639222.8349999997,579855.8229999997,532517.4640000002,507280.6819999997,429323.17499999993,422244.4199999998,438107.26599999995,453788.3509999999,460199.4959999999,457338.5809999999,489445.39499999984],[523446.8480000001,560563.0440000001,607097.4840000002,506771.58299999987,462749.1479999999,414390.38,415928.0819999998,414158.24100000015,405903.6620000001,424596.9100000002,479162.6139999999,501884.1760000001],[617136.9759999997,528052.2309999999,583989.6599999999,480619.6040000001,458285.3939999996,423739.5039999999,426732.9570000001,400046.753,404593.98300000007,463966.51399999985,450927.8330000001,519210.11000000004],[636136.451,678854.4589999999,633132.168,544225.5330000002,486322.3760000001,431264.50099999993,443814.87299999996,390843.76300000015,423998.58900000004,477476.9200000001,494980.2948607597,513586.4359999999],[693986.7840000001,656481.3530000001,618452.1299999999,509597.81799999974,455869.2779999998,412705.19600000005,395974.6059999999,412126.02999999997,412189.6829999999,470082.6090000001,485952.7949999999,475921.4020000001],[627837.2900000003,560029.566,566188.7729999999,591358.3900000005,494952.47800000006,397765.31299999985,365178.11999999994,407410.26399999985,435036.08299999975,445637.21500000026,475078.56299999997,533176.803],[648770.463,663261.8049999999,685677.9220000001,495512.9669999999,451972.3120000001,419675.3469999998,390137.19100000017,417682.15399999986,387523.1870000001,445555.6413999997,507641.3376000001,558238.7272],[574771.2027600001,525227.159401,601390.7198689992,564515.7730589999,472441.05002900003,410929.62725500006,411380.8166679999,411936.99665699987,399510.889772,460927.66765000025,442827.9781990001,522576.206227],[651193.395393,600072.4359789997,600134.1085479992,505905.41303899954,511285.0121240005,423932.66786999983,381224.6115370002,379507.9184040002,393793.1172669998,417742.73982399976,490819.2915019998,483563.2505309996]],\"type\":\"scatter\"},{\"mode\":\"lines+markers\",\"name\":\"Industrial\",\"x\":[\"2002\",\"2003\",\"2004\",\"2005\",\"2006\",\"2007\",\"2008\",\"2009\",\"2010\",\"2011\",\"2012\",\"2013\",\"2014\",\"2015\",\"2016\",\"2017\",\"2018\",\"2019\"],\"y\":[[261649.757,269338.115,252751.696,286647.461,300751.107,293927.364,234177.068,250921.868,250542.428,240119.437,255830.832,236796.894],[232263.75,226663.872,213637.923,219825.067,213533.122,200867.648,198584.592,202044.138,195198.097,205778.794,213386.165,209107.156],[195286.663,203105.928,200150.394,201687.719,200828.989,204284.585,207423.783,215134.34,209291.454,212794.492,219277.201,226160.801],[207169.462,213054.639,206495.48,225816.874,205797.047,185036.479,158878.907,163982.365,172625.109,164504.323,163724.589,184190.976],[315579.527,337247.706,173326.415,67981.449,171279.086,114506.559,110915.797,116244.614,107777.889,113579.418,114732.811,109035.957],[323289.8730000002,310879.03300000005,308006.61899999995,338185.6739999999,317304.307,325508.3679999998,315929.36799999996,328822.6360000002,329847.416,322457.02999999997,330755.374,324679.628],[317900.2170000002,322944.5839999999,299091.614,324266.025,327010.53800000006,327415.155,328017.95889999997,339879.6930000001,323184.01799999987,332769.1369999999,346388.0890000001,302682.4510000002],[234507.12300000014,245664.71399999995,229175.32200000004,250973.86199999988,199534.69700000001,196524.00600000005,192368.24500000002,191009.19300000003,201178.278,207041.21200000003,219495.52700000006,215901.8929999999],[203764.007,215441.01400000002,203544.6249999999,217956.07299999992,194473.2,222648.02599999998,249482.29000000007,264481.401,261436.32100000005,264380.58199999994,287248.93299999996,276027.15800000005],[238748.36699999994,241870.21300000002,219433.403,208696.09000000005,205599.41999999993,207278.74099999998,195068.57,211302.96499999994,206776.48699999994,206703.52300000002,211816.934,209455.404],[198840.56600000002,206483.0,204736.12299999996,209024.90300000005,198061.01700000008,196032.368,184308.53200000004,207778.20299999995,210164.75299999997,197379.94700000001,205238.51100000003,204300.15900000004],[180534.317,200392.01900000006,195643.31399999998,211330.41000000003,199021.824,202948.50299999997,195067.698,195733.7034,200534.26200000002,197529.24800000002,205766.46000000002,199203.05699999997],[195929.19700000007,196353.65600000008,199087.33100000003,205177.82100000005,191180.35499999998,195758.59300000008,172164.6070000001,174825.13299999997,177090.16700000004,185471.977,190491.657,184261.69700000004],[150051.07499999995,167638.52100000004,165520.39900000003,186240.16799999995,172065.11499999993,164827.80799999993,151538.76900000003,166069.65199999997,166969.97999999998,134774.37900000002,173311.42899999997,162866.421],[133699.075,165112.30899999995,158401.85799999995,159576.19599999985,169714.08899999992,169067.31199999998,164637.43299999993,165480.90799999982,166023.5299999999,161235.58699999982,159313.00799999997,160667.46599999984],[126872.75700000001,171943.84500000006,159527.45600000006,163652.08000000002,153285.39199999993,156027.3870000001,137476.61000000004,153755.9850000001,154440.21099999992,144245.30700000006,161056.764,162453.071],[159064.94599999997,170958.19350000002,156439.32699999996,167087.9475,164301.94299999997,150367.259,156566.15800000002,147558.68000000008,152254.26400000005,166356.29899999994,166311.69767100006,170942.14883000008],[171289.17886800002,158388.28338099996,164494.45236,161730.67658600007,164278.5310880001,153584.75189100005,157698.11655000015,150699.65914400018,153969.34182500004,162776.83496300006,162199.98643899985,116159.10482300007]],\"type\":\"scatter\"}],                        {\"template\":{\"data\":{\"histogram2dcontour\":[{\"type\":\"histogram2dcontour\",\"colorbar\":{\"outlinewidth\":0,\"ticks\":\"\"},\"colorscale\":[[0.0,\"#0d0887\"],[0.1111111111111111,\"#46039f\"],[0.2222222222222222,\"#7201a8\"],[0.3333333333333333,\"#9c179e\"],[0.4444444444444444,\"#bd3786\"],[0.5555555555555556,\"#d8576b\"],[0.6666666666666666,\"#ed7953\"],[0.7777777777777778,\"#fb9f3a\"],[0.8888888888888888,\"#fdca26\"],[1.0,\"#f0f921\"]]}],\"choropleth\":[{\"type\":\"choropleth\",\"colorbar\":{\"outlinewidth\":0,\"ticks\":\"\"}}],\"histogram2d\":[{\"type\":\"histogram2d\",\"colorbar\":{\"outlinewidth\":0,\"ticks\":\"\"},\"colorscale\":[[0.0,\"#0d0887\"],[0.1111111111111111,\"#46039f\"],[0.2222222222222222,\"#7201a8\"],[0.3333333333333333,\"#9c179e\"],[0.4444444444444444,\"#bd3786\"],[0.5555555555555556,\"#d8576b\"],[0.6666666666666666,\"#ed7953\"],[0.7777777777777778,\"#fb9f3a\"],[0.8888888888888888,\"#fdca26\"],[1.0,\"#f0f921\"]]}],\"heatmap\":[{\"type\":\"heatmap\",\"colorbar\":{\"outlinewidth\":0,\"ticks\":\"\"},\"colorscale\":[[0.0,\"#0d0887\"],[0.1111111111111111,\"#46039f\"],[0.2222222222222222,\"#7201a8\"],[0.3333333333333333,\"#9c179e\"],[0.4444444444444444,\"#bd3786\"],[0.5555555555555556,\"#d8576b\"],[0.6666666666666666,\"#ed7953\"],[0.7777777777777778,\"#fb9f3a\"],[0.8888888888888888,\"#fdca26\"],[1.0,\"#f0f921\"]]}],\"heatmapgl\":[{\"type\":\"heatmapgl\",\"colorbar\":{\"outlinewidth\":0,\"ticks\":\"\"},\"colorscale\":[[0.0,\"#0d0887\"],[0.1111111111111111,\"#46039f\"],[0.2222222222222222,\"#7201a8\"],[0.3333333333333333,\"#9c179e\"],[0.4444444444444444,\"#bd3786\"],[0.5555555555555556,\"#d8576b\"],[0.6666666666666666,\"#ed7953\"],[0.7777777777777778,\"#fb9f3a\"],[0.8888888888888888,\"#fdca26\"],[1.0,\"#f0f921\"]]}],\"contourcarpet\":[{\"type\":\"contourcarpet\",\"colorbar\":{\"outlinewidth\":0,\"ticks\":\"\"}}],\"contour\":[{\"type\":\"contour\",\"colorbar\":{\"outlinewidth\":0,\"ticks\":\"\"},\"colorscale\":[[0.0,\"#0d0887\"],[0.1111111111111111,\"#46039f\"],[0.2222222222222222,\"#7201a8\"],[0.3333333333333333,\"#9c179e\"],[0.4444444444444444,\"#bd3786\"],[0.5555555555555556,\"#d8576b\"],[0.6666666666666666,\"#ed7953\"],[0.7777777777777778,\"#fb9f3a\"],[0.8888888888888888,\"#fdca26\"],[1.0,\"#f0f921\"]]}],\"surface\":[{\"type\":\"surface\",\"colorbar\":{\"outlinewidth\":0,\"ticks\":\"\"},\"colorscale\":[[0.0,\"#0d0887\"],[0.1111111111111111,\"#46039f\"],[0.2222222222222222,\"#7201a8\"],[0.3333333333333333,\"#9c179e\"],[0.4444444444444444,\"#bd3786\"],[0.5555555555555556,\"#d8576b\"],[0.6666666666666666,\"#ed7953\"],[0.7777777777777778,\"#fb9f3a\"],[0.8888888888888888,\"#fdca26\"],[1.0,\"#f0f921\"]]}],\"mesh3d\":[{\"type\":\"mesh3d\",\"colorbar\":{\"outlinewidth\":0,\"ticks\":\"\"}}],\"scatter\":[{\"fillpattern\":{\"fillmode\":\"overlay\",\"size\":10,\"solidity\":0.2},\"type\":\"scatter\"}],\"parcoords\":[{\"type\":\"parcoords\",\"line\":{\"colorbar\":{\"outlinewidth\":0,\"ticks\":\"\"}}}],\"scatterpolargl\":[{\"type\":\"scatterpolargl\",\"marker\":{\"colorbar\":{\"outlinewidth\":0,\"ticks\":\"\"}}}],\"bar\":[{\"error_x\":{\"color\":\"#2a3f5f\"},\"error_y\":{\"color\":\"#2a3f5f\"},\"marker\":{\"line\":{\"color\":\"#E5ECF6\",\"width\":0.5},\"pattern\":{\"fillmode\":\"overlay\",\"size\":10,\"solidity\":0.2}},\"type\":\"bar\"}],\"scattergeo\":[{\"type\":\"scattergeo\",\"marker\":{\"colorbar\":{\"outlinewidth\":0,\"ticks\":\"\"}}}],\"scatterpolar\":[{\"type\":\"scatterpolar\",\"marker\":{\"colorbar\":{\"outlinewidth\":0,\"ticks\":\"\"}}}],\"histogram\":[{\"marker\":{\"pattern\":{\"fillmode\":\"overlay\",\"size\":10,\"solidity\":0.2}},\"type\":\"histogram\"}],\"scattergl\":[{\"type\":\"scattergl\",\"marker\":{\"colorbar\":{\"outlinewidth\":0,\"ticks\":\"\"}}}],\"scatter3d\":[{\"type\":\"scatter3d\",\"line\":{\"colorbar\":{\"outlinewidth\":0,\"ticks\":\"\"}},\"marker\":{\"colorbar\":{\"outlinewidth\":0,\"ticks\":\"\"}}}],\"scattermapbox\":[{\"type\":\"scattermapbox\",\"marker\":{\"colorbar\":{\"outlinewidth\":0,\"ticks\":\"\"}}}],\"scatterternary\":[{\"type\":\"scatterternary\",\"marker\":{\"colorbar\":{\"outlinewidth\":0,\"ticks\":\"\"}}}],\"scattercarpet\":[{\"type\":\"scattercarpet\",\"marker\":{\"colorbar\":{\"outlinewidth\":0,\"ticks\":\"\"}}}],\"carpet\":[{\"aaxis\":{\"endlinecolor\":\"#2a3f5f\",\"gridcolor\":\"white\",\"linecolor\":\"white\",\"minorgridcolor\":\"white\",\"startlinecolor\":\"#2a3f5f\"},\"baxis\":{\"endlinecolor\":\"#2a3f5f\",\"gridcolor\":\"white\",\"linecolor\":\"white\",\"minorgridcolor\":\"white\",\"startlinecolor\":\"#2a3f5f\"},\"type\":\"carpet\"}],\"table\":[{\"cells\":{\"fill\":{\"color\":\"#EBF0F8\"},\"line\":{\"color\":\"white\"}},\"header\":{\"fill\":{\"color\":\"#C8D4E3\"},\"line\":{\"color\":\"white\"}},\"type\":\"table\"}],\"barpolar\":[{\"marker\":{\"line\":{\"color\":\"#E5ECF6\",\"width\":0.5},\"pattern\":{\"fillmode\":\"overlay\",\"size\":10,\"solidity\":0.2}},\"type\":\"barpolar\"}],\"pie\":[{\"automargin\":true,\"type\":\"pie\"}]},\"layout\":{\"autotypenumbers\":\"strict\",\"colorway\":[\"#636efa\",\"#EF553B\",\"#00cc96\",\"#ab63fa\",\"#FFA15A\",\"#19d3f3\",\"#FF6692\",\"#B6E880\",\"#FF97FF\",\"#FECB52\"],\"font\":{\"color\":\"#2a3f5f\"},\"hovermode\":\"closest\",\"hoverlabel\":{\"align\":\"left\"},\"paper_bgcolor\":\"white\",\"plot_bgcolor\":\"#E5ECF6\",\"polar\":{\"bgcolor\":\"#E5ECF6\",\"angularaxis\":{\"gridcolor\":\"white\",\"linecolor\":\"white\",\"ticks\":\"\"},\"radialaxis\":{\"gridcolor\":\"white\",\"linecolor\":\"white\",\"ticks\":\"\"}},\"ternary\":{\"bgcolor\":\"#E5ECF6\",\"aaxis\":{\"gridcolor\":\"white\",\"linecolor\":\"white\",\"ticks\":\"\"},\"baxis\":{\"gridcolor\":\"white\",\"linecolor\":\"white\",\"ticks\":\"\"},\"caxis\":{\"gridcolor\":\"white\",\"linecolor\":\"white\",\"ticks\":\"\"}},\"coloraxis\":{\"colorbar\":{\"outlinewidth\":0,\"ticks\":\"\"}},\"colorscale\":{\"sequential\":[[0.0,\"#0d0887\"],[0.1111111111111111,\"#46039f\"],[0.2222222222222222,\"#7201a8\"],[0.3333333333333333,\"#9c179e\"],[0.4444444444444444,\"#bd3786\"],[0.5555555555555556,\"#d8576b\"],[0.6666666666666666,\"#ed7953\"],[0.7777777777777778,\"#fb9f3a\"],[0.8888888888888888,\"#fdca26\"],[1.0,\"#f0f921\"]],\"sequentialminus\":[[0.0,\"#0d0887\"],[0.1111111111111111,\"#46039f\"],[0.2222222222222222,\"#7201a8\"],[0.3333333333333333,\"#9c179e\"],[0.4444444444444444,\"#bd3786\"],[0.5555555555555556,\"#d8576b\"],[0.6666666666666666,\"#ed7953\"],[0.7777777777777778,\"#fb9f3a\"],[0.8888888888888888,\"#fdca26\"],[1.0,\"#f0f921\"]],\"diverging\":[[0,\"#8e0152\"],[0.1,\"#c51b7d\"],[0.2,\"#de77ae\"],[0.3,\"#f1b6da\"],[0.4,\"#fde0ef\"],[0.5,\"#f7f7f7\"],[0.6,\"#e6f5d0\"],[0.7,\"#b8e186\"],[0.8,\"#7fbc41\"],[0.9,\"#4d9221\"],[1,\"#276419\"]]},\"xaxis\":{\"gridcolor\":\"white\",\"linecolor\":\"white\",\"ticks\":\"\",\"title\":{\"standoff\":15},\"zerolinecolor\":\"white\",\"automargin\":true,\"zerolinewidth\":2},\"yaxis\":{\"gridcolor\":\"white\",\"linecolor\":\"white\",\"ticks\":\"\",\"title\":{\"standoff\":15},\"zerolinecolor\":\"white\",\"automargin\":true,\"zerolinewidth\":2},\"scene\":{\"xaxis\":{\"backgroundcolor\":\"#E5ECF6\",\"gridcolor\":\"white\",\"linecolor\":\"white\",\"showbackground\":true,\"ticks\":\"\",\"zerolinecolor\":\"white\",\"gridwidth\":2},\"yaxis\":{\"backgroundcolor\":\"#E5ECF6\",\"gridcolor\":\"white\",\"linecolor\":\"white\",\"showbackground\":true,\"ticks\":\"\",\"zerolinecolor\":\"white\",\"gridwidth\":2},\"zaxis\":{\"backgroundcolor\":\"#E5ECF6\",\"gridcolor\":\"white\",\"linecolor\":\"white\",\"showbackground\":true,\"ticks\":\"\",\"zerolinecolor\":\"white\",\"gridwidth\":2}},\"shapedefaults\":{\"line\":{\"color\":\"#2a3f5f\"}},\"annotationdefaults\":{\"arrowcolor\":\"#2a3f5f\",\"arrowhead\":0,\"arrowwidth\":1},\"geo\":{\"bgcolor\":\"white\",\"landcolor\":\"#E5ECF6\",\"subunitcolor\":\"white\",\"showland\":true,\"showlakes\":true,\"lakecolor\":\"white\"},\"title\":{\"x\":0.05},\"mapbox\":{\"style\":\"light\"}}},\"title\":{\"text\":\"Consumo de energia el\\u00e9trica no Rio de Janeiro (2002-2019)\"},\"xaxis\":{\"title\":{\"text\":\"Ano\"}},\"yaxis\":{\"title\":{\"text\":\"Consumo (MWh)\"}}},                        {\"responsive\": true}                    ).then(function(){\n",
              "                            \n",
              "var gd = document.getElementById('39351819-ef91-4215-8863-4826bc62d3e0');\n",
              "var x = new MutationObserver(function (mutations, observer) {{\n",
              "        var display = window.getComputedStyle(gd).display;\n",
              "        if (!display || display === 'none') {{\n",
              "            console.log([gd, 'removed!']);\n",
              "            Plotly.purge(gd);\n",
              "            observer.disconnect();\n",
              "        }}\n",
              "}});\n",
              "\n",
              "// Listen for the removal of the full notebook cells\n",
              "var notebookContainer = gd.closest('#notebook-container');\n",
              "if (notebookContainer) {{\n",
              "    x.observe(notebookContainer, {childList: true});\n",
              "}}\n",
              "\n",
              "// Listen for the clearing of the current output cell\n",
              "var outputEl = gd.closest('.output');\n",
              "if (outputEl) {{\n",
              "    x.observe(outputEl, {childList: true});\n",
              "}}\n",
              "\n",
              "                        })                };                            </script>        </div>\n",
              "</body>\n",
              "</html>"
            ]
          },
          "metadata": {}
        }
      ]
    },
    {
      "cell_type": "markdown",
      "source": [
        "## Modelo LSTM\n"
      ],
      "metadata": {
        "id": "1WIozsSgvccc"
      },
      "id": "1WIozsSgvccc"
    },
    {
      "cell_type": "code",
      "source": [
        "\n",
        "def prepare_data(res):\n",
        "    # Combine todas as séries da lista em um dataframe\n",
        "    df = pd.concat(res, axis=1)\n",
        "\n",
        "    # Transponha o dataframe para que cada linha represente uma residência e cada coluna uma etapa de tempo\n",
        "    df = df.T\n",
        "\n",
        "    # Converte o dataframe em um array numpy\n",
        "    data = df.values\n",
        "\n",
        "    # Normaliza os dados\n",
        "    data = (data - np.mean(data)) / np.std(data)\n",
        "\n",
        "    # Divida os dados em sequências de entrada (X) e saída (y)\n",
        "    X, y = data[:, :-1], data[:, -1]\n",
        "    print(type(X),len(X), type(y),len(y))\n",
        "    # Reformule o X para ser tridimensional (amostras, intervalos de tempo, recursos)\n",
        "    X = X.reshape(X.shape[0], X.shape[1], 1)\n",
        "\n",
        "    return X, y"
      ],
      "metadata": {
        "id": "jNQKq7VoSGRH"
      },
      "id": "jNQKq7VoSGRH",
      "execution_count": 15,
      "outputs": []
    },
    {
      "cell_type": "markdown",
      "source": [
        "Função para criar nosso modelo LSTM:"
      ],
      "metadata": {
        "id": "uxHyM9zKv3I6"
      },
      "id": "uxHyM9zKv3I6"
    },
    {
      "cell_type": "code",
      "source": [
        "def create_model(input_shape):\n",
        "    model = Sequential()\n",
        "    model.add(LSTM(128, input_shape=input_shape))\n",
        "    model.add(Dropout(0.2))\n",
        "    model.add(Dense(1))\n",
        "    model.compile(loss='mean_squared_error', optimizer='adam', run_eagerly=True)\n",
        "    return model"
      ],
      "metadata": {
        "id": "7MFyGK5vP7CO"
      },
      "id": "7MFyGK5vP7CO",
      "execution_count": 16,
      "outputs": []
    },
    {
      "cell_type": "markdown",
      "source": [
        "Na medida que aumentamos o numero de epoch menor é a nossa perda:\n"
      ],
      "metadata": {
        "id": "KlvywOfCvuHW"
      },
      "id": "KlvywOfCvuHW"
    },
    {
      "cell_type": "code",
      "source": [
        "# def train_model(X_train, y_train, X_val, y_val):\n",
        "#     # Define and train the LSTM model\n",
        "#     model = Sequential()\n",
        "#     model.add(LSTM(50, input_shape=(X_train.shape[1], X_train.shape[2])))\n",
        "#     model.add(Dense(1))\n",
        "#     model.compile(optimizer='adam', loss='mse')\n",
        "\n",
        "#     # Train the model with a validation set\n",
        "#     history = model.fit(X_train, y_train, epochs=50, batch_size=32, validation_data=(X_val, y_val))\n",
        "\n",
        "#     return model, history\n",
        "\n",
        "def train_model(X_train, y_train, X_val, y_val):\n",
        "    model = create_model(input_shape=X_train.shape[1:])\n",
        "    early_stopping = EarlyStopping(monitor='val_loss', patience=5)\n",
        "    history = model.fit(X_train, y_train, epochs=100, batch_size=4, validation_data=(X_val, y_val))\n",
        "    return model, history\n",
        "\n",
        "\n"
      ],
      "metadata": {
        "id": "MjHhti8zP6_g"
      },
      "id": "MjHhti8zP6_g",
      "execution_count": 17,
      "outputs": []
    },
    {
      "cell_type": "code",
      "source": [
        "def plot_loss(history):\n",
        "    plt.plot(history.history['loss'], label='train')\n",
        "    # plt.plot(history.history['val_loss'], label='validation')\n",
        "    plt.xlabel('Epoch')\n",
        "    plt.ylabel('Loss')\n",
        "    plt.legend()\n",
        "    plt.show()"
      ],
      "metadata": {
        "id": "XNAvu0UbP68z"
      },
      "id": "XNAvu0UbP68z",
      "execution_count": 18,
      "outputs": []
    },
    {
      "cell_type": "code",
      "source": [
        "\n",
        "# Exemplo de uso\n",
        "# res   \n",
        "# X, y = prepare_data(res)  # list of pandas series\n",
        "# X_train, y_train = X[:18], y[:18]\n",
        "# X_val, y_val = X[10:12], y[10:12]\n",
        "# X_test, y_test = X[12:], y[12:]\n",
        "# model, history = train_model(X_train, y_train, X_val, y_val)\n",
        "# plot_loss(history)\n",
        "\n",
        "\n",
        "# consumo_total\n",
        "X, y = prepare_data(consumo_total)  # list of pandas series\n",
        "X_train, y_train = X[:18], y[:18]\n",
        "X_val, y_val = X[10:12], y[10:12]\n",
        "X_test, y_test = X[12:], y[12:]\n",
        "model, history = train_model(X_train, y_train, X_val, y_val)\n",
        "plot_loss(history)\n",
        "\n",
        "\n",
        "#consumo_industrial\n",
        "# X, y = prepare_data(consumo_residencial)  # list of pandas series\n",
        "# X_train, y_train = X[:18], y[:18]\n",
        "# X_val, y_val = X[10:12], y[10:12]\n",
        "# X_test, y_test = X[12:], y[12:]\n",
        "# model, history = train_model(X_train, y_train, X_val, y_val)\n",
        "# plot_loss(history)\n",
        "\n",
        "# X, y = prepare_data(consumo_industrial)  # list of pandas series\n",
        "# X_train, y_train = X[:18], y[:18]\n",
        "# X_val, y_val = X[10:12], y[10:12]\n",
        "# X_test, y_test = X[12:], y[12:]\n",
        "# model, history = train_model(X_train, y_train, X_val, y_val)\n",
        "# plot_loss(history)\n",
        "\n",
        "\n",
        "# consumo_comercial\n",
        "# X, y = prepare_data(consumo_comercial)  # list of pandas series\n",
        "# X_train, y_train = X[:18], y[:18]\n",
        "# X_val, y_val = X[10:12], y[10:12]\n",
        "# X_test, y_test = X[12:], y[12:]\n",
        "# model, history = train_model(X_train, y_train, X_val, y_val)\n",
        "# plot_loss(history)\n",
        "\n",
        "\n",
        "# consumo_poder_publico\n",
        "# X, y = prepare_data(consumo_poder_publico)  # list of pandas series\n",
        "# X_train, y_train = X[:18], y[:18]\n",
        "# X_val, y_val = X[10:12], y[10:12]\n",
        "# X_test, y_test = X[12:], y[12:]\n",
        "# model, history = train_model(X_train, y_train, X_val, y_val)\n",
        "# plot_loss(history)\n",
        "\n",
        "\n",
        "# consumo_iluminacao_publica\n",
        "# X, y = prepare_data(consumo_iluminacao_publica)  # list of pandas series\n",
        "# X_train, y_train = X[:18], y[:18]\n",
        "# X_val, y_val = X[10:12], y[10:12]\n",
        "# X_test, y_test = X[12:], y[12:]\n",
        "# model, history = train_model(X_train, y_train, X_val, y_val)\n",
        "# plot_loss(history)\n",
        "\n",
        "\n",
        "# consumo_serv_publico\n",
        "# X, y = prepare_data(consumo_serv_publico)  # list of pandas series\n",
        "# X_train, y_train = X[:18], y[:18]\n",
        "# X_val, y_val = X[10:12], y[10:12]\n",
        "# X_test, y_test = X[12:], y[12:]\n",
        "# model, history = train_model(X_train, y_train, X_val, y_val)\n",
        "# plot_loss(history)\n",
        "\n",
        "\n",
        "# consumo_consumo_proprio\n",
        "# X, y = prepare_data(consumo_consumo_proprio)  # list of pandas series\n",
        "# X_train, y_train = X[:18], y[:18]\n",
        "# X_val, y_val = X[10:12], y[10:12]\n",
        "# X_test, y_test = X[12:], y[12:]\n",
        "# model, history = train_model(X_train, y_train, X_val, y_val)\n",
        "# plot_loss(history)\n",
        "\n",
        "\n",
        "# consumo_rural\n",
        "# X, y = prepare_data(consumo_rural)  # list of pandas series\n",
        "# X_train, y_train = X[:18], y[:18]\n",
        "# X_val, y_val = X[10:12], y[10:12]\n",
        "# X_test, y_test = X[12:], y[12:]\n",
        "# model, history = train_model(X_train, y_train, X_val, y_val)\n",
        "# plot_loss(history)"
      ],
      "metadata": {
        "id": "X9_QEtpyP65t",
        "colab": {
          "base_uri": "https://localhost:8080/",
          "height": 1000
        },
        "outputId": "38fd709f-effa-4bdf-fbe9-65023f5ae141"
      },
      "id": "X9_QEtpyP65t",
      "execution_count": 43,
      "outputs": [
        {
          "output_type": "stream",
          "name": "stdout",
          "text": [
            "<class 'numpy.ndarray'> 18 <class 'numpy.ndarray'> 18\n",
            "Epoch 1/100\n",
            "5/5 [==============================] - 0s 104ms/step - loss: 0.4488 - val_loss: 0.4401\n",
            "Epoch 2/100\n",
            "5/5 [==============================] - 0s 89ms/step - loss: 0.2722 - val_loss: 0.1044\n",
            "Epoch 3/100\n",
            "5/5 [==============================] - 0s 84ms/step - loss: 0.2933 - val_loss: 0.0133\n",
            "Epoch 4/100\n",
            "5/5 [==============================] - 0s 96ms/step - loss: 0.2206 - val_loss: 0.1038\n",
            "Epoch 5/100\n",
            "5/5 [==============================] - 0s 91ms/step - loss: 0.1946 - val_loss: 0.1346\n",
            "Epoch 6/100\n",
            "5/5 [==============================] - 0s 94ms/step - loss: 0.1931 - val_loss: 0.1056\n",
            "Epoch 7/100\n",
            "5/5 [==============================] - 0s 94ms/step - loss: 0.1703 - val_loss: 0.0565\n",
            "Epoch 8/100\n",
            "5/5 [==============================] - 0s 85ms/step - loss: 0.1807 - val_loss: 0.0363\n",
            "Epoch 9/100\n",
            "5/5 [==============================] - 0s 106ms/step - loss: 0.1696 - val_loss: 0.0516\n",
            "Epoch 10/100\n",
            "5/5 [==============================] - 0s 92ms/step - loss: 0.1605 - val_loss: 0.0453\n",
            "Epoch 11/100\n",
            "5/5 [==============================] - 0s 85ms/step - loss: 0.1523 - val_loss: 0.0223\n",
            "Epoch 12/100\n",
            "5/5 [==============================] - 0s 91ms/step - loss: 0.1672 - val_loss: 0.0286\n",
            "Epoch 13/100\n",
            "5/5 [==============================] - 0s 84ms/step - loss: 0.1648 - val_loss: 0.0372\n",
            "Epoch 14/100\n",
            "5/5 [==============================] - 0s 89ms/step - loss: 0.1747 - val_loss: 0.0930\n",
            "Epoch 15/100\n",
            "5/5 [==============================] - 0s 106ms/step - loss: 0.1635 - val_loss: 0.0716\n",
            "Epoch 16/100\n",
            "5/5 [==============================] - 1s 122ms/step - loss: 0.1625 - val_loss: 0.0221\n",
            "Epoch 17/100\n",
            "5/5 [==============================] - 1s 120ms/step - loss: 0.1563 - val_loss: 0.0113\n",
            "Epoch 18/100\n",
            "5/5 [==============================] - 1s 125ms/step - loss: 0.1657 - val_loss: 0.0333\n",
            "Epoch 19/100\n",
            "5/5 [==============================] - 1s 116ms/step - loss: 0.1596 - val_loss: 0.0829\n",
            "Epoch 20/100\n",
            "5/5 [==============================] - 1s 110ms/step - loss: 0.1604 - val_loss: 0.0762\n",
            "Epoch 21/100\n",
            "5/5 [==============================] - 1s 110ms/step - loss: 0.1597 - val_loss: 0.0414\n",
            "Epoch 22/100\n",
            "5/5 [==============================] - 1s 117ms/step - loss: 0.1446 - val_loss: 0.0131\n",
            "Epoch 23/100\n",
            "5/5 [==============================] - 0s 93ms/step - loss: 0.1514 - val_loss: 0.0073\n",
            "Epoch 24/100\n",
            "5/5 [==============================] - 0s 95ms/step - loss: 0.1251 - val_loss: 0.0175\n",
            "Epoch 25/100\n",
            "5/5 [==============================] - 0s 91ms/step - loss: 0.1523 - val_loss: 0.0394\n",
            "Epoch 26/100\n",
            "5/5 [==============================] - 0s 92ms/step - loss: 0.1457 - val_loss: 0.0477\n",
            "Epoch 27/100\n",
            "5/5 [==============================] - 0s 92ms/step - loss: 0.1558 - val_loss: 0.0283\n",
            "Epoch 28/100\n",
            "5/5 [==============================] - 0s 89ms/step - loss: 0.1543 - val_loss: 0.0146\n",
            "Epoch 29/100\n",
            "5/5 [==============================] - 0s 92ms/step - loss: 0.1468 - val_loss: 0.0504\n",
            "Epoch 30/100\n",
            "5/5 [==============================] - 0s 92ms/step - loss: 0.1498 - val_loss: 0.0607\n",
            "Epoch 31/100\n",
            "5/5 [==============================] - 0s 81ms/step - loss: 0.1484 - val_loss: 0.0513\n",
            "Epoch 32/100\n",
            "5/5 [==============================] - 0s 86ms/step - loss: 0.1348 - val_loss: 0.0174\n",
            "Epoch 33/100\n",
            "5/5 [==============================] - 0s 89ms/step - loss: 0.1374 - val_loss: 0.0014\n",
            "Epoch 34/100\n",
            "5/5 [==============================] - 0s 86ms/step - loss: 0.1521 - val_loss: 0.0073\n",
            "Epoch 35/100\n",
            "5/5 [==============================] - 0s 86ms/step - loss: 0.1320 - val_loss: 0.0149\n",
            "Epoch 36/100\n",
            "5/5 [==============================] - 0s 95ms/step - loss: 0.1618 - val_loss: 0.0190\n",
            "Epoch 37/100\n",
            "5/5 [==============================] - 0s 99ms/step - loss: 0.1484 - val_loss: 0.0046\n",
            "Epoch 38/100\n",
            "5/5 [==============================] - 0s 86ms/step - loss: 0.1319 - val_loss: 0.0229\n",
            "Epoch 39/100\n",
            "5/5 [==============================] - 0s 87ms/step - loss: 0.1397 - val_loss: 0.0212\n",
            "Epoch 40/100\n",
            "5/5 [==============================] - 0s 84ms/step - loss: 0.1372 - val_loss: 0.0442\n",
            "Epoch 41/100\n",
            "5/5 [==============================] - 0s 90ms/step - loss: 0.1458 - val_loss: 0.0315\n",
            "Epoch 42/100\n",
            "5/5 [==============================] - 0s 86ms/step - loss: 0.1342 - val_loss: 0.0244\n",
            "Epoch 43/100\n",
            "5/5 [==============================] - 0s 92ms/step - loss: 0.1362 - val_loss: 0.0127\n",
            "Epoch 44/100\n",
            "5/5 [==============================] - 0s 95ms/step - loss: 0.1361 - val_loss: 0.0203\n",
            "Epoch 45/100\n",
            "5/5 [==============================] - 0s 92ms/step - loss: 0.1301 - val_loss: 0.0295\n",
            "Epoch 46/100\n",
            "5/5 [==============================] - 1s 123ms/step - loss: 0.1286 - val_loss: 0.0262\n",
            "Epoch 47/100\n",
            "5/5 [==============================] - 1s 114ms/step - loss: 0.1258 - val_loss: 0.0121\n",
            "Epoch 48/100\n",
            "5/5 [==============================] - 1s 120ms/step - loss: 0.1360 - val_loss: 0.0169\n",
            "Epoch 49/100\n",
            "5/5 [==============================] - 1s 116ms/step - loss: 0.1218 - val_loss: 0.0091\n",
            "Epoch 50/100\n",
            "5/5 [==============================] - 1s 126ms/step - loss: 0.1424 - val_loss: 0.0091\n",
            "Epoch 51/100\n",
            "5/5 [==============================] - 1s 110ms/step - loss: 0.1297 - val_loss: 0.0193\n",
            "Epoch 52/100\n",
            "5/5 [==============================] - 1s 241ms/step - loss: 0.1363 - val_loss: 0.0159\n",
            "Epoch 53/100\n",
            "5/5 [==============================] - 1s 208ms/step - loss: 0.1326 - val_loss: 0.0102\n",
            "Epoch 54/100\n",
            "5/5 [==============================] - 1s 291ms/step - loss: 0.1387 - val_loss: 0.0052\n",
            "Epoch 55/100\n",
            "5/5 [==============================] - 1s 250ms/step - loss: 0.1302 - val_loss: 0.0128\n",
            "Epoch 56/100\n",
            "5/5 [==============================] - 1s 212ms/step - loss: 0.1431 - val_loss: 0.0025\n",
            "Epoch 57/100\n",
            "5/5 [==============================] - 1s 212ms/step - loss: 0.1236 - val_loss: 0.0115\n",
            "Epoch 58/100\n",
            "5/5 [==============================] - 1s 314ms/step - loss: 0.1400 - val_loss: 0.0246\n",
            "Epoch 59/100\n",
            "5/5 [==============================] - 1s 217ms/step - loss: 0.1311 - val_loss: 0.0216\n",
            "Epoch 60/100\n",
            "5/5 [==============================] - 0s 92ms/step - loss: 0.1351 - val_loss: 0.0044\n",
            "Epoch 61/100\n",
            "5/5 [==============================] - 0s 93ms/step - loss: 0.1527 - val_loss: 0.0075\n",
            "Epoch 62/100\n",
            "5/5 [==============================] - 0s 82ms/step - loss: 0.1347 - val_loss: 0.0102\n",
            "Epoch 63/100\n",
            "5/5 [==============================] - 0s 87ms/step - loss: 0.1213 - val_loss: 0.0268\n",
            "Epoch 64/100\n",
            "5/5 [==============================] - 1s 123ms/step - loss: 0.1287 - val_loss: 0.0199\n",
            "Epoch 65/100\n",
            "5/5 [==============================] - 1s 121ms/step - loss: 0.1367 - val_loss: 0.0197\n",
            "Epoch 66/100\n",
            "5/5 [==============================] - 1s 112ms/step - loss: 0.1528 - val_loss: 0.0113\n",
            "Epoch 67/100\n",
            "5/5 [==============================] - 1s 115ms/step - loss: 0.1275 - val_loss: 0.0229\n",
            "Epoch 68/100\n",
            "5/5 [==============================] - 1s 135ms/step - loss: 0.1386 - val_loss: 0.0309\n",
            "Epoch 69/100\n",
            "5/5 [==============================] - 1s 119ms/step - loss: 0.1286 - val_loss: 0.0352\n",
            "Epoch 70/100\n",
            "5/5 [==============================] - 1s 120ms/step - loss: 0.1329 - val_loss: 0.0082\n",
            "Epoch 71/100\n",
            "5/5 [==============================] - 1s 101ms/step - loss: 0.1344 - val_loss: 0.0090\n",
            "Epoch 72/100\n",
            "5/5 [==============================] - 0s 93ms/step - loss: 0.1363 - val_loss: 0.0084\n",
            "Epoch 73/100\n",
            "5/5 [==============================] - 0s 92ms/step - loss: 0.1318 - val_loss: 0.0188\n",
            "Epoch 74/100\n",
            "5/5 [==============================] - 0s 93ms/step - loss: 0.1237 - val_loss: 0.0151\n",
            "Epoch 75/100\n",
            "5/5 [==============================] - 0s 92ms/step - loss: 0.1320 - val_loss: 0.0132\n",
            "Epoch 76/100\n",
            "5/5 [==============================] - 0s 91ms/step - loss: 0.1202 - val_loss: 0.0080\n",
            "Epoch 77/100\n",
            "5/5 [==============================] - 0s 104ms/step - loss: 0.1263 - val_loss: 0.0135\n",
            "Epoch 78/100\n",
            "5/5 [==============================] - 0s 85ms/step - loss: 0.1197 - val_loss: 0.0316\n",
            "Epoch 79/100\n",
            "5/5 [==============================] - 0s 86ms/step - loss: 0.1443 - val_loss: 0.0351\n",
            "Epoch 80/100\n",
            "5/5 [==============================] - 0s 86ms/step - loss: 0.1442 - val_loss: 0.0234\n",
            "Epoch 81/100\n",
            "5/5 [==============================] - 0s 82ms/step - loss: 0.1470 - val_loss: 0.0112\n",
            "Epoch 82/100\n",
            "5/5 [==============================] - 0s 96ms/step - loss: 0.1299 - val_loss: 0.0308\n",
            "Epoch 83/100\n",
            "5/5 [==============================] - 0s 96ms/step - loss: 0.1292 - val_loss: 0.0254\n",
            "Epoch 84/100\n",
            "5/5 [==============================] - 0s 94ms/step - loss: 0.1211 - val_loss: 0.0184\n",
            "Epoch 85/100\n",
            "5/5 [==============================] - 0s 87ms/step - loss: 0.1420 - val_loss: 0.0324\n",
            "Epoch 86/100\n",
            "5/5 [==============================] - 0s 94ms/step - loss: 0.1358 - val_loss: 0.0313\n",
            "Epoch 87/100\n",
            "5/5 [==============================] - 0s 89ms/step - loss: 0.1259 - val_loss: 0.0172\n",
            "Epoch 88/100\n",
            "5/5 [==============================] - 0s 91ms/step - loss: 0.1331 - val_loss: 0.0115\n",
            "Epoch 89/100\n",
            "5/5 [==============================] - 0s 96ms/step - loss: 0.1333 - val_loss: 0.0285\n",
            "Epoch 90/100\n",
            "5/5 [==============================] - 0s 106ms/step - loss: 0.1188 - val_loss: 0.0307\n",
            "Epoch 91/100\n",
            "5/5 [==============================] - 0s 97ms/step - loss: 0.1291 - val_loss: 0.0180\n",
            "Epoch 92/100\n",
            "5/5 [==============================] - 0s 91ms/step - loss: 0.1378 - val_loss: 0.0164\n",
            "Epoch 93/100\n",
            "5/5 [==============================] - 0s 84ms/step - loss: 0.1300 - val_loss: 0.0077\n",
            "Epoch 94/100\n",
            "5/5 [==============================] - 1s 123ms/step - loss: 0.1364 - val_loss: 2.8086e-04\n",
            "Epoch 95/100\n",
            "5/5 [==============================] - 1s 120ms/step - loss: 0.1335 - val_loss: 0.0144\n",
            "Epoch 96/100\n",
            "5/5 [==============================] - 1s 123ms/step - loss: 0.1233 - val_loss: 0.0182\n",
            "Epoch 97/100\n",
            "5/5 [==============================] - 1s 122ms/step - loss: 0.1273 - val_loss: 0.0252\n",
            "Epoch 98/100\n",
            "5/5 [==============================] - 1s 138ms/step - loss: 0.1275 - val_loss: 0.0157\n",
            "Epoch 99/100\n",
            "5/5 [==============================] - 1s 109ms/step - loss: 0.1312 - val_loss: 0.0150\n",
            "Epoch 100/100\n",
            "5/5 [==============================] - 1s 133ms/step - loss: 0.1299 - val_loss: 0.0246\n"
          ]
        },
        {
          "output_type": "display_data",
          "data": {
            "text/plain": [
              "<Figure size 640x480 with 1 Axes>"
            ],
            "image/png": "[encoded data removed]"
          },
          "metadata": {}
        }
      ]
    },
    {
      "cell_type": "code",
      "source": [
        "\n",
        "# Calcula a precisão (accuracy) para os dados de teste\n",
        "def calculate_accuracy(y_true, y_pred):\n",
        "    y_pred = np.round(y_pred)\n",
        "    return accuracy_score(y_true, y_pred)\n",
        "\n"
      ],
      "metadata": {
        "id": "HVj0ejJ8P608"
      },
      "id": "HVj0ejJ8P608",
      "execution_count": 44,
      "outputs": []
    },
    {
      "cell_type": "code",
      "source": [
        "# Calcula a medida F1 (F1-score) para os dados de teste\n",
        "def calculate_f1_score(y_true, y_pred):\n",
        "    y_pred = np.round(y_pred)\n",
        "    return f1_score(y_true, y_pred)"
      ],
      "metadata": {
        "id": "JvHxponyP6yf"
      },
      "id": "JvHxponyP6yf",
      "execution_count": 45,
      "outputs": []
    },
    {
      "cell_type": "code",
      "source": [
        "import numpy as np\n",
        "from sklearn.metrics import f1_score\n",
        "\n",
        "# set threshold value\n",
        "threshold = 0.5\n",
        "\n",
        "# converte y_test para binário\n",
        "y_test_binary = np.where(y_test >= threshold, 1, 0)\n",
        "\n",
        "# fazer previsões\n",
        "y_pred = model.predict(X_test)\n",
        "\n",
        "# converte y_pred para binário\n",
        "y_pred_binary = np.where(y_pred >= threshold, 1, 0)\n",
        "\n",
        "# calcula precisão e pontuação f1\n",
        "accuracy = calculate_accuracy(y_test_binary, y_pred_binary)\n",
        "f1 = f1_score(y_test_binary, y_pred_binary)\n",
        "\n",
        "# imprimir os resultados\n",
        "print(\"Accuracy: {:.2f}%\".format(accuracy * 100))\n",
        "print(\"F1 Score: {:.4f}\".format(f1))\n"
      ],
      "metadata": {
        "id": "c9NG23YtP6v9",
        "colab": {
          "base_uri": "https://localhost:8080/"
        },
        "outputId": "de588e7d-7f26-4924-a433-5fe35c3d6f6c"
      },
      "id": "c9NG23YtP6v9",
      "execution_count": 46,
      "outputs": [
        {
          "output_type": "stream",
          "name": "stdout",
          "text": [
            "1/1 [==============================] - 0s 46ms/step\n",
            "Accuracy: 66.67%\n",
            "F1 Score: 0.8000\n"
          ]
        }
      ]
    },
    {
      "cell_type": "markdown",
      "source": [
        "Imprime os resultados"
      ],
      "metadata": {
        "id": "zp28gDxpkXd9"
      },
      "id": "zp28gDxpkXd9"
    },
    {
      "cell_type": "code",
      "source": [
        "import plotly.graph_objs as go\n",
        "import numpy as np\n",
        "from sklearn.metrics import f1_score\n",
        "\n",
        "\n",
        "\n",
        "# create line chart trace for F1 score\n",
        "trace1 = go.Scatter(x=[\"F1 Score\"], y=[f1], mode=\"lines+markers\", name=\"F1 Score\")\n",
        "\n",
        "# create layout\n",
        "layout = go.Layout(title=\"Model Evaluation\", yaxis=dict(title=\"Score\"))\n",
        "\n",
        "# create figure\n",
        "fig = go.Figure(data=[trace1], layout=layout)\n",
        "\n",
        "# show figure\n",
        "fig.show()\n"
      ],
      "metadata": {
        "id": "HDdtzH4NqEzN",
        "colab": {
          "base_uri": "https://localhost:8080/",
          "height": 542
        },
        "outputId": "a8f3b5e4-796b-46e8-c0e6-140b387c6cdf"
      },
      "id": "HDdtzH4NqEzN",
      "execution_count": 47,
      "outputs": [
        {
          "output_type": "display_data",
          "data": {
            "text/html": [
              "<html>\n",
              "<head><meta charset=\"utf-8\" /></head>\n",
              "<body>\n",
              "    <div>            <script src=\"https://cdnjs.cloudflare.com/ajax/libs/mathjax/2.7.5/MathJax.js?config=TeX-AMS-MML_SVG\"></script><script type=\"text/javascript\">if (window.MathJax && window.MathJax.Hub && window.MathJax.Hub.Config) {window.MathJax.Hub.Config({SVG: {font: \"STIX-Web\"}});}</script>                <script type=\"text/javascript\">window.PlotlyConfig = {MathJaxConfig: 'local'};</script>\n",
              "        <script src=\"https://cdn.plot.ly/plotly-2.18.2.min.js\"></script>                <div id=\"5c2276b8-8585-49aa-a0a8-e434f074191d\" class=\"plotly-graph-div\" style=\"height:525px; width:100%;\"></div>            <script type=\"text/javascript\">                                    window.PLOTLYENV=window.PLOTLYENV || {};                                    if (document.getElementById(\"5c2276b8-8585-49aa-a0a8-e434f074191d\")) {                    Plotly.newPlot(                        \"5c2276b8-8585-49aa-a0a8-e434f074191d\",                        [{\"mode\":\"lines+markers\",\"name\":\"F1 Score\",\"x\":[\"F1 Score\"],\"y\":[0.8],\"type\":\"scatter\"}],                        {\"title\":{\"text\":\"Model Evaluation\"},\"yaxis\":{\"title\":{\"text\":\"Score\"}},\"template\":{\"data\":{\"histogram2dcontour\":[{\"type\":\"histogram2dcontour\",\"colorbar\":{\"outlinewidth\":0,\"ticks\":\"\"},\"colorscale\":[[0.0,\"#0d0887\"],[0.1111111111111111,\"#46039f\"],[0.2222222222222222,\"#7201a8\"],[0.3333333333333333,\"#9c179e\"],[0.4444444444444444,\"#bd3786\"],[0.5555555555555556,\"#d8576b\"],[0.6666666666666666,\"#ed7953\"],[0.7777777777777778,\"#fb9f3a\"],[0.8888888888888888,\"#fdca26\"],[1.0,\"#f0f921\"]]}],\"choropleth\":[{\"type\":\"choropleth\",\"colorbar\":{\"outlinewidth\":0,\"ticks\":\"\"}}],\"histogram2d\":[{\"type\":\"histogram2d\",\"colorbar\":{\"outlinewidth\":0,\"ticks\":\"\"},\"colorscale\":[[0.0,\"#0d0887\"],[0.1111111111111111,\"#46039f\"],[0.2222222222222222,\"#7201a8\"],[0.3333333333333333,\"#9c179e\"],[0.4444444444444444,\"#bd3786\"],[0.5555555555555556,\"#d8576b\"],[0.6666666666666666,\"#ed7953\"],[0.7777777777777778,\"#fb9f3a\"],[0.8888888888888888,\"#fdca26\"],[1.0,\"#f0f921\"]]}],\"heatmap\":[{\"type\":\"heatmap\",\"colorbar\":{\"outlinewidth\":0,\"ticks\":\"\"},\"colorscale\":[[0.0,\"#0d0887\"],[0.1111111111111111,\"#46039f\"],[0.2222222222222222,\"#7201a8\"],[0.3333333333333333,\"#9c179e\"],[0.4444444444444444,\"#bd3786\"],[0.5555555555555556,\"#d8576b\"],[0.6666666666666666,\"#ed7953\"],[0.7777777777777778,\"#fb9f3a\"],[0.8888888888888888,\"#fdca26\"],[1.0,\"#f0f921\"]]}],\"heatmapgl\":[{\"type\":\"heatmapgl\",\"colorbar\":{\"outlinewidth\":0,\"ticks\":\"\"},\"colorscale\":[[0.0,\"#0d0887\"],[0.1111111111111111,\"#46039f\"],[0.2222222222222222,\"#7201a8\"],[0.3333333333333333,\"#9c179e\"],[0.4444444444444444,\"#bd3786\"],[0.5555555555555556,\"#d8576b\"],[0.6666666666666666,\"#ed7953\"],[0.7777777777777778,\"#fb9f3a\"],[0.8888888888888888,\"#fdca26\"],[1.0,\"#f0f921\"]]}],\"contourcarpet\":[{\"type\":\"contourcarpet\",\"colorbar\":{\"outlinewidth\":0,\"ticks\":\"\"}}],\"contour\":[{\"type\":\"contour\",\"colorbar\":{\"outlinewidth\":0,\"ticks\":\"\"},\"colorscale\":[[0.0,\"#0d0887\"],[0.1111111111111111,\"#46039f\"],[0.2222222222222222,\"#7201a8\"],[0.3333333333333333,\"#9c179e\"],[0.4444444444444444,\"#bd3786\"],[0.5555555555555556,\"#d8576b\"],[0.6666666666666666,\"#ed7953\"],[0.7777777777777778,\"#fb9f3a\"],[0.8888888888888888,\"#fdca26\"],[1.0,\"#f0f921\"]]}],\"surface\":[{\"type\":\"surface\",\"colorbar\":{\"outlinewidth\":0,\"ticks\":\"\"},\"colorscale\":[[0.0,\"#0d0887\"],[0.1111111111111111,\"#46039f\"],[0.2222222222222222,\"#7201a8\"],[0.3333333333333333,\"#9c179e\"],[0.4444444444444444,\"#bd3786\"],[0.5555555555555556,\"#d8576b\"],[0.6666666666666666,\"#ed7953\"],[0.7777777777777778,\"#fb9f3a\"],[0.8888888888888888,\"#fdca26\"],[1.0,\"#f0f921\"]]}],\"mesh3d\":[{\"type\":\"mesh3d\",\"colorbar\":{\"outlinewidth\":0,\"ticks\":\"\"}}],\"scatter\":[{\"fillpattern\":{\"fillmode\":\"overlay\",\"size\":10,\"solidity\":0.2},\"type\":\"scatter\"}],\"parcoords\":[{\"type\":\"parcoords\",\"line\":{\"colorbar\":{\"outlinewidth\":0,\"ticks\":\"\"}}}],\"scatterpolargl\":[{\"type\":\"scatterpolargl\",\"marker\":{\"colorbar\":{\"outlinewidth\":0,\"ticks\":\"\"}}}],\"bar\":[{\"error_x\":{\"color\":\"#2a3f5f\"},\"error_y\":{\"color\":\"#2a3f5f\"},\"marker\":{\"line\":{\"color\":\"#E5ECF6\",\"width\":0.5},\"pattern\":{\"fillmode\":\"overlay\",\"size\":10,\"solidity\":0.2}},\"type\":\"bar\"}],\"scattergeo\":[{\"type\":\"scattergeo\",\"marker\":{\"colorbar\":{\"outlinewidth\":0,\"ticks\":\"\"}}}],\"scatterpolar\":[{\"type\":\"scatterpolar\",\"marker\":{\"colorbar\":{\"outlinewidth\":0,\"ticks\":\"\"}}}],\"histogram\":[{\"marker\":{\"pattern\":{\"fillmode\":\"overlay\",\"size\":10,\"solidity\":0.2}},\"type\":\"histogram\"}],\"scattergl\":[{\"type\":\"scattergl\",\"marker\":{\"colorbar\":{\"outlinewidth\":0,\"ticks\":\"\"}}}],\"scatter3d\":[{\"type\":\"scatter3d\",\"line\":{\"colorbar\":{\"outlinewidth\":0,\"ticks\":\"\"}},\"marker\":{\"colorbar\":{\"outlinewidth\":0,\"ticks\":\"\"}}}],\"scattermapbox\":[{\"type\":\"scattermapbox\",\"marker\":{\"colorbar\":{\"outlinewidth\":0,\"ticks\":\"\"}}}],\"scatterternary\":[{\"type\":\"scatterternary\",\"marker\":{\"colorbar\":{\"outlinewidth\":0,\"ticks\":\"\"}}}],\"scattercarpet\":[{\"type\":\"scattercarpet\",\"marker\":{\"colorbar\":{\"outlinewidth\":0,\"ticks\":\"\"}}}],\"carpet\":[{\"aaxis\":{\"endlinecolor\":\"#2a3f5f\",\"gridcolor\":\"white\",\"linecolor\":\"white\",\"minorgridcolor\":\"white\",\"startlinecolor\":\"#2a3f5f\"},\"baxis\":{\"endlinecolor\":\"#2a3f5f\",\"gridcolor\":\"white\",\"linecolor\":\"white\",\"minorgridcolor\":\"white\",\"startlinecolor\":\"#2a3f5f\"},\"type\":\"carpet\"}],\"table\":[{\"cells\":{\"fill\":{\"color\":\"#EBF0F8\"},\"line\":{\"color\":\"white\"}},\"header\":{\"fill\":{\"color\":\"#C8D4E3\"},\"line\":{\"color\":\"white\"}},\"type\":\"table\"}],\"barpolar\":[{\"marker\":{\"line\":{\"color\":\"#E5ECF6\",\"width\":0.5},\"pattern\":{\"fillmode\":\"overlay\",\"size\":10,\"solidity\":0.2}},\"type\":\"barpolar\"}],\"pie\":[{\"automargin\":true,\"type\":\"pie\"}]},\"layout\":{\"autotypenumbers\":\"strict\",\"colorway\":[\"#636efa\",\"#EF553B\",\"#00cc96\",\"#ab63fa\",\"#FFA15A\",\"#19d3f3\",\"#FF6692\",\"#B6E880\",\"#FF97FF\",\"#FECB52\"],\"font\":{\"color\":\"#2a3f5f\"},\"hovermode\":\"closest\",\"hoverlabel\":{\"align\":\"left\"},\"paper_bgcolor\":\"white\",\"plot_bgcolor\":\"#E5ECF6\",\"polar\":{\"bgcolor\":\"#E5ECF6\",\"angularaxis\":{\"gridcolor\":\"white\",\"linecolor\":\"white\",\"ticks\":\"\"},\"radialaxis\":{\"gridcolor\":\"white\",\"linecolor\":\"white\",\"ticks\":\"\"}},\"ternary\":{\"bgcolor\":\"#E5ECF6\",\"aaxis\":{\"gridcolor\":\"white\",\"linecolor\":\"white\",\"ticks\":\"\"},\"baxis\":{\"gridcolor\":\"white\",\"linecolor\":\"white\",\"ticks\":\"\"},\"caxis\":{\"gridcolor\":\"white\",\"linecolor\":\"white\",\"ticks\":\"\"}},\"coloraxis\":{\"colorbar\":{\"outlinewidth\":0,\"ticks\":\"\"}},\"colorscale\":{\"sequential\":[[0.0,\"#0d0887\"],[0.1111111111111111,\"#46039f\"],[0.2222222222222222,\"#7201a8\"],[0.3333333333333333,\"#9c179e\"],[0.4444444444444444,\"#bd3786\"],[0.5555555555555556,\"#d8576b\"],[0.6666666666666666,\"#ed7953\"],[0.7777777777777778,\"#fb9f3a\"],[0.8888888888888888,\"#fdca26\"],[1.0,\"#f0f921\"]],\"sequentialminus\":[[0.0,\"#0d0887\"],[0.1111111111111111,\"#46039f\"],[0.2222222222222222,\"#7201a8\"],[0.3333333333333333,\"#9c179e\"],[0.4444444444444444,\"#bd3786\"],[0.5555555555555556,\"#d8576b\"],[0.6666666666666666,\"#ed7953\"],[0.7777777777777778,\"#fb9f3a\"],[0.8888888888888888,\"#fdca26\"],[1.0,\"#f0f921\"]],\"diverging\":[[0,\"#8e0152\"],[0.1,\"#c51b7d\"],[0.2,\"#de77ae\"],[0.3,\"#f1b6da\"],[0.4,\"#fde0ef\"],[0.5,\"#f7f7f7\"],[0.6,\"#e6f5d0\"],[0.7,\"#b8e186\"],[0.8,\"#7fbc41\"],[0.9,\"#4d9221\"],[1,\"#276419\"]]},\"xaxis\":{\"gridcolor\":\"white\",\"linecolor\":\"white\",\"ticks\":\"\",\"title\":{\"standoff\":15},\"zerolinecolor\":\"white\",\"automargin\":true,\"zerolinewidth\":2},\"yaxis\":{\"gridcolor\":\"white\",\"linecolor\":\"white\",\"ticks\":\"\",\"title\":{\"standoff\":15},\"zerolinecolor\":\"white\",\"automargin\":true,\"zerolinewidth\":2},\"scene\":{\"xaxis\":{\"backgroundcolor\":\"#E5ECF6\",\"gridcolor\":\"white\",\"linecolor\":\"white\",\"showbackground\":true,\"ticks\":\"\",\"zerolinecolor\":\"white\",\"gridwidth\":2},\"yaxis\":{\"backgroundcolor\":\"#E5ECF6\",\"gridcolor\":\"white\",\"linecolor\":\"white\",\"showbackground\":true,\"ticks\":\"\",\"zerolinecolor\":\"white\",\"gridwidth\":2},\"zaxis\":{\"backgroundcolor\":\"#E5ECF6\",\"gridcolor\":\"white\",\"linecolor\":\"white\",\"showbackground\":true,\"ticks\":\"\",\"zerolinecolor\":\"white\",\"gridwidth\":2}},\"shapedefaults\":{\"line\":{\"color\":\"#2a3f5f\"}},\"annotationdefaults\":{\"arrowcolor\":\"#2a3f5f\",\"arrowhead\":0,\"arrowwidth\":1},\"geo\":{\"bgcolor\":\"white\",\"landcolor\":\"#E5ECF6\",\"subunitcolor\":\"white\",\"showland\":true,\"showlakes\":true,\"lakecolor\":\"white\"},\"title\":{\"x\":0.05},\"mapbox\":{\"style\":\"light\"}}}},                        {\"responsive\": true}                    ).then(function(){\n",
              "                            \n",
              "var gd = document.getElementById('5c2276b8-8585-49aa-a0a8-e434f074191d');\n",
              "var x = new MutationObserver(function (mutations, observer) {{\n",
              "        var display = window.getComputedStyle(gd).display;\n",
              "        if (!display || display === 'none') {{\n",
              "            console.log([gd, 'removed!']);\n",
              "            Plotly.purge(gd);\n",
              "            observer.disconnect();\n",
              "        }}\n",
              "}});\n",
              "\n",
              "// Listen for the removal of the full notebook cells\n",
              "var notebookContainer = gd.closest('#notebook-container');\n",
              "if (notebookContainer) {{\n",
              "    x.observe(notebookContainer, {childList: true});\n",
              "}}\n",
              "\n",
              "// Listen for the clearing of the current output cell\n",
              "var outputEl = gd.closest('.output');\n",
              "if (outputEl) {{\n",
              "    x.observe(outputEl, {childList: true});\n",
              "}}\n",
              "\n",
              "                        })                };                            </script>        </div>\n",
              "</body>\n",
              "</html>"
            ]
          },
          "metadata": {}
        }
      ]
    },
    {
      "cell_type": "code",
      "source": [
        "# create line chart trace for accuracy\n",
        "trace1 = go.Scatter(x=[0], y=[accuracy], mode=\"lines\", name=\"Accuracy\")\n",
        "\n",
        "# create layout\n",
        "layout = go.Layout(title=\"Model Evaluation\", yaxis=dict(title=\"Score\", range=[0, 1]))\n",
        "\n",
        "# create figure\n",
        "fig = go.Figure(data=[trace1], layout=layout)\n",
        "\n",
        "# show figure\n",
        "fig.show()\n"
      ],
      "metadata": {
        "id": "OX4WiD09P6f6",
        "colab": {
          "base_uri": "https://localhost:8080/",
          "height": 542
        },
        "outputId": "186c03fc-dece-4a93-b249-0ee335ef894b"
      },
      "id": "OX4WiD09P6f6",
      "execution_count": 48,
      "outputs": [
        {
          "output_type": "display_data",
          "data": {
            "text/html": [
              "<html>\n",
              "<head><meta charset=\"utf-8\" /></head>\n",
              "<body>\n",
              "    <div>            <script src=\"https://cdnjs.cloudflare.com/ajax/libs/mathjax/2.7.5/MathJax.js?config=TeX-AMS-MML_SVG\"></script><script type=\"text/javascript\">if (window.MathJax && window.MathJax.Hub && window.MathJax.Hub.Config) {window.MathJax.Hub.Config({SVG: {font: \"STIX-Web\"}});}</script>                <script type=\"text/javascript\">window.PlotlyConfig = {MathJaxConfig: 'local'};</script>\n",
              "        <script src=\"https://cdn.plot.ly/plotly-2.18.2.min.js\"></script>                <div id=\"07e93c04-9c3a-4c7b-bece-953d89d55b09\" class=\"plotly-graph-div\" style=\"height:525px; width:100%;\"></div>            <script type=\"text/javascript\">                                    window.PLOTLYENV=window.PLOTLYENV || {};                                    if (document.getElementById(\"07e93c04-9c3a-4c7b-bece-953d89d55b09\")) {                    Plotly.newPlot(                        \"07e93c04-9c3a-4c7b-bece-953d89d55b09\",                        [{\"mode\":\"lines\",\"name\":\"Accuracy\",\"x\":[0],\"y\":[0.6666666666666666],\"type\":\"scatter\"}],                        {\"title\":{\"text\":\"Model Evaluation\"},\"yaxis\":{\"range\":[0,1],\"title\":{\"text\":\"Score\"}},\"template\":{\"data\":{\"histogram2dcontour\":[{\"type\":\"histogram2dcontour\",\"colorbar\":{\"outlinewidth\":0,\"ticks\":\"\"},\"colorscale\":[[0.0,\"#0d0887\"],[0.1111111111111111,\"#46039f\"],[0.2222222222222222,\"#7201a8\"],[0.3333333333333333,\"#9c179e\"],[0.4444444444444444,\"#bd3786\"],[0.5555555555555556,\"#d8576b\"],[0.6666666666666666,\"#ed7953\"],[0.7777777777777778,\"#fb9f3a\"],[0.8888888888888888,\"#fdca26\"],[1.0,\"#f0f921\"]]}],\"choropleth\":[{\"type\":\"choropleth\",\"colorbar\":{\"outlinewidth\":0,\"ticks\":\"\"}}],\"histogram2d\":[{\"type\":\"histogram2d\",\"colorbar\":{\"outlinewidth\":0,\"ticks\":\"\"},\"colorscale\":[[0.0,\"#0d0887\"],[0.1111111111111111,\"#46039f\"],[0.2222222222222222,\"#7201a8\"],[0.3333333333333333,\"#9c179e\"],[0.4444444444444444,\"#bd3786\"],[0.5555555555555556,\"#d8576b\"],[0.6666666666666666,\"#ed7953\"],[0.7777777777777778,\"#fb9f3a\"],[0.8888888888888888,\"#fdca26\"],[1.0,\"#f0f921\"]]}],\"heatmap\":[{\"type\":\"heatmap\",\"colorbar\":{\"outlinewidth\":0,\"ticks\":\"\"},\"colorscale\":[[0.0,\"#0d0887\"],[0.1111111111111111,\"#46039f\"],[0.2222222222222222,\"#7201a8\"],[0.3333333333333333,\"#9c179e\"],[0.4444444444444444,\"#bd3786\"],[0.5555555555555556,\"#d8576b\"],[0.6666666666666666,\"#ed7953\"],[0.7777777777777778,\"#fb9f3a\"],[0.8888888888888888,\"#fdca26\"],[1.0,\"#f0f921\"]]}],\"heatmapgl\":[{\"type\":\"heatmapgl\",\"colorbar\":{\"outlinewidth\":0,\"ticks\":\"\"},\"colorscale\":[[0.0,\"#0d0887\"],[0.1111111111111111,\"#46039f\"],[0.2222222222222222,\"#7201a8\"],[0.3333333333333333,\"#9c179e\"],[0.4444444444444444,\"#bd3786\"],[0.5555555555555556,\"#d8576b\"],[0.6666666666666666,\"#ed7953\"],[0.7777777777777778,\"#fb9f3a\"],[0.8888888888888888,\"#fdca26\"],[1.0,\"#f0f921\"]]}],\"contourcarpet\":[{\"type\":\"contourcarpet\",\"colorbar\":{\"outlinewidth\":0,\"ticks\":\"\"}}],\"contour\":[{\"type\":\"contour\",\"colorbar\":{\"outlinewidth\":0,\"ticks\":\"\"},\"colorscale\":[[0.0,\"#0d0887\"],[0.1111111111111111,\"#46039f\"],[0.2222222222222222,\"#7201a8\"],[0.3333333333333333,\"#9c179e\"],[0.4444444444444444,\"#bd3786\"],[0.5555555555555556,\"#d8576b\"],[0.6666666666666666,\"#ed7953\"],[0.7777777777777778,\"#fb9f3a\"],[0.8888888888888888,\"#fdca26\"],[1.0,\"#f0f921\"]]}],\"surface\":[{\"type\":\"surface\",\"colorbar\":{\"outlinewidth\":0,\"ticks\":\"\"},\"colorscale\":[[0.0,\"#0d0887\"],[0.1111111111111111,\"#46039f\"],[0.2222222222222222,\"#7201a8\"],[0.3333333333333333,\"#9c179e\"],[0.4444444444444444,\"#bd3786\"],[0.5555555555555556,\"#d8576b\"],[0.6666666666666666,\"#ed7953\"],[0.7777777777777778,\"#fb9f3a\"],[0.8888888888888888,\"#fdca26\"],[1.0,\"#f0f921\"]]}],\"mesh3d\":[{\"type\":\"mesh3d\",\"colorbar\":{\"outlinewidth\":0,\"ticks\":\"\"}}],\"scatter\":[{\"fillpattern\":{\"fillmode\":\"overlay\",\"size\":10,\"solidity\":0.2},\"type\":\"scatter\"}],\"parcoords\":[{\"type\":\"parcoords\",\"line\":{\"colorbar\":{\"outlinewidth\":0,\"ticks\":\"\"}}}],\"scatterpolargl\":[{\"type\":\"scatterpolargl\",\"marker\":{\"colorbar\":{\"outlinewidth\":0,\"ticks\":\"\"}}}],\"bar\":[{\"error_x\":{\"color\":\"#2a3f5f\"},\"error_y\":{\"color\":\"#2a3f5f\"},\"marker\":{\"line\":{\"color\":\"#E5ECF6\",\"width\":0.5},\"pattern\":{\"fillmode\":\"overlay\",\"size\":10,\"solidity\":0.2}},\"type\":\"bar\"}],\"scattergeo\":[{\"type\":\"scattergeo\",\"marker\":{\"colorbar\":{\"outlinewidth\":0,\"ticks\":\"\"}}}],\"scatterpolar\":[{\"type\":\"scatterpolar\",\"marker\":{\"colorbar\":{\"outlinewidth\":0,\"ticks\":\"\"}}}],\"histogram\":[{\"marker\":{\"pattern\":{\"fillmode\":\"overlay\",\"size\":10,\"solidity\":0.2}},\"type\":\"histogram\"}],\"scattergl\":[{\"type\":\"scattergl\",\"marker\":{\"colorbar\":{\"outlinewidth\":0,\"ticks\":\"\"}}}],\"scatter3d\":[{\"type\":\"scatter3d\",\"line\":{\"colorbar\":{\"outlinewidth\":0,\"ticks\":\"\"}},\"marker\":{\"colorbar\":{\"outlinewidth\":0,\"ticks\":\"\"}}}],\"scattermapbox\":[{\"type\":\"scattermapbox\",\"marker\":{\"colorbar\":{\"outlinewidth\":0,\"ticks\":\"\"}}}],\"scatterternary\":[{\"type\":\"scatterternary\",\"marker\":{\"colorbar\":{\"outlinewidth\":0,\"ticks\":\"\"}}}],\"scattercarpet\":[{\"type\":\"scattercarpet\",\"marker\":{\"colorbar\":{\"outlinewidth\":0,\"ticks\":\"\"}}}],\"carpet\":[{\"aaxis\":{\"endlinecolor\":\"#2a3f5f\",\"gridcolor\":\"white\",\"linecolor\":\"white\",\"minorgridcolor\":\"white\",\"startlinecolor\":\"#2a3f5f\"},\"baxis\":{\"endlinecolor\":\"#2a3f5f\",\"gridcolor\":\"white\",\"linecolor\":\"white\",\"minorgridcolor\":\"white\",\"startlinecolor\":\"#2a3f5f\"},\"type\":\"carpet\"}],\"table\":[{\"cells\":{\"fill\":{\"color\":\"#EBF0F8\"},\"line\":{\"color\":\"white\"}},\"header\":{\"fill\":{\"color\":\"#C8D4E3\"},\"line\":{\"color\":\"white\"}},\"type\":\"table\"}],\"barpolar\":[{\"marker\":{\"line\":{\"color\":\"#E5ECF6\",\"width\":0.5},\"pattern\":{\"fillmode\":\"overlay\",\"size\":10,\"solidity\":0.2}},\"type\":\"barpolar\"}],\"pie\":[{\"automargin\":true,\"type\":\"pie\"}]},\"layout\":{\"autotypenumbers\":\"strict\",\"colorway\":[\"#636efa\",\"#EF553B\",\"#00cc96\",\"#ab63fa\",\"#FFA15A\",\"#19d3f3\",\"#FF6692\",\"#B6E880\",\"#FF97FF\",\"#FECB52\"],\"font\":{\"color\":\"#2a3f5f\"},\"hovermode\":\"closest\",\"hoverlabel\":{\"align\":\"left\"},\"paper_bgcolor\":\"white\",\"plot_bgcolor\":\"#E5ECF6\",\"polar\":{\"bgcolor\":\"#E5ECF6\",\"angularaxis\":{\"gridcolor\":\"white\",\"linecolor\":\"white\",\"ticks\":\"\"},\"radialaxis\":{\"gridcolor\":\"white\",\"linecolor\":\"white\",\"ticks\":\"\"}},\"ternary\":{\"bgcolor\":\"#E5ECF6\",\"aaxis\":{\"gridcolor\":\"white\",\"linecolor\":\"white\",\"ticks\":\"\"},\"baxis\":{\"gridcolor\":\"white\",\"linecolor\":\"white\",\"ticks\":\"\"},\"caxis\":{\"gridcolor\":\"white\",\"linecolor\":\"white\",\"ticks\":\"\"}},\"coloraxis\":{\"colorbar\":{\"outlinewidth\":0,\"ticks\":\"\"}},\"colorscale\":{\"sequential\":[[0.0,\"#0d0887\"],[0.1111111111111111,\"#46039f\"],[0.2222222222222222,\"#7201a8\"],[0.3333333333333333,\"#9c179e\"],[0.4444444444444444,\"#bd3786\"],[0.5555555555555556,\"#d8576b\"],[0.6666666666666666,\"#ed7953\"],[0.7777777777777778,\"#fb9f3a\"],[0.8888888888888888,\"#fdca26\"],[1.0,\"#f0f921\"]],\"sequentialminus\":[[0.0,\"#0d0887\"],[0.1111111111111111,\"#46039f\"],[0.2222222222222222,\"#7201a8\"],[0.3333333333333333,\"#9c179e\"],[0.4444444444444444,\"#bd3786\"],[0.5555555555555556,\"#d8576b\"],[0.6666666666666666,\"#ed7953\"],[0.7777777777777778,\"#fb9f3a\"],[0.8888888888888888,\"#fdca26\"],[1.0,\"#f0f921\"]],\"diverging\":[[0,\"#8e0152\"],[0.1,\"#c51b7d\"],[0.2,\"#de77ae\"],[0.3,\"#f1b6da\"],[0.4,\"#fde0ef\"],[0.5,\"#f7f7f7\"],[0.6,\"#e6f5d0\"],[0.7,\"#b8e186\"],[0.8,\"#7fbc41\"],[0.9,\"#4d9221\"],[1,\"#276419\"]]},\"xaxis\":{\"gridcolor\":\"white\",\"linecolor\":\"white\",\"ticks\":\"\",\"title\":{\"standoff\":15},\"zerolinecolor\":\"white\",\"automargin\":true,\"zerolinewidth\":2},\"yaxis\":{\"gridcolor\":\"white\",\"linecolor\":\"white\",\"ticks\":\"\",\"title\":{\"standoff\":15},\"zerolinecolor\":\"white\",\"automargin\":true,\"zerolinewidth\":2},\"scene\":{\"xaxis\":{\"backgroundcolor\":\"#E5ECF6\",\"gridcolor\":\"white\",\"linecolor\":\"white\",\"showbackground\":true,\"ticks\":\"\",\"zerolinecolor\":\"white\",\"gridwidth\":2},\"yaxis\":{\"backgroundcolor\":\"#E5ECF6\",\"gridcolor\":\"white\",\"linecolor\":\"white\",\"showbackground\":true,\"ticks\":\"\",\"zerolinecolor\":\"white\",\"gridwidth\":2},\"zaxis\":{\"backgroundcolor\":\"#E5ECF6\",\"gridcolor\":\"white\",\"linecolor\":\"white\",\"showbackground\":true,\"ticks\":\"\",\"zerolinecolor\":\"white\",\"gridwidth\":2}},\"shapedefaults\":{\"line\":{\"color\":\"#2a3f5f\"}},\"annotationdefaults\":{\"arrowcolor\":\"#2a3f5f\",\"arrowhead\":0,\"arrowwidth\":1},\"geo\":{\"bgcolor\":\"white\",\"landcolor\":\"#E5ECF6\",\"subunitcolor\":\"white\",\"showland\":true,\"showlakes\":true,\"lakecolor\":\"white\"},\"title\":{\"x\":0.05},\"mapbox\":{\"style\":\"light\"}}}},                        {\"responsive\": true}                    ).then(function(){\n",
              "                            \n",
              "var gd = document.getElementById('07e93c04-9c3a-4c7b-bece-953d89d55b09');\n",
              "var x = new MutationObserver(function (mutations, observer) {{\n",
              "        var display = window.getComputedStyle(gd).display;\n",
              "        if (!display || display === 'none') {{\n",
              "            console.log([gd, 'removed!']);\n",
              "            Plotly.purge(gd);\n",
              "            observer.disconnect();\n",
              "        }}\n",
              "}});\n",
              "\n",
              "// Listen for the removal of the full notebook cells\n",
              "var notebookContainer = gd.closest('#notebook-container');\n",
              "if (notebookContainer) {{\n",
              "    x.observe(notebookContainer, {childList: true});\n",
              "}}\n",
              "\n",
              "// Listen for the clearing of the current output cell\n",
              "var outputEl = gd.closest('.output');\n",
              "if (outputEl) {{\n",
              "    x.observe(outputEl, {childList: true});\n",
              "}}\n",
              "\n",
              "                        })                };                            </script>        </div>\n",
              "</body>\n",
              "</html>"
            ]
          },
          "metadata": {}
        }
      ]
    },
    {
      "cell_type": "code",
      "source": [
        "# create trace for actual consumption data\n",
        "trace1 = go.Scatter(x=np.arange(y_test.shape[0]), y=y_test, mode=\"lines\", name=\"Actual\")\n",
        "\n",
        "# create trace for predicted consumption data\n",
        "trace2 = go.Scatter(x=np.arange(y_pred.shape[0]), y=y_pred, mode=\"lines\", name=\"Predicted\")\n",
        "\n",
        "# create layout\n",
        "layout = go.Layout(title=\"Actual vs Predicted Consumption\", xaxis=dict(title=\"Time\"), yaxis=dict(title=\"Consumption\"))\n",
        "\n",
        "# create figure\n",
        "fig = go.Figure(data=[trace1, trace2], layout=layout)\n",
        "\n",
        "# show figure\n",
        "fig.show()\n"
      ],
      "metadata": {
        "id": "YbTGcghEkS3H",
        "colab": {
          "base_uri": "https://localhost:8080/",
          "height": 542
        },
        "outputId": "3fda6434-1de6-45fa-d946-abe68e69b6ea"
      },
      "id": "YbTGcghEkS3H",
      "execution_count": 49,
      "outputs": [
        {
          "output_type": "display_data",
          "data": {
            "text/html": [
              "<html>\n",
              "<head><meta charset=\"utf-8\" /></head>\n",
              "<body>\n",
              "    <div>            <script src=\"https://cdnjs.cloudflare.com/ajax/libs/mathjax/2.7.5/MathJax.js?config=TeX-AMS-MML_SVG\"></script><script type=\"text/javascript\">if (window.MathJax && window.MathJax.Hub && window.MathJax.Hub.Config) {window.MathJax.Hub.Config({SVG: {font: \"STIX-Web\"}});}</script>                <script type=\"text/javascript\">window.PlotlyConfig = {MathJaxConfig: 'local'};</script>\n",
              "        <script src=\"https://cdn.plot.ly/plotly-2.18.2.min.js\"></script>                <div id=\"72e14ce5-e480-4dec-bd74-acbc07ab5b16\" class=\"plotly-graph-div\" style=\"height:525px; width:100%;\"></div>            <script type=\"text/javascript\">                                    window.PLOTLYENV=window.PLOTLYENV || {};                                    if (document.getElementById(\"72e14ce5-e480-4dec-bd74-acbc07ab5b16\")) {                    Plotly.newPlot(                        \"72e14ce5-e480-4dec-bd74-acbc07ab5b16\",                        [{\"mode\":\"lines\",\"name\":\"Actual\",\"x\":[0,1,2,3,4,5],\"y\":[1.0145255831835338,0.4990592224592589,0.8903302553845852,0.9318681806878923,0.7359162636878734,0.10070807490298012],\"type\":\"scatter\"},{\"mode\":\"lines\",\"name\":\"Predicted\",\"x\":[0,1,2,3,4,5],\"y\":[[0.8988702297210693],[0.7834528088569641],[0.6812585592269897],[0.5378159284591675],[0.514054536819458],[0.5519121289253235]],\"type\":\"scatter\"}],                        {\"title\":{\"text\":\"Actual vs Predicted Consumption\"},\"xaxis\":{\"title\":{\"text\":\"Time\"}},\"yaxis\":{\"title\":{\"text\":\"Consumption\"}},\"template\":{\"data\":{\"histogram2dcontour\":[{\"type\":\"histogram2dcontour\",\"colorbar\":{\"outlinewidth\":0,\"ticks\":\"\"},\"colorscale\":[[0.0,\"#0d0887\"],[0.1111111111111111,\"#46039f\"],[0.2222222222222222,\"#7201a8\"],[0.3333333333333333,\"#9c179e\"],[0.4444444444444444,\"#bd3786\"],[0.5555555555555556,\"#d8576b\"],[0.6666666666666666,\"#ed7953\"],[0.7777777777777778,\"#fb9f3a\"],[0.8888888888888888,\"#fdca26\"],[1.0,\"#f0f921\"]]}],\"choropleth\":[{\"type\":\"choropleth\",\"colorbar\":{\"outlinewidth\":0,\"ticks\":\"\"}}],\"histogram2d\":[{\"type\":\"histogram2d\",\"colorbar\":{\"outlinewidth\":0,\"ticks\":\"\"},\"colorscale\":[[0.0,\"#0d0887\"],[0.1111111111111111,\"#46039f\"],[0.2222222222222222,\"#7201a8\"],[0.3333333333333333,\"#9c179e\"],[0.4444444444444444,\"#bd3786\"],[0.5555555555555556,\"#d8576b\"],[0.6666666666666666,\"#ed7953\"],[0.7777777777777778,\"#fb9f3a\"],[0.8888888888888888,\"#fdca26\"],[1.0,\"#f0f921\"]]}],\"heatmap\":[{\"type\":\"heatmap\",\"colorbar\":{\"outlinewidth\":0,\"ticks\":\"\"},\"colorscale\":[[0.0,\"#0d0887\"],[0.1111111111111111,\"#46039f\"],[0.2222222222222222,\"#7201a8\"],[0.3333333333333333,\"#9c179e\"],[0.4444444444444444,\"#bd3786\"],[0.5555555555555556,\"#d8576b\"],[0.6666666666666666,\"#ed7953\"],[0.7777777777777778,\"#fb9f3a\"],[0.8888888888888888,\"#fdca26\"],[1.0,\"#f0f921\"]]}],\"heatmapgl\":[{\"type\":\"heatmapgl\",\"colorbar\":{\"outlinewidth\":0,\"ticks\":\"\"},\"colorscale\":[[0.0,\"#0d0887\"],[0.1111111111111111,\"#46039f\"],[0.2222222222222222,\"#7201a8\"],[0.3333333333333333,\"#9c179e\"],[0.4444444444444444,\"#bd3786\"],[0.5555555555555556,\"#d8576b\"],[0.6666666666666666,\"#ed7953\"],[0.7777777777777778,\"#fb9f3a\"],[0.8888888888888888,\"#fdca26\"],[1.0,\"#f0f921\"]]}],\"contourcarpet\":[{\"type\":\"contourcarpet\",\"colorbar\":{\"outlinewidth\":0,\"ticks\":\"\"}}],\"contour\":[{\"type\":\"contour\",\"colorbar\":{\"outlinewidth\":0,\"ticks\":\"\"},\"colorscale\":[[0.0,\"#0d0887\"],[0.1111111111111111,\"#46039f\"],[0.2222222222222222,\"#7201a8\"],[0.3333333333333333,\"#9c179e\"],[0.4444444444444444,\"#bd3786\"],[0.5555555555555556,\"#d8576b\"],[0.6666666666666666,\"#ed7953\"],[0.7777777777777778,\"#fb9f3a\"],[0.8888888888888888,\"#fdca26\"],[1.0,\"#f0f921\"]]}],\"surface\":[{\"type\":\"surface\",\"colorbar\":{\"outlinewidth\":0,\"ticks\":\"\"},\"colorscale\":[[0.0,\"#0d0887\"],[0.1111111111111111,\"#46039f\"],[0.2222222222222222,\"#7201a8\"],[0.3333333333333333,\"#9c179e\"],[0.4444444444444444,\"#bd3786\"],[0.5555555555555556,\"#d8576b\"],[0.6666666666666666,\"#ed7953\"],[0.7777777777777778,\"#fb9f3a\"],[0.8888888888888888,\"#fdca26\"],[1.0,\"#f0f921\"]]}],\"mesh3d\":[{\"type\":\"mesh3d\",\"colorbar\":{\"outlinewidth\":0,\"ticks\":\"\"}}],\"scatter\":[{\"fillpattern\":{\"fillmode\":\"overlay\",\"size\":10,\"solidity\":0.2},\"type\":\"scatter\"}],\"parcoords\":[{\"type\":\"parcoords\",\"line\":{\"colorbar\":{\"outlinewidth\":0,\"ticks\":\"\"}}}],\"scatterpolargl\":[{\"type\":\"scatterpolargl\",\"marker\":{\"colorbar\":{\"outlinewidth\":0,\"ticks\":\"\"}}}],\"bar\":[{\"error_x\":{\"color\":\"#2a3f5f\"},\"error_y\":{\"color\":\"#2a3f5f\"},\"marker\":{\"line\":{\"color\":\"#E5ECF6\",\"width\":0.5},\"pattern\":{\"fillmode\":\"overlay\",\"size\":10,\"solidity\":0.2}},\"type\":\"bar\"}],\"scattergeo\":[{\"type\":\"scattergeo\",\"marker\":{\"colorbar\":{\"outlinewidth\":0,\"ticks\":\"\"}}}],\"scatterpolar\":[{\"type\":\"scatterpolar\",\"marker\":{\"colorbar\":{\"outlinewidth\":0,\"ticks\":\"\"}}}],\"histogram\":[{\"marker\":{\"pattern\":{\"fillmode\":\"overlay\",\"size\":10,\"solidity\":0.2}},\"type\":\"histogram\"}],\"scattergl\":[{\"type\":\"scattergl\",\"marker\":{\"colorbar\":{\"outlinewidth\":0,\"ticks\":\"\"}}}],\"scatter3d\":[{\"type\":\"scatter3d\",\"line\":{\"colorbar\":{\"outlinewidth\":0,\"ticks\":\"\"}},\"marker\":{\"colorbar\":{\"outlinewidth\":0,\"ticks\":\"\"}}}],\"scattermapbox\":[{\"type\":\"scattermapbox\",\"marker\":{\"colorbar\":{\"outlinewidth\":0,\"ticks\":\"\"}}}],\"scatterternary\":[{\"type\":\"scatterternary\",\"marker\":{\"colorbar\":{\"outlinewidth\":0,\"ticks\":\"\"}}}],\"scattercarpet\":[{\"type\":\"scattercarpet\",\"marker\":{\"colorbar\":{\"outlinewidth\":0,\"ticks\":\"\"}}}],\"carpet\":[{\"aaxis\":{\"endlinecolor\":\"#2a3f5f\",\"gridcolor\":\"white\",\"linecolor\":\"white\",\"minorgridcolor\":\"white\",\"startlinecolor\":\"#2a3f5f\"},\"baxis\":{\"endlinecolor\":\"#2a3f5f\",\"gridcolor\":\"white\",\"linecolor\":\"white\",\"minorgridcolor\":\"white\",\"startlinecolor\":\"#2a3f5f\"},\"type\":\"carpet\"}],\"table\":[{\"cells\":{\"fill\":{\"color\":\"#EBF0F8\"},\"line\":{\"color\":\"white\"}},\"header\":{\"fill\":{\"color\":\"#C8D4E3\"},\"line\":{\"color\":\"white\"}},\"type\":\"table\"}],\"barpolar\":[{\"marker\":{\"line\":{\"color\":\"#E5ECF6\",\"width\":0.5},\"pattern\":{\"fillmode\":\"overlay\",\"size\":10,\"solidity\":0.2}},\"type\":\"barpolar\"}],\"pie\":[{\"automargin\":true,\"type\":\"pie\"}]},\"layout\":{\"autotypenumbers\":\"strict\",\"colorway\":[\"#636efa\",\"#EF553B\",\"#00cc96\",\"#ab63fa\",\"#FFA15A\",\"#19d3f3\",\"#FF6692\",\"#B6E880\",\"#FF97FF\",\"#FECB52\"],\"font\":{\"color\":\"#2a3f5f\"},\"hovermode\":\"closest\",\"hoverlabel\":{\"align\":\"left\"},\"paper_bgcolor\":\"white\",\"plot_bgcolor\":\"#E5ECF6\",\"polar\":{\"bgcolor\":\"#E5ECF6\",\"angularaxis\":{\"gridcolor\":\"white\",\"linecolor\":\"white\",\"ticks\":\"\"},\"radialaxis\":{\"gridcolor\":\"white\",\"linecolor\":\"white\",\"ticks\":\"\"}},\"ternary\":{\"bgcolor\":\"#E5ECF6\",\"aaxis\":{\"gridcolor\":\"white\",\"linecolor\":\"white\",\"ticks\":\"\"},\"baxis\":{\"gridcolor\":\"white\",\"linecolor\":\"white\",\"ticks\":\"\"},\"caxis\":{\"gridcolor\":\"white\",\"linecolor\":\"white\",\"ticks\":\"\"}},\"coloraxis\":{\"colorbar\":{\"outlinewidth\":0,\"ticks\":\"\"}},\"colorscale\":{\"sequential\":[[0.0,\"#0d0887\"],[0.1111111111111111,\"#46039f\"],[0.2222222222222222,\"#7201a8\"],[0.3333333333333333,\"#9c179e\"],[0.4444444444444444,\"#bd3786\"],[0.5555555555555556,\"#d8576b\"],[0.6666666666666666,\"#ed7953\"],[0.7777777777777778,\"#fb9f3a\"],[0.8888888888888888,\"#fdca26\"],[1.0,\"#f0f921\"]],\"sequentialminus\":[[0.0,\"#0d0887\"],[0.1111111111111111,\"#46039f\"],[0.2222222222222222,\"#7201a8\"],[0.3333333333333333,\"#9c179e\"],[0.4444444444444444,\"#bd3786\"],[0.5555555555555556,\"#d8576b\"],[0.6666666666666666,\"#ed7953\"],[0.7777777777777778,\"#fb9f3a\"],[0.8888888888888888,\"#fdca26\"],[1.0,\"#f0f921\"]],\"diverging\":[[0,\"#8e0152\"],[0.1,\"#c51b7d\"],[0.2,\"#de77ae\"],[0.3,\"#f1b6da\"],[0.4,\"#fde0ef\"],[0.5,\"#f7f7f7\"],[0.6,\"#e6f5d0\"],[0.7,\"#b8e186\"],[0.8,\"#7fbc41\"],[0.9,\"#4d9221\"],[1,\"#276419\"]]},\"xaxis\":{\"gridcolor\":\"white\",\"linecolor\":\"white\",\"ticks\":\"\",\"title\":{\"standoff\":15},\"zerolinecolor\":\"white\",\"automargin\":true,\"zerolinewidth\":2},\"yaxis\":{\"gridcolor\":\"white\",\"linecolor\":\"white\",\"ticks\":\"\",\"title\":{\"standoff\":15},\"zerolinecolor\":\"white\",\"automargin\":true,\"zerolinewidth\":2},\"scene\":{\"xaxis\":{\"backgroundcolor\":\"#E5ECF6\",\"gridcolor\":\"white\",\"linecolor\":\"white\",\"showbackground\":true,\"ticks\":\"\",\"zerolinecolor\":\"white\",\"gridwidth\":2},\"yaxis\":{\"backgroundcolor\":\"#E5ECF6\",\"gridcolor\":\"white\",\"linecolor\":\"white\",\"showbackground\":true,\"ticks\":\"\",\"zerolinecolor\":\"white\",\"gridwidth\":2},\"zaxis\":{\"backgroundcolor\":\"#E5ECF6\",\"gridcolor\":\"white\",\"linecolor\":\"white\",\"showbackground\":true,\"ticks\":\"\",\"zerolinecolor\":\"white\",\"gridwidth\":2}},\"shapedefaults\":{\"line\":{\"color\":\"#2a3f5f\"}},\"annotationdefaults\":{\"arrowcolor\":\"#2a3f5f\",\"arrowhead\":0,\"arrowwidth\":1},\"geo\":{\"bgcolor\":\"white\",\"landcolor\":\"#E5ECF6\",\"subunitcolor\":\"white\",\"showland\":true,\"showlakes\":true,\"lakecolor\":\"white\"},\"title\":{\"x\":0.05},\"mapbox\":{\"style\":\"light\"}}}},                        {\"responsive\": true}                    ).then(function(){\n",
              "                            \n",
              "var gd = document.getElementById('72e14ce5-e480-4dec-bd74-acbc07ab5b16');\n",
              "var x = new MutationObserver(function (mutations, observer) {{\n",
              "        var display = window.getComputedStyle(gd).display;\n",
              "        if (!display || display === 'none') {{\n",
              "            console.log([gd, 'removed!']);\n",
              "            Plotly.purge(gd);\n",
              "            observer.disconnect();\n",
              "        }}\n",
              "}});\n",
              "\n",
              "// Listen for the removal of the full notebook cells\n",
              "var notebookContainer = gd.closest('#notebook-container');\n",
              "if (notebookContainer) {{\n",
              "    x.observe(notebookContainer, {childList: true});\n",
              "}}\n",
              "\n",
              "// Listen for the clearing of the current output cell\n",
              "var outputEl = gd.closest('.output');\n",
              "if (outputEl) {{\n",
              "    x.observe(outputEl, {childList: true});\n",
              "}}\n",
              "\n",
              "                        })                };                            </script>        </div>\n",
              "</body>\n",
              "</html>"
            ]
          },
          "metadata": {}
        }
      ]
    },
    {
      "cell_type": "code",
      "source": [
        "#Plotando o gráfico\n",
        "graph = df2.plot(figsize=(10, 5), title=\"Consumo de energia\")"
      ],
      "metadata": {
        "id": "1uj4P6xPkTOE",
        "colab": {
          "base_uri": "https://localhost:8080/",
          "height": 468
        },
        "outputId": "e079d332-c30f-4b7b-9826-7d8cfce68927"
      },
      "id": "1uj4P6xPkTOE",
      "execution_count": 50,
      "outputs": [
        {
          "output_type": "display_data",
          "data": {
            "text/plain": [
              "<Figure size 1000x500 with 1 Axes>"
            ],
            "image/png": "[encoded data removed]"
          },
          "metadata": {}
        }
      ]
    },
    {
      "cell_type": "code",
      "source": [
        "import plotly.graph_objs as go\n",
        "from plotly.subplots import make_subplots\n",
        "\n",
        "def plot_predictions(model, X_test, y_test):\n",
        "    y_pred = model.predict(X_test)\n",
        "    y_pred = y_pred.reshape(y_pred.shape[0],)\n",
        "    fig = make_subplots(rows=1, cols=1)\n",
        "    fig.add_trace(go.Scatter(x=list(range(len(y_test))), y=y_test, name='Actual', mode='lines'))\n",
        "    fig.add_trace(go.Scatter(x=list(range(len(y_pred))), y=y_pred, name='Predicted', mode='lines'))\n",
        "    fig.update_layout(title='Actual vs. Predicted', xaxis_title='Time', yaxis_title='Consumption')\n",
        "    fig.show()\n"
      ],
      "metadata": {
        "id": "gX9nXvdnkTfu"
      },
      "id": "gX9nXvdnkTfu",
      "execution_count": 51,
      "outputs": []
    },
    {
      "cell_type": "code",
      "source": [
        "plot_predictions(model, X_test, y_test)\n"
      ],
      "metadata": {
        "id": "fyn_d32MkTum",
        "colab": {
          "base_uri": "https://localhost:8080/",
          "height": 561
        },
        "outputId": "07051c78-09d9-4c8e-c03f-e768482e966d"
      },
      "id": "fyn_d32MkTum",
      "execution_count": 52,
      "outputs": [
        {
          "output_type": "stream",
          "name": "stdout",
          "text": [
            "1/1 [==============================] - 0s 49ms/step\n"
          ]
        },
        {
          "output_type": "display_data",
          "data": {
            "text/html": [
              "<html>\n",
              "<head><meta charset=\"utf-8\" /></head>\n",
              "<body>\n",
              "    <div>            <script src=\"https://cdnjs.cloudflare.com/ajax/libs/mathjax/2.7.5/MathJax.js?config=TeX-AMS-MML_SVG\"></script><script type=\"text/javascript\">if (window.MathJax && window.MathJax.Hub && window.MathJax.Hub.Config) {window.MathJax.Hub.Config({SVG: {font: \"STIX-Web\"}});}</script>                <script type=\"text/javascript\">window.PlotlyConfig = {MathJaxConfig: 'local'};</script>\n",
              "        <script src=\"https://cdn.plot.ly/plotly-2.18.2.min.js\"></script>                <div id=\"5cfde569-b3f5-4986-bb81-e89a557fc12a\" class=\"plotly-graph-div\" style=\"height:525px; width:100%;\"></div>            <script type=\"text/javascript\">                                    window.PLOTLYENV=window.PLOTLYENV || {};                                    if (document.getElementById(\"5cfde569-b3f5-4986-bb81-e89a557fc12a\")) {                    Plotly.newPlot(                        \"5cfde569-b3f5-4986-bb81-e89a557fc12a\",                        [{\"mode\":\"lines\",\"name\":\"Actual\",\"x\":[0,1,2,3,4,5],\"y\":[1.0145255831835338,0.4990592224592589,0.8903302553845852,0.9318681806878923,0.7359162636878734,0.10070807490298012],\"type\":\"scatter\"},{\"mode\":\"lines\",\"name\":\"Predicted\",\"x\":[0,1,2,3,4,5],\"y\":[0.8988702297210693,0.7834528088569641,0.6812585592269897,0.5378159284591675,0.514054536819458,0.5519121289253235],\"type\":\"scatter\"}],                        {\"template\":{\"data\":{\"histogram2dcontour\":[{\"type\":\"histogram2dcontour\",\"colorbar\":{\"outlinewidth\":0,\"ticks\":\"\"},\"colorscale\":[[0.0,\"#0d0887\"],[0.1111111111111111,\"#46039f\"],[0.2222222222222222,\"#7201a8\"],[0.3333333333333333,\"#9c179e\"],[0.4444444444444444,\"#bd3786\"],[0.5555555555555556,\"#d8576b\"],[0.6666666666666666,\"#ed7953\"],[0.7777777777777778,\"#fb9f3a\"],[0.8888888888888888,\"#fdca26\"],[1.0,\"#f0f921\"]]}],\"choropleth\":[{\"type\":\"choropleth\",\"colorbar\":{\"outlinewidth\":0,\"ticks\":\"\"}}],\"histogram2d\":[{\"type\":\"histogram2d\",\"colorbar\":{\"outlinewidth\":0,\"ticks\":\"\"},\"colorscale\":[[0.0,\"#0d0887\"],[0.1111111111111111,\"#46039f\"],[0.2222222222222222,\"#7201a8\"],[0.3333333333333333,\"#9c179e\"],[0.4444444444444444,\"#bd3786\"],[0.5555555555555556,\"#d8576b\"],[0.6666666666666666,\"#ed7953\"],[0.7777777777777778,\"#fb9f3a\"],[0.8888888888888888,\"#fdca26\"],[1.0,\"#f0f921\"]]}],\"heatmap\":[{\"type\":\"heatmap\",\"colorbar\":{\"outlinewidth\":0,\"ticks\":\"\"},\"colorscale\":[[0.0,\"#0d0887\"],[0.1111111111111111,\"#46039f\"],[0.2222222222222222,\"#7201a8\"],[0.3333333333333333,\"#9c179e\"],[0.4444444444444444,\"#bd3786\"],[0.5555555555555556,\"#d8576b\"],[0.6666666666666666,\"#ed7953\"],[0.7777777777777778,\"#fb9f3a\"],[0.8888888888888888,\"#fdca26\"],[1.0,\"#f0f921\"]]}],\"heatmapgl\":[{\"type\":\"heatmapgl\",\"colorbar\":{\"outlinewidth\":0,\"ticks\":\"\"},\"colorscale\":[[0.0,\"#0d0887\"],[0.1111111111111111,\"#46039f\"],[0.2222222222222222,\"#7201a8\"],[0.3333333333333333,\"#9c179e\"],[0.4444444444444444,\"#bd3786\"],[0.5555555555555556,\"#d8576b\"],[0.6666666666666666,\"#ed7953\"],[0.7777777777777778,\"#fb9f3a\"],[0.8888888888888888,\"#fdca26\"],[1.0,\"#f0f921\"]]}],\"contourcarpet\":[{\"type\":\"contourcarpet\",\"colorbar\":{\"outlinewidth\":0,\"ticks\":\"\"}}],\"contour\":[{\"type\":\"contour\",\"colorbar\":{\"outlinewidth\":0,\"ticks\":\"\"},\"colorscale\":[[0.0,\"#0d0887\"],[0.1111111111111111,\"#46039f\"],[0.2222222222222222,\"#7201a8\"],[0.3333333333333333,\"#9c179e\"],[0.4444444444444444,\"#bd3786\"],[0.5555555555555556,\"#d8576b\"],[0.6666666666666666,\"#ed7953\"],[0.7777777777777778,\"#fb9f3a\"],[0.8888888888888888,\"#fdca26\"],[1.0,\"#f0f921\"]]}],\"surface\":[{\"type\":\"surface\",\"colorbar\":{\"outlinewidth\":0,\"ticks\":\"\"},\"colorscale\":[[0.0,\"#0d0887\"],[0.1111111111111111,\"#46039f\"],[0.2222222222222222,\"#7201a8\"],[0.3333333333333333,\"#9c179e\"],[0.4444444444444444,\"#bd3786\"],[0.5555555555555556,\"#d8576b\"],[0.6666666666666666,\"#ed7953\"],[0.7777777777777778,\"#fb9f3a\"],[0.8888888888888888,\"#fdca26\"],[1.0,\"#f0f921\"]]}],\"mesh3d\":[{\"type\":\"mesh3d\",\"colorbar\":{\"outlinewidth\":0,\"ticks\":\"\"}}],\"scatter\":[{\"fillpattern\":{\"fillmode\":\"overlay\",\"size\":10,\"solidity\":0.2},\"type\":\"scatter\"}],\"parcoords\":[{\"type\":\"parcoords\",\"line\":{\"colorbar\":{\"outlinewidth\":0,\"ticks\":\"\"}}}],\"scatterpolargl\":[{\"type\":\"scatterpolargl\",\"marker\":{\"colorbar\":{\"outlinewidth\":0,\"ticks\":\"\"}}}],\"bar\":[{\"error_x\":{\"color\":\"#2a3f5f\"},\"error_y\":{\"color\":\"#2a3f5f\"},\"marker\":{\"line\":{\"color\":\"#E5ECF6\",\"width\":0.5},\"pattern\":{\"fillmode\":\"overlay\",\"size\":10,\"solidity\":0.2}},\"type\":\"bar\"}],\"scattergeo\":[{\"type\":\"scattergeo\",\"marker\":{\"colorbar\":{\"outlinewidth\":0,\"ticks\":\"\"}}}],\"scatterpolar\":[{\"type\":\"scatterpolar\",\"marker\":{\"colorbar\":{\"outlinewidth\":0,\"ticks\":\"\"}}}],\"histogram\":[{\"marker\":{\"pattern\":{\"fillmode\":\"overlay\",\"size\":10,\"solidity\":0.2}},\"type\":\"histogram\"}],\"scattergl\":[{\"type\":\"scattergl\",\"marker\":{\"colorbar\":{\"outlinewidth\":0,\"ticks\":\"\"}}}],\"scatter3d\":[{\"type\":\"scatter3d\",\"line\":{\"colorbar\":{\"outlinewidth\":0,\"ticks\":\"\"}},\"marker\":{\"colorbar\":{\"outlinewidth\":0,\"ticks\":\"\"}}}],\"scattermapbox\":[{\"type\":\"scattermapbox\",\"marker\":{\"colorbar\":{\"outlinewidth\":0,\"ticks\":\"\"}}}],\"scatterternary\":[{\"type\":\"scatterternary\",\"marker\":{\"colorbar\":{\"outlinewidth\":0,\"ticks\":\"\"}}}],\"scattercarpet\":[{\"type\":\"scattercarpet\",\"marker\":{\"colorbar\":{\"outlinewidth\":0,\"ticks\":\"\"}}}],\"carpet\":[{\"aaxis\":{\"endlinecolor\":\"#2a3f5f\",\"gridcolor\":\"white\",\"linecolor\":\"white\",\"minorgridcolor\":\"white\",\"startlinecolor\":\"#2a3f5f\"},\"baxis\":{\"endlinecolor\":\"#2a3f5f\",\"gridcolor\":\"white\",\"linecolor\":\"white\",\"minorgridcolor\":\"white\",\"startlinecolor\":\"#2a3f5f\"},\"type\":\"carpet\"}],\"table\":[{\"cells\":{\"fill\":{\"color\":\"#EBF0F8\"},\"line\":{\"color\":\"white\"}},\"header\":{\"fill\":{\"color\":\"#C8D4E3\"},\"line\":{\"color\":\"white\"}},\"type\":\"table\"}],\"barpolar\":[{\"marker\":{\"line\":{\"color\":\"#E5ECF6\",\"width\":0.5},\"pattern\":{\"fillmode\":\"overlay\",\"size\":10,\"solidity\":0.2}},\"type\":\"barpolar\"}],\"pie\":[{\"automargin\":true,\"type\":\"pie\"}]},\"layout\":{\"autotypenumbers\":\"strict\",\"colorway\":[\"#636efa\",\"#EF553B\",\"#00cc96\",\"#ab63fa\",\"#FFA15A\",\"#19d3f3\",\"#FF6692\",\"#B6E880\",\"#FF97FF\",\"#FECB52\"],\"font\":{\"color\":\"#2a3f5f\"},\"hovermode\":\"closest\",\"hoverlabel\":{\"align\":\"left\"},\"paper_bgcolor\":\"white\",\"plot_bgcolor\":\"#E5ECF6\",\"polar\":{\"bgcolor\":\"#E5ECF6\",\"angularaxis\":{\"gridcolor\":\"white\",\"linecolor\":\"white\",\"ticks\":\"\"},\"radialaxis\":{\"gridcolor\":\"white\",\"linecolor\":\"white\",\"ticks\":\"\"}},\"ternary\":{\"bgcolor\":\"#E5ECF6\",\"aaxis\":{\"gridcolor\":\"white\",\"linecolor\":\"white\",\"ticks\":\"\"},\"baxis\":{\"gridcolor\":\"white\",\"linecolor\":\"white\",\"ticks\":\"\"},\"caxis\":{\"gridcolor\":\"white\",\"linecolor\":\"white\",\"ticks\":\"\"}},\"coloraxis\":{\"colorbar\":{\"outlinewidth\":0,\"ticks\":\"\"}},\"colorscale\":{\"sequential\":[[0.0,\"#0d0887\"],[0.1111111111111111,\"#46039f\"],[0.2222222222222222,\"#7201a8\"],[0.3333333333333333,\"#9c179e\"],[0.4444444444444444,\"#bd3786\"],[0.5555555555555556,\"#d8576b\"],[0.6666666666666666,\"#ed7953\"],[0.7777777777777778,\"#fb9f3a\"],[0.8888888888888888,\"#fdca26\"],[1.0,\"#f0f921\"]],\"sequentialminus\":[[0.0,\"#0d0887\"],[0.1111111111111111,\"#46039f\"],[0.2222222222222222,\"#7201a8\"],[0.3333333333333333,\"#9c179e\"],[0.4444444444444444,\"#bd3786\"],[0.5555555555555556,\"#d8576b\"],[0.6666666666666666,\"#ed7953\"],[0.7777777777777778,\"#fb9f3a\"],[0.8888888888888888,\"#fdca26\"],[1.0,\"#f0f921\"]],\"diverging\":[[0,\"#8e0152\"],[0.1,\"#c51b7d\"],[0.2,\"#de77ae\"],[0.3,\"#f1b6da\"],[0.4,\"#fde0ef\"],[0.5,\"#f7f7f7\"],[0.6,\"#e6f5d0\"],[0.7,\"#b8e186\"],[0.8,\"#7fbc41\"],[0.9,\"#4d9221\"],[1,\"#276419\"]]},\"xaxis\":{\"gridcolor\":\"white\",\"linecolor\":\"white\",\"ticks\":\"\",\"title\":{\"standoff\":15},\"zerolinecolor\":\"white\",\"automargin\":true,\"zerolinewidth\":2},\"yaxis\":{\"gridcolor\":\"white\",\"linecolor\":\"white\",\"ticks\":\"\",\"title\":{\"standoff\":15},\"zerolinecolor\":\"white\",\"automargin\":true,\"zerolinewidth\":2},\"scene\":{\"xaxis\":{\"backgroundcolor\":\"#E5ECF6\",\"gridcolor\":\"white\",\"linecolor\":\"white\",\"showbackground\":true,\"ticks\":\"\",\"zerolinecolor\":\"white\",\"gridwidth\":2},\"yaxis\":{\"backgroundcolor\":\"#E5ECF6\",\"gridcolor\":\"white\",\"linecolor\":\"white\",\"showbackground\":true,\"ticks\":\"\",\"zerolinecolor\":\"white\",\"gridwidth\":2},\"zaxis\":{\"backgroundcolor\":\"#E5ECF6\",\"gridcolor\":\"white\",\"linecolor\":\"white\",\"showbackground\":true,\"ticks\":\"\",\"zerolinecolor\":\"white\",\"gridwidth\":2}},\"shapedefaults\":{\"line\":{\"color\":\"#2a3f5f\"}},\"annotationdefaults\":{\"arrowcolor\":\"#2a3f5f\",\"arrowhead\":0,\"arrowwidth\":1},\"geo\":{\"bgcolor\":\"white\",\"landcolor\":\"#E5ECF6\",\"subunitcolor\":\"white\",\"showland\":true,\"showlakes\":true,\"lakecolor\":\"white\"},\"title\":{\"x\":0.05},\"mapbox\":{\"style\":\"light\"}}},\"xaxis\":{\"anchor\":\"y\",\"domain\":[0.0,1.0],\"title\":{\"text\":\"Time\"}},\"yaxis\":{\"anchor\":\"x\",\"domain\":[0.0,1.0],\"title\":{\"text\":\"Consumption\"}},\"title\":{\"text\":\"Actual vs. Predicted\"}},                        {\"responsive\": true}                    ).then(function(){\n",
              "                            \n",
              "var gd = document.getElementById('5cfde569-b3f5-4986-bb81-e89a557fc12a');\n",
              "var x = new MutationObserver(function (mutations, observer) {{\n",
              "        var display = window.getComputedStyle(gd).display;\n",
              "        if (!display || display === 'none') {{\n",
              "            console.log([gd, 'removed!']);\n",
              "            Plotly.purge(gd);\n",
              "            observer.disconnect();\n",
              "        }}\n",
              "}});\n",
              "\n",
              "// Listen for the removal of the full notebook cells\n",
              "var notebookContainer = gd.closest('#notebook-container');\n",
              "if (notebookContainer) {{\n",
              "    x.observe(notebookContainer, {childList: true});\n",
              "}}\n",
              "\n",
              "// Listen for the clearing of the current output cell\n",
              "var outputEl = gd.closest('.output');\n",
              "if (outputEl) {{\n",
              "    x.observe(outputEl, {childList: true});\n",
              "}}\n",
              "\n",
              "                        })                };                            </script>        </div>\n",
              "</body>\n",
              "</html>"
            ]
          },
          "metadata": {}
        }
      ]
    },
    {
      "cell_type": "markdown",
      "source": [
        "Os valores preditos  são as estimativas do consumo de energia elétrica para o período de teste (ou seja, os próximos 6 meses) com base nos dados históricos fornecidos ao modelo. Esses valores representam a saída (ou \"y_pred\") do modelo treinado."
      ],
      "metadata": {
        "id": "__I4Cqx3WETD"
      },
      "id": "__I4Cqx3WETD"
    },
    {
      "cell_type": "code",
      "source": [
        "y_pred = model.predict(X_test).flatten()\n",
        "print(y_pred)\n"
      ],
      "metadata": {
        "id": "u5KQhw19Tq25",
        "colab": {
          "base_uri": "https://localhost:8080/"
        },
        "outputId": "d13b527b-1a90-48c5-e1cb-0e3760f3d245"
      },
      "id": "u5KQhw19Tq25",
      "execution_count": 53,
      "outputs": [
        {
          "output_type": "stream",
          "name": "stdout",
          "text": [
            "1/1 [==============================] - 0s 56ms/step\n",
            "[0.8988702  0.7834528  0.68125856 0.5378159  0.51405454 0.5519121 ]\n"
          ]
        }
      ]
    },
    {
      "cell_type": "markdown",
      "source": [
        "Os valores de MAE (Mean Absolute Error) e MSE (Mean Squared Error) são medidas de desempenho do modelo em relação aos dados de teste. O MAE é a média da diferença absoluta entre as previsões e os valores reais, enquanto o MSE é a média dos quadrados das diferenças entre as previsões e os valores reais. Essas métricas permitem avaliar o quão bem o modelo está ajustando aos dados e quanto erro ele está cometendo em relação aos valores reais. No seu caso, o modelo parece ter um bom desempenho, já que o valor de MAE é relativamente baixo (0.23) e o valor de MSE também é baixo (0.11)."
      ],
      "metadata": {
        "id": "H2tkpNrKWJ-Y"
      },
      "id": "H2tkpNrKWJ-Y"
    },
    {
      "cell_type": "code",
      "source": [
        "from sklearn.metrics import mean_absolute_error, mean_squared_error\n",
        "\n",
        "mae = mean_absolute_error(y_test, y_pred)\n",
        "mse = mean_squared_error(y_test, y_pred)\n",
        "\n",
        "print('MAE:', mae)\n",
        "print('MSE:', mse)\n"
      ],
      "metadata": {
        "id": "k0hIeOISVQMR",
        "colab": {
          "base_uri": "https://localhost:8080/"
        },
        "outputId": "5acfbece-7ed1-4381-e1ff-b4a7c033edd6"
      },
      "id": "k0hIeOISVQMR",
      "execution_count": 54,
      "outputs": [
        {
          "output_type": "stream",
          "name": "stdout",
          "text": [
            "MAE: 0.27937311152287486\n",
            "MSE: 0.09100862476744238\n"
          ]
        }
      ]
    },
    {
      "cell_type": "code",
      "source": [],
      "metadata": {
        "id": "HV7QgjiOVQTf"
      },
      "id": "HV7QgjiOVQTf",
      "execution_count": 30,
      "outputs": []
    }
  ],
  "metadata": {
    "kernelspec": {
      "display_name": "Python 3 (ipykernel)",
      "language": "python",
      "name": "python3"
    },
    "language_info": {
      "codemirror_mode": {
        "name": "ipython",
        "version": 3
      },
      "file_extension": ".py",
      "mimetype": "text/x-python",
      "name": "python",
      "nbconvert_exporter": "python",
      "pygments_lexer": "ipython3",
      "version": "3.7.6"
    },
    "colab": {
      "provenance": [],
      "collapsed_sections": [
        "is6KYfzdaNMs",
        "LKKRoMoNaNHZ",
        "MGQiVZdSvBjt",
        "9U-N9sidW8x7"
      ]
    }
  },
  "nbformat": 4,
  "nbformat_minor": 5
}