{
 "cells": [
  {
   "cell_type": "code",
   "execution_count": null,
   "id": "2d4e6594",
   "metadata": {},
   "outputs": [],
   "source": [
    "#Processo Seletivo 2023.1 UFRJ Analytica\n",
    "#Gustavo Felicidade"
   ]
  },
  {
   "cell_type": "code",
   "execution_count": null,
   "id": "cf7e5e60",
   "metadata": {},
   "outputs": [],
   "source": [
    "#O consumo de Energia elétrica no Rio de Janeiro"
   ]
  },
  {
   "cell_type": "code",
   "execution_count": null,
   "id": "202cff24",
   "metadata": {},
   "outputs": [],
   "source": [
    "\n",
    "# O consumo de energia elétrica é um tema relevante para entendermos\n",
    "# a infraestrutura e as necessidades energéticas do Rio de Janeiro.\n",
    "# Com a crescente demanda por energia elétrica nas últimas décadas,\n",
    "# é importante analisarmos como esse consumo evoluiu ao longo do tempo.\n",
    "# A partir dos dados disponibilizados pela Base dos Dados, é possível\n",
    "# realizar uma análise exploratória que permita compreender o consumo\n",
    "# de energia elétrica na cidade do Rio de Janeiro.\n"
   ]
  },
  {
   "cell_type": "code",
   "execution_count": null,
   "id": "c657f09c",
   "metadata": {},
   "outputs": [],
   "source": [
    "# Importando as bibliotecas "
   ]
  },
  {
   "cell_type": "code",
   "execution_count": 4,
   "id": "81945539",
   "metadata": {},
   "outputs": [],
   "source": [
    "import os\n",
    "import csv\n",
    "import pandas as pd\n",
    "import logging\n",
    "import time\n",
    "import matplotlib\n",
    "import matplotlib.pyplot as plt\n",
    "import plotly.graph_objs as go\n",
    "import plotly.io as pio\n",
    "from plotly.subplots import make_subplots\n"
   ]
  },
  {
   "cell_type": "code",
   "execution_count": null,
   "id": "599ca7b1",
   "metadata": {},
   "outputs": [],
   "source": [
    "# Configurando Log"
   ]
  },
  {
   "cell_type": "code",
   "execution_count": 2,
   "id": "f97abac1",
   "metadata": {},
   "outputs": [],
   "source": [
    "\n",
    "logging.basicConfig(level=logging.INFO)\n",
    "logger = logging.getLogger(__name__)"
   ]
  },
  {
   "cell_type": "code",
   "execution_count": null,
   "id": "20d0cd51",
   "metadata": {},
   "outputs": [],
   "source": [
    "# Dataset"
   ]
  },
  {
   "cell_type": "code",
   "execution_count": 2,
   "id": "9c1f1605",
   "metadata": {},
   "outputs": [],
   "source": [
    "# Nossos dados foram extraídos do datario.com\n",
    "\n",
    "# Os seguintes arquivos .csv são filtrados pela chave 'Elétrica' \n",
    "# no contexto do Município do Rio de Janeiro:\n",
    "    \n",
    "#     1 Tabela 1686 - Consumo total mensal de energia elétrica, segundo classe de serviço - Município do Rio de Janeiro - 2019\n",
    "#     url = https://www.data.rio/documents/7c4d6a17d1c94ccf8c652488318d691b/about\n",
    "#\n",
    "#     2 Tabela 1687 - Total mensal de unidades consumidoras de energia elétrica, por classe de consumo, no Município do Rio de Janeiro em 2019\n",
    "#     url = https://www.data.rio/documents/c89710cd395b495a999ac84399fcc884/about\n",
    "#\n",
    "#     3\n",
    "#     4\n",
    "#     5\n",
    "#     6\n",
    "#     7\n",
    "#     8"
   ]
  },
  {
   "cell_type": "code",
   "execution_count": null,
   "id": "d7404855",
   "metadata": {},
   "outputs": [],
   "source": [
    "# 1"
   ]
  },
  {
   "cell_type": "code",
   "execution_count": null,
   "id": "99d429e3",
   "metadata": {},
   "outputs": [],
   "source": [
    "# Ler a página \"2002\" do arquivo\n",
    "# Tabela 1686 - Consumo total mensal de energia elétrica, segundo classe de serviço - Município do Rio de Janeiro - 2019\n",
    "df1 = pd.read_excel(\n",
    "    r\"D:\\Arquivos HD\\Documentos HD\\biblioteca\\Matematica\\UFRJ Analytica\\Processo Seletivo 2023.1\\Originals\\1686.xls\",\n",
    "    sheet_name=\"2002\", header=6, skiprows=2, nrows=12)\n",
    "\n",
    "# Ler a página \"T 2257\" do arquivo\n",
    "# \"Tabela 2257 - Consumo total, médio anual, mensal e diário\n",
    "# de energia elétrica por habitante no Município do Rio de Janeiro\n",
    "# entre  1980-2019\"\n",
    "df2 = pd.read_excel(\n",
    "    r\"D:\\Arquivos HD\\Documentos HD\\biblioteca\\Matematica\\UFRJ Analytica\\Processo Seletivo 2023.1\\Originals\\2257.xls\",\n",
    "        sheet_name=\"T 2257\", header=6, skiprows=1, nrows=40)\n",
    "\n",
    "# Imprimir os DataFrames\n",
    "# print(\"Tabela 2257 - Consumo total, médio anual, mensal e diário \\n de energia elétrica por habitante no Município do Rio de Janeiro entre  1980-2019\")\n",
    "# print(df2)\n"
   ]
  },
  {
   "cell_type": "code",
   "execution_count": 3,
   "id": "dbb98895",
   "metadata": {},
   "outputs": [],
   "source": [
    "def collect_dataframes(file_path):\n",
    "    # criar uma lista vazia para armazenar os dataframes de cada ano\n",
    "    df_list = []\n",
    "    # percorrer os anos de 2002 a 2019\n",
    "    for year in range(2002, 2020):\n",
    "        # criar o nome da sheet com base no ano\n",
    "        sheet_name = str(year)\n",
    "        # ler o dataframe da sheet especificada\n",
    "        df = pd.read_excel(file_path, sheet_name=sheet_name, header=6, skiprows=2, nrows=12)\n",
    "        # adicionar o dataframe à lista\n",
    "        df_list.append(df)\n",
    "    # retornar a lista de dataframes\n",
    "    return df_list\n"
   ]
  },
  {
   "cell_type": "code",
   "execution_count": null,
   "id": "a8f435de",
   "metadata": {},
   "outputs": [],
   "source": [
    "file_path = r\"D:\\Arquivos HD\\Documentos HD\\biblioteca\\Matematica\\UFRJ Analytica\\Processo Seletivo 2023.1\\Originals\\1686.xls\"\n",
    "df_list = collect_dataframes(file_path)\n",
    "# print(df_list)\n",
    "df_2002 = df_list[0]\n"
   ]
  },
  {
   "cell_type": "code",
   "execution_count": 4,
   "id": "a4f2efc4",
   "metadata": {},
   "outputs": [],
   "source": [
    "# logger.info(f\"df_list: {df_list}\")\n",
    "# #\n",
    "# logger.info(f\"df_2002: {df_2002}\")\n",
    "#"
   ]
  },
  {
   "cell_type": "code",
   "execution_count": null,
   "id": "f9ce4fac",
   "metadata": {},
   "outputs": [],
   "source": [
    "# def print_second_column(df_list):\n",
    "#     # percorrer cada dataframe na lista\n",
    "#     for df in df_list:\n",
    "#         # selecionar a segunda coluna e imprimir\n",
    "#         print(df.iloc[:, ])"
   ]
  },
  {
   "cell_type": "code",
   "execution_count": 5,
   "id": "688957f7",
   "metadata": {},
   "outputs": [
    {
     "name": "stderr",
     "output_type": "stream",
     "text": [
      "INFO:__main__:Finished Step 1: xls_to_txt\n"
     ]
    }
   ],
   "source": [
    "# print_second_column(df_list)\n"
   ]
  },
  {
   "cell_type": "code",
   "execution_count": 7,
   "id": "e227bb09",
   "metadata": {},
   "outputs": [],
   "source": [
    "# Tabela 1686\n",
    "# Coluna Residência -\n",
    "def print_third_column(df_list):\n",
    "    # percorrer cada dataframe na lista\n",
    "    for df in df_list:\n",
    "        # selecionar a terceira coluna e imprimir\n",
    "        print(df.iloc[:, 2])\n",
    "\n",
    "print_third_column(df_list)"
   ]
  },
  {
   "cell_type": "code",
   "execution_count": null,
   "id": "c011a4df",
   "metadata": {},
   "outputs": [],
   "source": [
    "# selecionar a coluna \"Residencial\" de todos os dataframes na lista\n",
    "residencial_list = [df.iloc[:, 2] for df in df_list]\n",
    "# print(\"residencial_list\")\n",
    "# print(residencial_list)\n",
    "# populacao = df2.iloc[:, 5]\n",
    "# print(\"populacao\")\n",
    "# print(populacao)"
   ]
  },
  {
   "cell_type": "code",
   "execution_count": null,
   "id": "cc1ca001",
   "metadata": {},
   "outputs": [],
   "source": [
    "\n",
    "pio.renderers.default = 'browser'\n",
    "# Gráfico de linha para população\n",
    "fig1 = go.Figure()\n",
    "fig1.add_trace(go.Scatter(x=df2.iloc[:, 0], y=df2.iloc[:, 5], name='População'))\n",
    "\n",
    "# Gráfico de barras para consumo residencial\n",
    "fig2 = go.Figure()\n",
    "fig2.add_trace(go.Bar(x=[str(year) for year in range(2002, 2020)], y=[df.iloc[:, 2].sum() for df in df_list], name='Consumo residencial'))\n",
    "\n",
    "# Criar um mesmo gráfico com os dois plots\n",
    "fig = make_subplots(rows=1, cols=2, shared_xaxes=True)\n",
    "fig.add_trace(fig1.data[0], row=1, col=1)\n",
    "fig.add_trace(fig2.data[0], row=1, col=2)\n",
    "\n",
    "# Configurar o layout\n",
    "fig.update_layout(title='População e consumo residencial do Rio de Janeiro (2002-2019)',\n",
    "                  xaxis_title='Ano',\n",
    "                  yaxis_title='População / Consumo residencial (MWh)')\n",
    "\n",
    "# Mostrar o gráfico\n",
    "fig.show()"
   ]
  },
  {
   "cell_type": "code",
   "execution_count": null,
   "id": "03d2e240",
   "metadata": {},
   "outputs": [],
   "source": [
    "# Formtação em dicionário"
   ]
  },
  {
   "cell_type": "code",
   "execution_count": null,
   "id": "0a412481",
   "metadata": {},
   "outputs": [],
   "source": []
  },
  {
   "cell_type": "markdown",
   "id": "b4d251a7",
   "metadata": {},
   "source": [
    "# Análise Exploratória dos Dados\n",
    "def data_exploratory():\n",
    "    ...\n"
   ]
  },
  {
   "cell_type": "code",
   "execution_count": null,
   "id": "0e94b927",
   "metadata": {},
   "outputs": [],
   "source": []
  },
  {
   "cell_type": "code",
   "execution_count": null,
   "id": "df0413b9",
   "metadata": {},
   "outputs": [],
   "source": []
  },
  {
   "cell_type": "markdown",
   "id": "f79ad77c",
   "metadata": {},
   "source": []
  },
  {
   "cell_type": "code",
   "execution_count": null,
   "id": "2ae29df4",
   "metadata": {},
   "outputs": [],
   "source": [
    "# Conclusão"
   ]
  },
  {
   "cell_type": "code",
   "execution_count": null,
   "id": "999afd5d",
   "metadata": {},
   "outputs": [],
   "source": []
  },
  {
   "cell_type": "code",
   "execution_count": null,
   "id": "b66e700e",
   "metadata": {},
   "outputs": [],
   "source": []
  }
 ],
 "metadata": {
  "kernelspec": {
   "display_name": "Python 3 (ipykernel)",
   "language": "python",
   "name": "python3"
  },
  "language_info": {
   "codemirror_mode": {
    "name": "ipython",
    "version": 3
   },
   "file_extension": ".py",
   "mimetype": "text/x-python",
   "name": "python",
   "nbconvert_exporter": "python",
   "pygments_lexer": "ipython3",
   "version": "3.7.6"
  }
 },
 "nbformat": 4,
 "nbformat_minor": 5
}
